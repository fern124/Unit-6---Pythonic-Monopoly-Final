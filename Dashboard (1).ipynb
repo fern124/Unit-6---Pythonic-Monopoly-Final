{
 "cells": [
  {
   "cell_type": "code",
   "execution_count": 192,
   "id": "6aa0f65b-7da8-4418-bb9b-1b0ccc3f7f2b",
   "metadata": {},
   "outputs": [],
   "source": [
    "# imports\n",
    "import panel as pn\n",
    "pn.extension('plotly')\n",
    "import plotly.express as px\n",
    "import pandas as pd\n",
    "import hvplot.pandas\n",
    "import matplotlib.pyplot as plt\n",
    "import os\n",
    "import plotly\n",
    "from pathlib import Path\n",
    "from dotenv import load_dotenv"
   ]
  },
  {
   "cell_type": "code",
   "execution_count": 193,
   "id": "c7a5f2a3-6631-4301-b2d7-cd100bdb873e",
   "metadata": {},
   "outputs": [],
   "source": [
    "# Initialize the Panel Extensions (for Plotly)\n",
    "import panel as pn\n",
    "pn.extension(\"plotly\")"
   ]
  },
  {
   "cell_type": "code",
   "execution_count": 194,
   "id": "1259ba31-4794-40d6-8b62-9dfe62c061e8",
   "metadata": {},
   "outputs": [],
   "source": [
    "# Read the Mapbox API key\n",
    "load_dotenv()\n",
    "map_box_api = os.getenv(\"mapbox\")\n",
    "px.set_mapbox_access_token(map_box_api)"
   ]
  },
  {
   "cell_type": "code",
   "execution_count": 195,
   "id": "8bb7220b-5e73-43e8-8e25-da01197ece52",
   "metadata": {},
   "outputs": [],
   "source": [
    "# Import the CSVs to Pandas DataFrames\n",
    "file_path = Path(\"../Py Viz/toronto_neighbourhoods_census_data.csv\")\n",
    "to_data = pd.read_csv(file_path, index_col=\"year\")\n",
    "\n",
    "file_path = Path(\"../Py Viz/toronto_neighbourhoods_coordinates.csv\")\n",
    "df_neighbourhood_locations = pd.read_csv(file_path)"
   ]
  },
  {
   "cell_type": "code",
   "execution_count": 196,
   "id": "27d01426-9d1a-4da1-9be3-fa9fad610a7d",
   "metadata": {},
   "outputs": [
    {
     "data": {
      "text/html": [
       "<div>\n",
       "<style scoped>\n",
       "    .dataframe tbody tr th:only-of-type {\n",
       "        vertical-align: middle;\n",
       "    }\n",
       "\n",
       "    .dataframe tbody tr th {\n",
       "        vertical-align: top;\n",
       "    }\n",
       "\n",
       "    .dataframe thead th {\n",
       "        text-align: right;\n",
       "    }\n",
       "</style>\n",
       "<table border=\"1\" class=\"dataframe\">\n",
       "  <thead>\n",
       "    <tr style=\"text-align: right;\">\n",
       "      <th></th>\n",
       "      <th>average_house_value</th>\n",
       "    </tr>\n",
       "    <tr>\n",
       "      <th>neighbourhood</th>\n",
       "      <th></th>\n",
       "    </tr>\n",
       "  </thead>\n",
       "  <tbody>\n",
       "    <tr>\n",
       "      <th>Bridle Path-Sunnybrook-York Mills</th>\n",
       "      <td>1526485.75</td>\n",
       "    </tr>\n",
       "    <tr>\n",
       "      <th>Forest Hill South</th>\n",
       "      <td>1195992.50</td>\n",
       "    </tr>\n",
       "    <tr>\n",
       "      <th>Lawrence Park South</th>\n",
       "      <td>1094027.75</td>\n",
       "    </tr>\n",
       "    <tr>\n",
       "      <th>Rosedale-Moore Park</th>\n",
       "      <td>1093640.00</td>\n",
       "    </tr>\n",
       "    <tr>\n",
       "      <th>St.Andrew-Windfields</th>\n",
       "      <td>999107.00</td>\n",
       "    </tr>\n",
       "    <tr>\n",
       "      <th>Casa Loma</th>\n",
       "      <td>981064.25</td>\n",
       "    </tr>\n",
       "    <tr>\n",
       "      <th>Bedford Park-Nortown</th>\n",
       "      <td>930415.25</td>\n",
       "    </tr>\n",
       "    <tr>\n",
       "      <th>Forest Hill North</th>\n",
       "      <td>851680.50</td>\n",
       "    </tr>\n",
       "    <tr>\n",
       "      <th>Kingsway South</th>\n",
       "      <td>843234.25</td>\n",
       "    </tr>\n",
       "    <tr>\n",
       "      <th>Yonge-St.Clair</th>\n",
       "      <td>813220.25</td>\n",
       "    </tr>\n",
       "  </tbody>\n",
       "</table>\n",
       "</div>"
      ],
      "text/plain": [
       "                                   average_house_value\n",
       "neighbourhood                                         \n",
       "Bridle Path-Sunnybrook-York Mills           1526485.75\n",
       "Forest Hill South                           1195992.50\n",
       "Lawrence Park South                         1094027.75\n",
       "Rosedale-Moore Park                         1093640.00\n",
       "St.Andrew-Windfields                         999107.00\n",
       "Casa Loma                                    981064.25\n",
       "Bedford Park-Nortown                         930415.25\n",
       "Forest Hill North                            851680.50\n",
       "Kingsway South                               843234.25\n",
       "Yonge-St.Clair                               813220.25"
      ]
     },
     "execution_count": 196,
     "metadata": {},
     "output_type": "execute_result"
    }
   ],
   "source": [
    "# Getting the data from the top 10 expensive neighbourhoods\n",
    "neighbourhoods = to_data.groupby('neighbourhood').sum()\n",
    "neighbourhoods = neighbourhoods / 4\n",
    "top_10_expensivest = neighbourhoods.nlargest(10, 'average_house_value')\n",
    "top_10_expensivest_avg_house_value = top_10_expensivest[['average_house_value']]\n",
    "top_10_expensivest_avg_house_value"
   ]
  },
  {
   "cell_type": "code",
   "execution_count": 197,
   "id": "5492b546-f537-4e52-b242-37a2b1cc47e2",
   "metadata": {},
   "outputs": [
    {
     "data": {
      "text/html": [
       "<div>\n",
       "<style scoped>\n",
       "    .dataframe tbody tr th:only-of-type {\n",
       "        vertical-align: middle;\n",
       "    }\n",
       "\n",
       "    .dataframe tbody tr th {\n",
       "        vertical-align: top;\n",
       "    }\n",
       "\n",
       "    .dataframe thead th {\n",
       "        text-align: right;\n",
       "    }\n",
       "</style>\n",
       "<table border=\"1\" class=\"dataframe\">\n",
       "  <thead>\n",
       "    <tr style=\"text-align: right;\">\n",
       "      <th></th>\n",
       "      <th>single_detached_house</th>\n",
       "      <th>apartment_five_storeys_plus</th>\n",
       "      <th>movable_dwelling</th>\n",
       "      <th>semi_detached_house</th>\n",
       "      <th>row_house</th>\n",
       "      <th>duplex</th>\n",
       "      <th>apartment_five_storeys_less</th>\n",
       "      <th>other_house</th>\n",
       "      <th>average_house_value</th>\n",
       "      <th>shelter_costs_owned</th>\n",
       "      <th>shelter_costs_rented</th>\n",
       "    </tr>\n",
       "    <tr>\n",
       "      <th>neighbourhood</th>\n",
       "      <th></th>\n",
       "      <th></th>\n",
       "      <th></th>\n",
       "      <th></th>\n",
       "      <th></th>\n",
       "      <th></th>\n",
       "      <th></th>\n",
       "      <th></th>\n",
       "      <th></th>\n",
       "      <th></th>\n",
       "      <th></th>\n",
       "    </tr>\n",
       "  </thead>\n",
       "  <tbody>\n",
       "    <tr>\n",
       "      <th>Agincourt North</th>\n",
       "      <td>3435.00</td>\n",
       "      <td>1947.50</td>\n",
       "      <td>2.50</td>\n",
       "      <td>863.75</td>\n",
       "      <td>1406.25</td>\n",
       "      <td>512.50</td>\n",
       "      <td>547.50</td>\n",
       "      <td>10.00</td>\n",
       "      <td>329811.50</td>\n",
       "      <td>1109.00</td>\n",
       "      <td>983.50</td>\n",
       "    </tr>\n",
       "    <tr>\n",
       "      <th>Agincourt South-Malvern West</th>\n",
       "      <td>2897.50</td>\n",
       "      <td>2180.00</td>\n",
       "      <td>1.25</td>\n",
       "      <td>375.00</td>\n",
       "      <td>456.25</td>\n",
       "      <td>523.75</td>\n",
       "      <td>628.75</td>\n",
       "      <td>32.50</td>\n",
       "      <td>334189.00</td>\n",
       "      <td>1131.25</td>\n",
       "      <td>985.00</td>\n",
       "    </tr>\n",
       "    <tr>\n",
       "      <th>Alderwood</th>\n",
       "      <td>2903.75</td>\n",
       "      <td>302.50</td>\n",
       "      <td>1.25</td>\n",
       "      <td>503.75</td>\n",
       "      <td>76.25</td>\n",
       "      <td>302.50</td>\n",
       "      <td>502.50</td>\n",
       "      <td>1.25</td>\n",
       "      <td>427922.50</td>\n",
       "      <td>1166.75</td>\n",
       "      <td>1003.25</td>\n",
       "    </tr>\n",
       "    <tr>\n",
       "      <th>Annex</th>\n",
       "      <td>751.25</td>\n",
       "      <td>7235.00</td>\n",
       "      <td>1.25</td>\n",
       "      <td>1375.00</td>\n",
       "      <td>613.75</td>\n",
       "      <td>355.00</td>\n",
       "      <td>4605.00</td>\n",
       "      <td>83.75</td>\n",
       "      <td>746977.00</td>\n",
       "      <td>1692.75</td>\n",
       "      <td>1315.25</td>\n",
       "    </tr>\n",
       "    <tr>\n",
       "      <th>Banbury-Don Mills</th>\n",
       "      <td>3572.50</td>\n",
       "      <td>5388.75</td>\n",
       "      <td>1.25</td>\n",
       "      <td>273.75</td>\n",
       "      <td>626.25</td>\n",
       "      <td>32.50</td>\n",
       "      <td>1340.00</td>\n",
       "      <td>0.00</td>\n",
       "      <td>612039.00</td>\n",
       "      <td>1463.50</td>\n",
       "      <td>1242.75</td>\n",
       "    </tr>\n",
       "    <tr>\n",
       "      <th>...</th>\n",
       "      <td>...</td>\n",
       "      <td>...</td>\n",
       "      <td>...</td>\n",
       "      <td>...</td>\n",
       "      <td>...</td>\n",
       "      <td>...</td>\n",
       "      <td>...</td>\n",
       "      <td>...</td>\n",
       "      <td>...</td>\n",
       "      <td>...</td>\n",
       "      <td>...</td>\n",
       "    </tr>\n",
       "    <tr>\n",
       "      <th>Wychwood</th>\n",
       "      <td>1056.25</td>\n",
       "      <td>1236.25</td>\n",
       "      <td>0.00</td>\n",
       "      <td>992.50</td>\n",
       "      <td>298.75</td>\n",
       "      <td>325.00</td>\n",
       "      <td>1878.75</td>\n",
       "      <td>17.50</td>\n",
       "      <td>565976.50</td>\n",
       "      <td>1390.75</td>\n",
       "      <td>1017.25</td>\n",
       "    </tr>\n",
       "    <tr>\n",
       "      <th>Yonge-Eglinton</th>\n",
       "      <td>1468.75</td>\n",
       "      <td>1638.75</td>\n",
       "      <td>0.00</td>\n",
       "      <td>470.00</td>\n",
       "      <td>33.75</td>\n",
       "      <td>328.75</td>\n",
       "      <td>1385.00</td>\n",
       "      <td>6.25</td>\n",
       "      <td>809745.75</td>\n",
       "      <td>1799.50</td>\n",
       "      <td>1347.75</td>\n",
       "    </tr>\n",
       "    <tr>\n",
       "      <th>Yonge-St.Clair</th>\n",
       "      <td>565.00</td>\n",
       "      <td>3948.75</td>\n",
       "      <td>0.00</td>\n",
       "      <td>425.00</td>\n",
       "      <td>212.50</td>\n",
       "      <td>172.50</td>\n",
       "      <td>1308.75</td>\n",
       "      <td>6.25</td>\n",
       "      <td>813220.25</td>\n",
       "      <td>1680.75</td>\n",
       "      <td>1369.00</td>\n",
       "    </tr>\n",
       "    <tr>\n",
       "      <th>York University Heights</th>\n",
       "      <td>1355.00</td>\n",
       "      <td>5165.00</td>\n",
       "      <td>1.25</td>\n",
       "      <td>1316.25</td>\n",
       "      <td>662.50</td>\n",
       "      <td>188.75</td>\n",
       "      <td>1085.00</td>\n",
       "      <td>33.75</td>\n",
       "      <td>305899.50</td>\n",
       "      <td>1116.75</td>\n",
       "      <td>937.50</td>\n",
       "    </tr>\n",
       "    <tr>\n",
       "      <th>Yorkdale-Glen Park</th>\n",
       "      <td>2286.25</td>\n",
       "      <td>1347.50</td>\n",
       "      <td>0.00</td>\n",
       "      <td>73.75</td>\n",
       "      <td>450.00</td>\n",
       "      <td>377.50</td>\n",
       "      <td>722.50</td>\n",
       "      <td>7.50</td>\n",
       "      <td>430861.25</td>\n",
       "      <td>1122.50</td>\n",
       "      <td>942.50</td>\n",
       "    </tr>\n",
       "  </tbody>\n",
       "</table>\n",
       "<p>140 rows × 11 columns</p>\n",
       "</div>"
      ],
      "text/plain": [
       "                              single_detached_house  \\\n",
       "neighbourhood                                         \n",
       "Agincourt North                             3435.00   \n",
       "Agincourt South-Malvern West                2897.50   \n",
       "Alderwood                                   2903.75   \n",
       "Annex                                        751.25   \n",
       "Banbury-Don Mills                           3572.50   \n",
       "...                                             ...   \n",
       "Wychwood                                    1056.25   \n",
       "Yonge-Eglinton                              1468.75   \n",
       "Yonge-St.Clair                               565.00   \n",
       "York University Heights                     1355.00   \n",
       "Yorkdale-Glen Park                          2286.25   \n",
       "\n",
       "                              apartment_five_storeys_plus  movable_dwelling  \\\n",
       "neighbourhood                                                                 \n",
       "Agincourt North                                   1947.50              2.50   \n",
       "Agincourt South-Malvern West                      2180.00              1.25   \n",
       "Alderwood                                          302.50              1.25   \n",
       "Annex                                             7235.00              1.25   \n",
       "Banbury-Don Mills                                 5388.75              1.25   \n",
       "...                                                   ...               ...   \n",
       "Wychwood                                          1236.25              0.00   \n",
       "Yonge-Eglinton                                    1638.75              0.00   \n",
       "Yonge-St.Clair                                    3948.75              0.00   \n",
       "York University Heights                           5165.00              1.25   \n",
       "Yorkdale-Glen Park                                1347.50              0.00   \n",
       "\n",
       "                              semi_detached_house  row_house  duplex  \\\n",
       "neighbourhood                                                          \n",
       "Agincourt North                            863.75    1406.25  512.50   \n",
       "Agincourt South-Malvern West               375.00     456.25  523.75   \n",
       "Alderwood                                  503.75      76.25  302.50   \n",
       "Annex                                     1375.00     613.75  355.00   \n",
       "Banbury-Don Mills                          273.75     626.25   32.50   \n",
       "...                                           ...        ...     ...   \n",
       "Wychwood                                   992.50     298.75  325.00   \n",
       "Yonge-Eglinton                             470.00      33.75  328.75   \n",
       "Yonge-St.Clair                             425.00     212.50  172.50   \n",
       "York University Heights                   1316.25     662.50  188.75   \n",
       "Yorkdale-Glen Park                          73.75     450.00  377.50   \n",
       "\n",
       "                              apartment_five_storeys_less  other_house  \\\n",
       "neighbourhood                                                            \n",
       "Agincourt North                                    547.50        10.00   \n",
       "Agincourt South-Malvern West                       628.75        32.50   \n",
       "Alderwood                                          502.50         1.25   \n",
       "Annex                                             4605.00        83.75   \n",
       "Banbury-Don Mills                                 1340.00         0.00   \n",
       "...                                                   ...          ...   \n",
       "Wychwood                                          1878.75        17.50   \n",
       "Yonge-Eglinton                                    1385.00         6.25   \n",
       "Yonge-St.Clair                                    1308.75         6.25   \n",
       "York University Heights                           1085.00        33.75   \n",
       "Yorkdale-Glen Park                                 722.50         7.50   \n",
       "\n",
       "                              average_house_value  shelter_costs_owned  \\\n",
       "neighbourhood                                                            \n",
       "Agincourt North                         329811.50              1109.00   \n",
       "Agincourt South-Malvern West            334189.00              1131.25   \n",
       "Alderwood                               427922.50              1166.75   \n",
       "Annex                                   746977.00              1692.75   \n",
       "Banbury-Don Mills                       612039.00              1463.50   \n",
       "...                                           ...                  ...   \n",
       "Wychwood                                565976.50              1390.75   \n",
       "Yonge-Eglinton                          809745.75              1799.50   \n",
       "Yonge-St.Clair                          813220.25              1680.75   \n",
       "York University Heights                 305899.50              1116.75   \n",
       "Yorkdale-Glen Park                      430861.25              1122.50   \n",
       "\n",
       "                              shelter_costs_rented  \n",
       "neighbourhood                                       \n",
       "Agincourt North                             983.50  \n",
       "Agincourt South-Malvern West                985.00  \n",
       "Alderwood                                  1003.25  \n",
       "Annex                                      1315.25  \n",
       "Banbury-Don Mills                          1242.75  \n",
       "...                                            ...  \n",
       "Wychwood                                   1017.25  \n",
       "Yonge-Eglinton                             1347.75  \n",
       "Yonge-St.Clair                             1369.00  \n",
       "York University Heights                     937.50  \n",
       "Yorkdale-Glen Park                          942.50  \n",
       "\n",
       "[140 rows x 11 columns]"
      ]
     },
     "execution_count": 197,
     "metadata": {},
     "output_type": "execute_result"
    }
   ],
   "source": [
    "# Calculate the mean number of dwelling types units per year\n",
    "neighbourhoods"
   ]
  },
  {
   "cell_type": "code",
   "execution_count": 198,
   "id": "55bc80cd-d825-48b5-a225-11ca79ff0141",
   "metadata": {},
   "outputs": [
    {
     "data": {
      "text/html": [
       "<div>\n",
       "<style scoped>\n",
       "    .dataframe tbody tr th:only-of-type {\n",
       "        vertical-align: middle;\n",
       "    }\n",
       "\n",
       "    .dataframe tbody tr th {\n",
       "        vertical-align: top;\n",
       "    }\n",
       "\n",
       "    .dataframe thead th {\n",
       "        text-align: right;\n",
       "    }\n",
       "</style>\n",
       "<table border=\"1\" class=\"dataframe\">\n",
       "  <thead>\n",
       "    <tr style=\"text-align: right;\">\n",
       "      <th></th>\n",
       "      <th>shelter_costs_owned</th>\n",
       "      <th>shelter_costs_rented</th>\n",
       "    </tr>\n",
       "    <tr>\n",
       "      <th>year</th>\n",
       "      <th></th>\n",
       "      <th></th>\n",
       "    </tr>\n",
       "  </thead>\n",
       "  <tbody>\n",
       "    <tr>\n",
       "      <th>2001</th>\n",
       "      <td>846.878571</td>\n",
       "      <td>1085.935714</td>\n",
       "    </tr>\n",
       "    <tr>\n",
       "      <th>2006</th>\n",
       "      <td>1316.800000</td>\n",
       "      <td>925.414286</td>\n",
       "    </tr>\n",
       "    <tr>\n",
       "      <th>2011</th>\n",
       "      <td>1448.214286</td>\n",
       "      <td>1019.792857</td>\n",
       "    </tr>\n",
       "    <tr>\n",
       "      <th>2016</th>\n",
       "      <td>1761.314286</td>\n",
       "      <td>1256.321429</td>\n",
       "    </tr>\n",
       "  </tbody>\n",
       "</table>\n",
       "</div>"
      ],
      "text/plain": [
       "      shelter_costs_owned  shelter_costs_rented\n",
       "year                                           \n",
       "2001           846.878571           1085.935714\n",
       "2006          1316.800000            925.414286\n",
       "2011          1448.214286           1019.792857\n",
       "2016          1761.314286           1256.321429"
      ]
     },
     "execution_count": 198,
     "metadata": {},
     "output_type": "execute_result"
    }
   ],
   "source": [
    "# Calculate the average monthly shelter costs for owned and rented dwellings\n",
    "shelter_costs = to_data.groupby('year').sum()\n",
    "shelter_costs = shelter_costs[['shelter_costs_owned', 'shelter_costs_rented']]\n",
    "#There are a 140 neighborhoods\n",
    "shelter_costs = shelter_costs / 140\n",
    "shelter_costs"
   ]
  },
  {
   "cell_type": "code",
   "execution_count": 199,
   "id": "18a7bab3-87e9-47c4-87eb-4f0705f97fa6",
   "metadata": {},
   "outputs": [],
   "source": [
    "# Define Panel visualization functions\n",
    "#Neighbourhood Map\n",
    "df_neighbourhood_locations = df_neighbourhood_locations.set_index('neighbourhood')\n",
    "neighbourhoods_map = pd.concat([df_neighbourhood_locations, neighbourhoods], axis = 'columns', join = 'inner')"
   ]
  },
  {
   "cell_type": "code",
   "execution_count": 200,
   "id": "b9f1df22-4702-4cab-8b3e-10c63c7e763e",
   "metadata": {},
   "outputs": [],
   "source": [
    "neighbourhoods_map_no_index = neighbourhoods_map.reset_index()"
   ]
  },
  {
   "cell_type": "code",
   "execution_count": 240,
   "id": "e211ed95-c964-4053-a602-f85214a19410",
   "metadata": {},
   "outputs": [
    {
     "data": {
      "application/vnd.plotly.v1+json": {
       "config": {
        "plotlyServerURL": "https://plot.ly"
       },
       "data": [
        {
         "hovertemplate": "lat=%{lat}<br>lon=%{lon}<br>average_house_value=%{marker.color}<extra></extra>",
         "lat": [
          43.80544058,
          43.78865755,
          43.6049369,
          43.67158544,
          43.737657,
          43.76481331,
          43.65751135,
          43.77636052,
          43.79680187,
          43.73148623,
          43.69321649,
          43.76036631,
          43.69468198,
          43.76489025,
          43.67617288,
          43.69902438,
          43.73101314,
          43.68882512,
          43.70132631,
          43.66764773,
          43.68856865,
          43.6818521,
          43.7823765,
          43.65964886,
          43.71359238,
          43.74197843,
          43.72112117,
          43.67766091,
          43.68402547,
          43.68946809,
          43.78329369,
          43.75927437,
          43.66567693,
          43.73329235,
          43.65542833,
          43.68417388,
          43.67088591,
          43.7409223,
          43.72151887,
          43.72034467,
          43.65801676,
          43.64506262,
          43.71592975,
          43.70421756,
          43.69452576,
          43.74563575,
          43.67261231,
          43.74882934,
          43.77114414,
          43.65756491,
          43.64506458,
          43.79077477,
          43.80298783,
          43.6922328,
          43.75891975,
          43.74342952,
          43.69136981,
          43.73536441,
          43.63346335,
          43.66788977,
          43.68572747,
          43.72555572,
          43.65355413,
          43.69899257,
          43.65352043,
          43.79571603,
          43.65742013,
          43.75427115,
          43.73006017,
          43.7172117,
          43.70379663,
          43.64753593,
          43.59236169,
          43.8036582,
          43.71557394,
          43.63354175,
          43.82069079,
          43.61592386,
          43.78239861,
          43.65651762,
          43.68814409,
          43.7468678,
          43.70485217,
          43.70443517,
          43.6005886,
          43.79153579,
          43.78582994,
          43.63668088,
          43.67199515,
          43.66962341,
          43.70680049,
          43.69740813,
          43.68856556,
          43.69678127,
          43.6591571,
          43.75503347,
          43.7175146,
          43.67970047,
          43.78698176,
          43.6660506,
          43.65999214,
          43.72372548,
          43.67479045,
          43.64612299,
          43.68282043,
          43.82120126,
          43.65926882,
          43.71160912,
          43.73865186,
          43.63669952,
          43.64929206,
          43.75624583,
          43.81295883,
          43.63551813,
          43.78012985,
          43.69499819,
          43.67104999,
          43.73798792,
          43.70774921,
          43.6501763,
          43.6625062,
          43.72848902,
          43.63388036,
          43.76749026,
          43.7161804,
          43.77881322,
          43.70271605,
          43.67396204,
          43.74857214,
          43.77060226,
          43.77121049,
          43.68364496,
          43.76674024,
          43.67677292,
          43.69410674,
          43.67691927,
          43.70468937,
          43.68785887,
          43.76573649,
          43.71467153
         ],
         "legendgroup": "",
         "lon": [
          -79.26671217,
          -79.2656118,
          -79.54161093,
          -79.40400062,
          -79.34971798,
          -79.45605516,
          -79.38572125,
          -79.37711686,
          -79.38211795,
          -79.42022735,
          -79.47947251,
          -79.25740037,
          -79.26509259,
          -79.52197932,
          -79.33739417,
          -79.4528513,
          -79.37890418,
          -79.35562951,
          -79.48558926,
          -79.36610666,
          -79.45521208,
          -79.40800665,
          -79.15084327,
          -79.37901717,
          -79.28138178,
          -79.44630258,
          -79.23552957,
          -79.44746933,
          -79.32981941,
          -79.33140338,
          -79.35364413,
          -79.27890794,
          -79.4385407,
          -79.49049735,
          -79.43734104,
          -79.29935867,
          -79.52245776,
          -79.24559804,
          -79.54898272,
          -79.43740855,
          -79.58044524,
          -79.56893877,
          -79.33264597,
          -79.42814316,
          -79.41431786,
          -79.51346532,
          -79.32431802,
          -79.19505535,
          -79.34124067,
          -79.46630217,
          -79.46787222,
          -79.17747247,
          -79.354804,
          -79.5224162,
          -79.55617474,
          -79.54236712,
          -79.42768335,
          -79.27247049,
          -79.54331654,
          -79.47143987,
          -79.47143711,
          -79.26038221,
          -79.39723988,
          -79.54786331,
          -79.5105768,
          -79.31408424,
          -79.49604526,
          -79.42474772,
          -79.40397836,
          -79.40603941,
          -79.36607234,
          -79.43032271,
          -79.53334545,
          -79.22251662,
          -79.48075802,
          -79.57343155,
          -79.27500892,
          -79.50013664,
          -79.20704119,
          -79.36729703,
          -79.49998906,
          -79.58725926,
          -79.38492395,
          -79.39335955,
          -79.51035809,
          -79.40593745,
          -79.43142151,
          -79.4124204,
          -79.35126041,
          -79.37524658,
          -79.31222777,
          -79.27970834,
          -79.43978548,
          -79.33548836,
          -79.41840873,
          -79.33017952,
          -79.5282822,
          -79.35488729,
          -79.33494843,
          -79.54455929,
          -79.36050881,
          -79.56622841,
          -79.49442045,
          -79.44299245,
          -79.3796694,
          -79.18634345,
          -79.48570818,
          -79.49809147,
          -79.21681262,
          -79.43933783,
          -79.33565132,
          -79.37903709,
          -79.32120701,
          -79.50112821,
          -79.30291871,
          -79.29590112,
          -79.2996013,
          -79.56349102,
          -79.34998361,
          -79.41534216,
          -79.40117975,
          -79.31487383,
          -79.37720231,
          -79.17667603,
          -79.59635645,
          -79.45241823,
          -79.51572255,
          -79.46024391,
          -79.29863657,
          -79.40148379,
          -79.4275578,
          -79.55422105,
          -79.22858577,
          -79.31540738,
          -79.31116353,
          -79.42551495,
          -79.40359017,
          -79.39787077,
          -79.48888293,
          -79.45710807
         ],
         "marker": {
          "color": [
           329811.5,
           334189,
           427922.5,
           746977,
           612039,
           501576.75,
           423653.5,
           539258.75,
           565413.5,
           930415.25,
           370927.75,
           301123.25,
           437315,
           260841.75,
           511437,
           365524.5,
           1526485.75,
           443373.25,
           350943,
           494110.5,
           361714.25,
           981064.25,
           409862.75,
           406117.5,
           354555.25,
           551561.25,
           417422,
           419930.5,
           466943,
           421679.25,
           398010.25,
           262000.25,
           434699.5,
           381415.5,
           457588.75,
           478054.25,
           796162.5,
           268966.5,
           268341.25,
           568936.75,
           397781.75,
           309412,
           207799,
           851680.5,
           1195992.5,
           327597.75,
           387055.5,
           369373.5,
           369958,
           532497,
           582977.75,
           428838.5,
           395023,
           449150.5,
           352082.5,
           319783.75,
           697085.5,
           287685.75,
           451685.25,
           433269.25,
           322774.75,
           287233.5,
           440485.75,
           338344.75,
           843234.25,
           650307.75,
           336617.75,
           613216.5,
           759392.5,
           1094027.75,
           806471.75,
           540192.5,
           385830.25,
           256880.25,
           453229,
           443974.75,
           344988.25,
           393490.5,
           285013.5,
           409456,
           262308.75,
           253182.25,
           677370.25,
           468181.75,
           407812,
           559573.25,
           460568.5,
           369993,
           703063.25,
           411455.75,
           298315.75,
           422257.5,
           441202.75,
           443413.5,
           622191.75,
           454652.5,
           405431.25,
           648859.25,
           373375.25,
           765746.5,
           392578.25,
           360999.25,
           345660.25,
           508937.25,
           1093640,
           376286.75,
           552082,
           431090.5,
           329835.75,
           447478.5,
           455020.5,
           999107,
           376014.5,
           550432.25,
           353926.5,
           239414,
           666306,
           375864,
           255264.75,
           534465.75,
           618316.75,
           352133,
           376863,
           284647.5,
           343254.25,
           349320.25,
           308007.75,
           351802,
           348319.25,
           469045.5,
           466134.75,
           464278,
           298505.75,
           445382.75,
           369918.5,
           565976.5,
           809745.75,
           813220.25,
           305899.5,
           430861.25
          ],
          "coloraxis": "coloraxis"
         },
         "mode": "markers",
         "name": "",
         "showlegend": false,
         "subplot": "mapbox",
         "type": "scattermapbox"
        }
       ],
       "layout": {
        "autosize": true,
        "coloraxis": {
         "colorbar": {
          "title": {
           "text": "average_house_value"
          }
         },
         "colorscale": [
          [
           0,
           "#0d0887"
          ],
          [
           0.1111111111111111,
           "#46039f"
          ],
          [
           0.2222222222222222,
           "#7201a8"
          ],
          [
           0.3333333333333333,
           "#9c179e"
          ],
          [
           0.4444444444444444,
           "#bd3786"
          ],
          [
           0.5555555555555556,
           "#d8576b"
          ],
          [
           0.6666666666666666,
           "#ed7953"
          ],
          [
           0.7777777777777778,
           "#fb9f3a"
          ],
          [
           0.8888888888888888,
           "#fdca26"
          ],
          [
           1,
           "#f0f921"
          ]
         ]
        },
        "legend": {
         "tracegroupgap": 0
        },
        "mapbox": {
         "accesstoken": "pk.eyJ1IjoiZmVybjExMjMiLCJhIjoiY2wxYmNhZDl0MmVvcjNldjAzcTBqNDNnMyJ9.R37GH0MmgML-edU_T4sDaQ",
         "bearing": 0,
         "center": {
          "lat": 43.708840577642846,
          "lon": -79.4001855035
         },
         "domain": {
          "x": [
           0,
           1
          ],
          "y": [
           0,
           1
          ]
         },
         "pitch": 0,
         "zoom": 8
        },
        "template": {
         "data": {
          "bar": [
           {
            "error_x": {
             "color": "#2a3f5f"
            },
            "error_y": {
             "color": "#2a3f5f"
            },
            "marker": {
             "line": {
              "color": "#E5ECF6",
              "width": 0.5
             },
             "pattern": {
              "fillmode": "overlay",
              "size": 10,
              "solidity": 0.2
             }
            },
            "type": "bar"
           }
          ],
          "barpolar": [
           {
            "marker": {
             "line": {
              "color": "#E5ECF6",
              "width": 0.5
             },
             "pattern": {
              "fillmode": "overlay",
              "size": 10,
              "solidity": 0.2
             }
            },
            "type": "barpolar"
           }
          ],
          "carpet": [
           {
            "aaxis": {
             "endlinecolor": "#2a3f5f",
             "gridcolor": "white",
             "linecolor": "white",
             "minorgridcolor": "white",
             "startlinecolor": "#2a3f5f"
            },
            "baxis": {
             "endlinecolor": "#2a3f5f",
             "gridcolor": "white",
             "linecolor": "white",
             "minorgridcolor": "white",
             "startlinecolor": "#2a3f5f"
            },
            "type": "carpet"
           }
          ],
          "choropleth": [
           {
            "colorbar": {
             "outlinewidth": 0,
             "ticks": ""
            },
            "type": "choropleth"
           }
          ],
          "contour": [
           {
            "colorbar": {
             "outlinewidth": 0,
             "ticks": ""
            },
            "colorscale": [
             [
              0,
              "#0d0887"
             ],
             [
              0.1111111111111111,
              "#46039f"
             ],
             [
              0.2222222222222222,
              "#7201a8"
             ],
             [
              0.3333333333333333,
              "#9c179e"
             ],
             [
              0.4444444444444444,
              "#bd3786"
             ],
             [
              0.5555555555555556,
              "#d8576b"
             ],
             [
              0.6666666666666666,
              "#ed7953"
             ],
             [
              0.7777777777777778,
              "#fb9f3a"
             ],
             [
              0.8888888888888888,
              "#fdca26"
             ],
             [
              1,
              "#f0f921"
             ]
            ],
            "type": "contour"
           }
          ],
          "contourcarpet": [
           {
            "colorbar": {
             "outlinewidth": 0,
             "ticks": ""
            },
            "type": "contourcarpet"
           }
          ],
          "heatmap": [
           {
            "colorbar": {
             "outlinewidth": 0,
             "ticks": ""
            },
            "colorscale": [
             [
              0,
              "#0d0887"
             ],
             [
              0.1111111111111111,
              "#46039f"
             ],
             [
              0.2222222222222222,
              "#7201a8"
             ],
             [
              0.3333333333333333,
              "#9c179e"
             ],
             [
              0.4444444444444444,
              "#bd3786"
             ],
             [
              0.5555555555555556,
              "#d8576b"
             ],
             [
              0.6666666666666666,
              "#ed7953"
             ],
             [
              0.7777777777777778,
              "#fb9f3a"
             ],
             [
              0.8888888888888888,
              "#fdca26"
             ],
             [
              1,
              "#f0f921"
             ]
            ],
            "type": "heatmap"
           }
          ],
          "heatmapgl": [
           {
            "colorbar": {
             "outlinewidth": 0,
             "ticks": ""
            },
            "colorscale": [
             [
              0,
              "#0d0887"
             ],
             [
              0.1111111111111111,
              "#46039f"
             ],
             [
              0.2222222222222222,
              "#7201a8"
             ],
             [
              0.3333333333333333,
              "#9c179e"
             ],
             [
              0.4444444444444444,
              "#bd3786"
             ],
             [
              0.5555555555555556,
              "#d8576b"
             ],
             [
              0.6666666666666666,
              "#ed7953"
             ],
             [
              0.7777777777777778,
              "#fb9f3a"
             ],
             [
              0.8888888888888888,
              "#fdca26"
             ],
             [
              1,
              "#f0f921"
             ]
            ],
            "type": "heatmapgl"
           }
          ],
          "histogram": [
           {
            "marker": {
             "pattern": {
              "fillmode": "overlay",
              "size": 10,
              "solidity": 0.2
             }
            },
            "type": "histogram"
           }
          ],
          "histogram2d": [
           {
            "colorbar": {
             "outlinewidth": 0,
             "ticks": ""
            },
            "colorscale": [
             [
              0,
              "#0d0887"
             ],
             [
              0.1111111111111111,
              "#46039f"
             ],
             [
              0.2222222222222222,
              "#7201a8"
             ],
             [
              0.3333333333333333,
              "#9c179e"
             ],
             [
              0.4444444444444444,
              "#bd3786"
             ],
             [
              0.5555555555555556,
              "#d8576b"
             ],
             [
              0.6666666666666666,
              "#ed7953"
             ],
             [
              0.7777777777777778,
              "#fb9f3a"
             ],
             [
              0.8888888888888888,
              "#fdca26"
             ],
             [
              1,
              "#f0f921"
             ]
            ],
            "type": "histogram2d"
           }
          ],
          "histogram2dcontour": [
           {
            "colorbar": {
             "outlinewidth": 0,
             "ticks": ""
            },
            "colorscale": [
             [
              0,
              "#0d0887"
             ],
             [
              0.1111111111111111,
              "#46039f"
             ],
             [
              0.2222222222222222,
              "#7201a8"
             ],
             [
              0.3333333333333333,
              "#9c179e"
             ],
             [
              0.4444444444444444,
              "#bd3786"
             ],
             [
              0.5555555555555556,
              "#d8576b"
             ],
             [
              0.6666666666666666,
              "#ed7953"
             ],
             [
              0.7777777777777778,
              "#fb9f3a"
             ],
             [
              0.8888888888888888,
              "#fdca26"
             ],
             [
              1,
              "#f0f921"
             ]
            ],
            "type": "histogram2dcontour"
           }
          ],
          "mesh3d": [
           {
            "colorbar": {
             "outlinewidth": 0,
             "ticks": ""
            },
            "type": "mesh3d"
           }
          ],
          "parcoords": [
           {
            "line": {
             "colorbar": {
              "outlinewidth": 0,
              "ticks": ""
             }
            },
            "type": "parcoords"
           }
          ],
          "pie": [
           {
            "automargin": true,
            "type": "pie"
           }
          ],
          "scatter": [
           {
            "marker": {
             "colorbar": {
              "outlinewidth": 0,
              "ticks": ""
             }
            },
            "type": "scatter"
           }
          ],
          "scatter3d": [
           {
            "line": {
             "colorbar": {
              "outlinewidth": 0,
              "ticks": ""
             }
            },
            "marker": {
             "colorbar": {
              "outlinewidth": 0,
              "ticks": ""
             }
            },
            "type": "scatter3d"
           }
          ],
          "scattercarpet": [
           {
            "marker": {
             "colorbar": {
              "outlinewidth": 0,
              "ticks": ""
             }
            },
            "type": "scattercarpet"
           }
          ],
          "scattergeo": [
           {
            "marker": {
             "colorbar": {
              "outlinewidth": 0,
              "ticks": ""
             }
            },
            "type": "scattergeo"
           }
          ],
          "scattergl": [
           {
            "marker": {
             "colorbar": {
              "outlinewidth": 0,
              "ticks": ""
             }
            },
            "type": "scattergl"
           }
          ],
          "scattermapbox": [
           {
            "marker": {
             "colorbar": {
              "outlinewidth": 0,
              "ticks": ""
             }
            },
            "type": "scattermapbox"
           }
          ],
          "scatterpolar": [
           {
            "marker": {
             "colorbar": {
              "outlinewidth": 0,
              "ticks": ""
             }
            },
            "type": "scatterpolar"
           }
          ],
          "scatterpolargl": [
           {
            "marker": {
             "colorbar": {
              "outlinewidth": 0,
              "ticks": ""
             }
            },
            "type": "scatterpolargl"
           }
          ],
          "scatterternary": [
           {
            "marker": {
             "colorbar": {
              "outlinewidth": 0,
              "ticks": ""
             }
            },
            "type": "scatterternary"
           }
          ],
          "surface": [
           {
            "colorbar": {
             "outlinewidth": 0,
             "ticks": ""
            },
            "colorscale": [
             [
              0,
              "#0d0887"
             ],
             [
              0.1111111111111111,
              "#46039f"
             ],
             [
              0.2222222222222222,
              "#7201a8"
             ],
             [
              0.3333333333333333,
              "#9c179e"
             ],
             [
              0.4444444444444444,
              "#bd3786"
             ],
             [
              0.5555555555555556,
              "#d8576b"
             ],
             [
              0.6666666666666666,
              "#ed7953"
             ],
             [
              0.7777777777777778,
              "#fb9f3a"
             ],
             [
              0.8888888888888888,
              "#fdca26"
             ],
             [
              1,
              "#f0f921"
             ]
            ],
            "type": "surface"
           }
          ],
          "table": [
           {
            "cells": {
             "fill": {
              "color": "#EBF0F8"
             },
             "line": {
              "color": "white"
             }
            },
            "header": {
             "fill": {
              "color": "#C8D4E3"
             },
             "line": {
              "color": "white"
             }
            },
            "type": "table"
           }
          ]
         },
         "layout": {
          "annotationdefaults": {
           "arrowcolor": "#2a3f5f",
           "arrowhead": 0,
           "arrowwidth": 1
          },
          "autotypenumbers": "strict",
          "coloraxis": {
           "colorbar": {
            "outlinewidth": 0,
            "ticks": ""
           }
          },
          "colorscale": {
           "diverging": [
            [
             0,
             "#8e0152"
            ],
            [
             0.1,
             "#c51b7d"
            ],
            [
             0.2,
             "#de77ae"
            ],
            [
             0.3,
             "#f1b6da"
            ],
            [
             0.4,
             "#fde0ef"
            ],
            [
             0.5,
             "#f7f7f7"
            ],
            [
             0.6,
             "#e6f5d0"
            ],
            [
             0.7,
             "#b8e186"
            ],
            [
             0.8,
             "#7fbc41"
            ],
            [
             0.9,
             "#4d9221"
            ],
            [
             1,
             "#276419"
            ]
           ],
           "sequential": [
            [
             0,
             "#0d0887"
            ],
            [
             0.1111111111111111,
             "#46039f"
            ],
            [
             0.2222222222222222,
             "#7201a8"
            ],
            [
             0.3333333333333333,
             "#9c179e"
            ],
            [
             0.4444444444444444,
             "#bd3786"
            ],
            [
             0.5555555555555556,
             "#d8576b"
            ],
            [
             0.6666666666666666,
             "#ed7953"
            ],
            [
             0.7777777777777778,
             "#fb9f3a"
            ],
            [
             0.8888888888888888,
             "#fdca26"
            ],
            [
             1,
             "#f0f921"
            ]
           ],
           "sequentialminus": [
            [
             0,
             "#0d0887"
            ],
            [
             0.1111111111111111,
             "#46039f"
            ],
            [
             0.2222222222222222,
             "#7201a8"
            ],
            [
             0.3333333333333333,
             "#9c179e"
            ],
            [
             0.4444444444444444,
             "#bd3786"
            ],
            [
             0.5555555555555556,
             "#d8576b"
            ],
            [
             0.6666666666666666,
             "#ed7953"
            ],
            [
             0.7777777777777778,
             "#fb9f3a"
            ],
            [
             0.8888888888888888,
             "#fdca26"
            ],
            [
             1,
             "#f0f921"
            ]
           ]
          },
          "colorway": [
           "#636efa",
           "#EF553B",
           "#00cc96",
           "#ab63fa",
           "#FFA15A",
           "#19d3f3",
           "#FF6692",
           "#B6E880",
           "#FF97FF",
           "#FECB52"
          ],
          "font": {
           "color": "#2a3f5f"
          },
          "geo": {
           "bgcolor": "white",
           "lakecolor": "white",
           "landcolor": "#E5ECF6",
           "showlakes": true,
           "showland": true,
           "subunitcolor": "white"
          },
          "hoverlabel": {
           "align": "left"
          },
          "hovermode": "closest",
          "mapbox": {
           "style": "light"
          },
          "paper_bgcolor": "white",
          "plot_bgcolor": "#E5ECF6",
          "polar": {
           "angularaxis": {
            "gridcolor": "white",
            "linecolor": "white",
            "ticks": ""
           },
           "bgcolor": "#E5ECF6",
           "radialaxis": {
            "gridcolor": "white",
            "linecolor": "white",
            "ticks": ""
           }
          },
          "scene": {
           "xaxis": {
            "backgroundcolor": "#E5ECF6",
            "gridcolor": "white",
            "gridwidth": 2,
            "linecolor": "white",
            "showbackground": true,
            "ticks": "",
            "zerolinecolor": "white"
           },
           "yaxis": {
            "backgroundcolor": "#E5ECF6",
            "gridcolor": "white",
            "gridwidth": 2,
            "linecolor": "white",
            "showbackground": true,
            "ticks": "",
            "zerolinecolor": "white"
           },
           "zaxis": {
            "backgroundcolor": "#E5ECF6",
            "gridcolor": "white",
            "gridwidth": 2,
            "linecolor": "white",
            "showbackground": true,
            "ticks": "",
            "zerolinecolor": "white"
           }
          },
          "shapedefaults": {
           "line": {
            "color": "#2a3f5f"
           }
          },
          "ternary": {
           "aaxis": {
            "gridcolor": "white",
            "linecolor": "white",
            "ticks": ""
           },
           "baxis": {
            "gridcolor": "white",
            "linecolor": "white",
            "ticks": ""
           },
           "bgcolor": "#E5ECF6",
           "caxis": {
            "gridcolor": "white",
            "linecolor": "white",
            "ticks": ""
           }
          },
          "title": {
           "x": 0.05
          },
          "xaxis": {
           "automargin": true,
           "gridcolor": "white",
           "linecolor": "white",
           "ticks": "",
           "title": {
            "standoff": 15
           },
           "zerolinecolor": "white",
           "zerolinewidth": 2
          },
          "yaxis": {
           "automargin": true,
           "gridcolor": "white",
           "linecolor": "white",
           "ticks": "",
           "title": {
            "standoff": 15
           },
           "zerolinecolor": "white",
           "zerolinewidth": 2
          }
         }
        },
        "title": {
         "text": "Average House Value in Toronto"
        }
       }
      },
      "image/png": "[encoded data removed]",
      "text/html": [
       "<div>                            <div id=\"c0082c46-94c3-42e0-9d3d-9b7d56e5f803\" class=\"plotly-graph-div\" style=\"height:525px; width:100%;\"></div>            <script type=\"text/javascript\">                require([\"plotly\"], function(Plotly) {                    window.PLOTLYENV=window.PLOTLYENV || {};                                    if (document.getElementById(\"c0082c46-94c3-42e0-9d3d-9b7d56e5f803\")) {                    Plotly.newPlot(                        \"c0082c46-94c3-42e0-9d3d-9b7d56e5f803\",                        [{\"hovertemplate\":\"lat=%{lat}<br>lon=%{lon}<br>average_house_value=%{marker.color}<extra></extra>\",\"lat\":[43.80544058,43.78865755,43.6049369,43.67158544,43.737657,43.76481331,43.65751135,43.77636052,43.79680187,43.73148623,43.69321649,43.76036631,43.69468198,43.76489025,43.67617288,43.69902438,43.73101314,43.68882512,43.70132631,43.66764773,43.68856865,43.6818521,43.7823765,43.65964886,43.71359238,43.74197843,43.72112117,43.67766091,43.68402547,43.68946809,43.78329369,43.75927437,43.66567693,43.73329235,43.65542833,43.68417388,43.67088591,43.7409223,43.72151887,43.72034467,43.65801676,43.64506262,43.71592975,43.70421756,43.69452576,43.74563575,43.67261231,43.74882934,43.77114414,43.65756491,43.64506458,43.79077477,43.80298783,43.6922328,43.75891975,43.74342952,43.69136981,43.73536441,43.63346335,43.66788977,43.68572747,43.72555572,43.65355413,43.69899257,43.65352043,43.79571603,43.65742013,43.75427115,43.73006017,43.7172117,43.70379663,43.64753593,43.59236169,43.8036582,43.71557394,43.63354175,43.82069079,43.61592386,43.78239861,43.65651762,43.68814409,43.7468678,43.70485217,43.70443517,43.6005886,43.79153579,43.78582994,43.63668088,43.67199515,43.66962341,43.70680049,43.69740813,43.68856556,43.69678127,43.6591571,43.75503347,43.7175146,43.67970047,43.78698176,43.6660506,43.65999214,43.72372548,43.67479045,43.64612299,43.68282043,43.82120126,43.65926882,43.71160912,43.73865186,43.63669952,43.64929206,43.75624583,43.81295883,43.63551813,43.78012985,43.69499819,43.67104999,43.73798792,43.70774921,43.6501763,43.6625062,43.72848902,43.63388036,43.76749026,43.7161804,43.77881322,43.70271605,43.67396204,43.74857214,43.77060226,43.77121049,43.68364496,43.76674024,43.67677292,43.69410674,43.67691927,43.70468937,43.68785887,43.76573649,43.71467153],\"legendgroup\":\"\",\"lon\":[-79.26671217,-79.2656118,-79.54161093,-79.40400062,-79.34971798,-79.45605516,-79.38572125,-79.37711686,-79.38211795,-79.42022735,-79.47947251,-79.25740037,-79.26509259,-79.52197932,-79.33739417,-79.4528513,-79.37890418,-79.35562951,-79.48558926,-79.36610666,-79.45521208,-79.40800665,-79.15084327,-79.37901717,-79.28138178,-79.44630258,-79.23552957,-79.44746933,-79.32981941,-79.33140338,-79.35364413,-79.27890794,-79.4385407,-79.49049735,-79.43734104,-79.29935867,-79.52245776,-79.24559804,-79.54898272,-79.43740855,-79.58044524,-79.56893877,-79.33264597,-79.42814316,-79.41431786,-79.51346532,-79.32431802,-79.19505535,-79.34124067,-79.46630217,-79.46787222,-79.17747247,-79.354804,-79.5224162,-79.55617474,-79.54236712,-79.42768335,-79.27247049,-79.54331654,-79.47143987,-79.47143711,-79.26038221,-79.39723988,-79.54786331,-79.5105768,-79.31408424,-79.49604526,-79.42474772,-79.40397836,-79.40603941,-79.36607234,-79.43032271,-79.53334545,-79.22251662,-79.48075802,-79.57343155,-79.27500892,-79.50013664,-79.20704119,-79.36729703,-79.49998906,-79.58725926,-79.38492395,-79.39335955,-79.51035809,-79.40593745,-79.43142151,-79.4124204,-79.35126041,-79.37524658,-79.31222777,-79.27970834,-79.43978548,-79.33548836,-79.41840873,-79.33017952,-79.5282822,-79.35488729,-79.33494843,-79.54455929,-79.36050881,-79.56622841,-79.49442045,-79.44299245,-79.3796694,-79.18634345,-79.48570818,-79.49809147,-79.21681262,-79.43933783,-79.33565132,-79.37903709,-79.32120701,-79.50112821,-79.30291871,-79.29590112,-79.2996013,-79.56349102,-79.34998361,-79.41534216,-79.40117975,-79.31487383,-79.37720231,-79.17667603,-79.59635645,-79.45241823,-79.51572255,-79.46024391,-79.29863657,-79.40148379,-79.4275578,-79.55422105,-79.22858577,-79.31540738,-79.31116353,-79.42551495,-79.40359017,-79.39787077,-79.48888293,-79.45710807],\"marker\":{\"color\":[329811.5,334189.0,427922.5,746977.0,612039.0,501576.75,423653.5,539258.75,565413.5,930415.25,370927.75,301123.25,437315.0,260841.75,511437.0,365524.5,1526485.75,443373.25,350943.0,494110.5,361714.25,981064.25,409862.75,406117.5,354555.25,551561.25,417422.0,419930.5,466943.0,421679.25,398010.25,262000.25,434699.5,381415.5,457588.75,478054.25,796162.5,268966.5,268341.25,568936.75,397781.75,309412.0,207799.0,851680.5,1195992.5,327597.75,387055.5,369373.5,369958.0,532497.0,582977.75,428838.5,395023.0,449150.5,352082.5,319783.75,697085.5,287685.75,451685.25,433269.25,322774.75,287233.5,440485.75,338344.75,843234.25,650307.75,336617.75,613216.5,759392.5,1094027.75,806471.75,540192.5,385830.25,256880.25,453229.0,443974.75,344988.25,393490.5,285013.5,409456.0,262308.75,253182.25,677370.25,468181.75,407812.0,559573.25,460568.5,369993.0,703063.25,411455.75,298315.75,422257.5,441202.75,443413.5,622191.75,454652.5,405431.25,648859.25,373375.25,765746.5,392578.25,360999.25,345660.25,508937.25,1093640.0,376286.75,552082.0,431090.5,329835.75,447478.5,455020.5,999107.0,376014.5,550432.25,353926.5,239414.0,666306.0,375864.0,255264.75,534465.75,618316.75,352133.0,376863.0,284647.5,343254.25,349320.25,308007.75,351802.0,348319.25,469045.5,466134.75,464278.0,298505.75,445382.75,369918.5,565976.5,809745.75,813220.25,305899.5,430861.25],\"coloraxis\":\"coloraxis\"},\"mode\":\"markers\",\"name\":\"\",\"showlegend\":false,\"subplot\":\"mapbox\",\"type\":\"scattermapbox\"}],                        {\"template\":{\"data\":{\"bar\":[{\"error_x\":{\"color\":\"#2a3f5f\"},\"error_y\":{\"color\":\"#2a3f5f\"},\"marker\":{\"line\":{\"color\":\"#E5ECF6\",\"width\":0.5},\"pattern\":{\"fillmode\":\"overlay\",\"size\":10,\"solidity\":0.2}},\"type\":\"bar\"}],\"barpolar\":[{\"marker\":{\"line\":{\"color\":\"#E5ECF6\",\"width\":0.5},\"pattern\":{\"fillmode\":\"overlay\",\"size\":10,\"solidity\":0.2}},\"type\":\"barpolar\"}],\"carpet\":[{\"aaxis\":{\"endlinecolor\":\"#2a3f5f\",\"gridcolor\":\"white\",\"linecolor\":\"white\",\"minorgridcolor\":\"white\",\"startlinecolor\":\"#2a3f5f\"},\"baxis\":{\"endlinecolor\":\"#2a3f5f\",\"gridcolor\":\"white\",\"linecolor\":\"white\",\"minorgridcolor\":\"white\",\"startlinecolor\":\"#2a3f5f\"},\"type\":\"carpet\"}],\"choropleth\":[{\"colorbar\":{\"outlinewidth\":0,\"ticks\":\"\"},\"type\":\"choropleth\"}],\"contour\":[{\"colorbar\":{\"outlinewidth\":0,\"ticks\":\"\"},\"colorscale\":[[0.0,\"#0d0887\"],[0.1111111111111111,\"#46039f\"],[0.2222222222222222,\"#7201a8\"],[0.3333333333333333,\"#9c179e\"],[0.4444444444444444,\"#bd3786\"],[0.5555555555555556,\"#d8576b\"],[0.6666666666666666,\"#ed7953\"],[0.7777777777777778,\"#fb9f3a\"],[0.8888888888888888,\"#fdca26\"],[1.0,\"#f0f921\"]],\"type\":\"contour\"}],\"contourcarpet\":[{\"colorbar\":{\"outlinewidth\":0,\"ticks\":\"\"},\"type\":\"contourcarpet\"}],\"heatmap\":[{\"colorbar\":{\"outlinewidth\":0,\"ticks\":\"\"},\"colorscale\":[[0.0,\"#0d0887\"],[0.1111111111111111,\"#46039f\"],[0.2222222222222222,\"#7201a8\"],[0.3333333333333333,\"#9c179e\"],[0.4444444444444444,\"#bd3786\"],[0.5555555555555556,\"#d8576b\"],[0.6666666666666666,\"#ed7953\"],[0.7777777777777778,\"#fb9f3a\"],[0.8888888888888888,\"#fdca26\"],[1.0,\"#f0f921\"]],\"type\":\"heatmap\"}],\"heatmapgl\":[{\"colorbar\":{\"outlinewidth\":0,\"ticks\":\"\"},\"colorscale\":[[0.0,\"#0d0887\"],[0.1111111111111111,\"#46039f\"],[0.2222222222222222,\"#7201a8\"],[0.3333333333333333,\"#9c179e\"],[0.4444444444444444,\"#bd3786\"],[0.5555555555555556,\"#d8576b\"],[0.6666666666666666,\"#ed7953\"],[0.7777777777777778,\"#fb9f3a\"],[0.8888888888888888,\"#fdca26\"],[1.0,\"#f0f921\"]],\"type\":\"heatmapgl\"}],\"histogram\":[{\"marker\":{\"pattern\":{\"fillmode\":\"overlay\",\"size\":10,\"solidity\":0.2}},\"type\":\"histogram\"}],\"histogram2d\":[{\"colorbar\":{\"outlinewidth\":0,\"ticks\":\"\"},\"colorscale\":[[0.0,\"#0d0887\"],[0.1111111111111111,\"#46039f\"],[0.2222222222222222,\"#7201a8\"],[0.3333333333333333,\"#9c179e\"],[0.4444444444444444,\"#bd3786\"],[0.5555555555555556,\"#d8576b\"],[0.6666666666666666,\"#ed7953\"],[0.7777777777777778,\"#fb9f3a\"],[0.8888888888888888,\"#fdca26\"],[1.0,\"#f0f921\"]],\"type\":\"histogram2d\"}],\"histogram2dcontour\":[{\"colorbar\":{\"outlinewidth\":0,\"ticks\":\"\"},\"colorscale\":[[0.0,\"#0d0887\"],[0.1111111111111111,\"#46039f\"],[0.2222222222222222,\"#7201a8\"],[0.3333333333333333,\"#9c179e\"],[0.4444444444444444,\"#bd3786\"],[0.5555555555555556,\"#d8576b\"],[0.6666666666666666,\"#ed7953\"],[0.7777777777777778,\"#fb9f3a\"],[0.8888888888888888,\"#fdca26\"],[1.0,\"#f0f921\"]],\"type\":\"histogram2dcontour\"}],\"mesh3d\":[{\"colorbar\":{\"outlinewidth\":0,\"ticks\":\"\"},\"type\":\"mesh3d\"}],\"parcoords\":[{\"line\":{\"colorbar\":{\"outlinewidth\":0,\"ticks\":\"\"}},\"type\":\"parcoords\"}],\"pie\":[{\"automargin\":true,\"type\":\"pie\"}],\"scatter\":[{\"marker\":{\"colorbar\":{\"outlinewidth\":0,\"ticks\":\"\"}},\"type\":\"scatter\"}],\"scatter3d\":[{\"line\":{\"colorbar\":{\"outlinewidth\":0,\"ticks\":\"\"}},\"marker\":{\"colorbar\":{\"outlinewidth\":0,\"ticks\":\"\"}},\"type\":\"scatter3d\"}],\"scattercarpet\":[{\"marker\":{\"colorbar\":{\"outlinewidth\":0,\"ticks\":\"\"}},\"type\":\"scattercarpet\"}],\"scattergeo\":[{\"marker\":{\"colorbar\":{\"outlinewidth\":0,\"ticks\":\"\"}},\"type\":\"scattergeo\"}],\"scattergl\":[{\"marker\":{\"colorbar\":{\"outlinewidth\":0,\"ticks\":\"\"}},\"type\":\"scattergl\"}],\"scattermapbox\":[{\"marker\":{\"colorbar\":{\"outlinewidth\":0,\"ticks\":\"\"}},\"type\":\"scattermapbox\"}],\"scatterpolar\":[{\"marker\":{\"colorbar\":{\"outlinewidth\":0,\"ticks\":\"\"}},\"type\":\"scatterpolar\"}],\"scatterpolargl\":[{\"marker\":{\"colorbar\":{\"outlinewidth\":0,\"ticks\":\"\"}},\"type\":\"scatterpolargl\"}],\"scatterternary\":[{\"marker\":{\"colorbar\":{\"outlinewidth\":0,\"ticks\":\"\"}},\"type\":\"scatterternary\"}],\"surface\":[{\"colorbar\":{\"outlinewidth\":0,\"ticks\":\"\"},\"colorscale\":[[0.0,\"#0d0887\"],[0.1111111111111111,\"#46039f\"],[0.2222222222222222,\"#7201a8\"],[0.3333333333333333,\"#9c179e\"],[0.4444444444444444,\"#bd3786\"],[0.5555555555555556,\"#d8576b\"],[0.6666666666666666,\"#ed7953\"],[0.7777777777777778,\"#fb9f3a\"],[0.8888888888888888,\"#fdca26\"],[1.0,\"#f0f921\"]],\"type\":\"surface\"}],\"table\":[{\"cells\":{\"fill\":{\"color\":\"#EBF0F8\"},\"line\":{\"color\":\"white\"}},\"header\":{\"fill\":{\"color\":\"#C8D4E3\"},\"line\":{\"color\":\"white\"}},\"type\":\"table\"}]},\"layout\":{\"annotationdefaults\":{\"arrowcolor\":\"#2a3f5f\",\"arrowhead\":0,\"arrowwidth\":1},\"autotypenumbers\":\"strict\",\"coloraxis\":{\"colorbar\":{\"outlinewidth\":0,\"ticks\":\"\"}},\"colorscale\":{\"diverging\":[[0,\"#8e0152\"],[0.1,\"#c51b7d\"],[0.2,\"#de77ae\"],[0.3,\"#f1b6da\"],[0.4,\"#fde0ef\"],[0.5,\"#f7f7f7\"],[0.6,\"#e6f5d0\"],[0.7,\"#b8e186\"],[0.8,\"#7fbc41\"],[0.9,\"#4d9221\"],[1,\"#276419\"]],\"sequential\":[[0.0,\"#0d0887\"],[0.1111111111111111,\"#46039f\"],[0.2222222222222222,\"#7201a8\"],[0.3333333333333333,\"#9c179e\"],[0.4444444444444444,\"#bd3786\"],[0.5555555555555556,\"#d8576b\"],[0.6666666666666666,\"#ed7953\"],[0.7777777777777778,\"#fb9f3a\"],[0.8888888888888888,\"#fdca26\"],[1.0,\"#f0f921\"]],\"sequentialminus\":[[0.0,\"#0d0887\"],[0.1111111111111111,\"#46039f\"],[0.2222222222222222,\"#7201a8\"],[0.3333333333333333,\"#9c179e\"],[0.4444444444444444,\"#bd3786\"],[0.5555555555555556,\"#d8576b\"],[0.6666666666666666,\"#ed7953\"],[0.7777777777777778,\"#fb9f3a\"],[0.8888888888888888,\"#fdca26\"],[1.0,\"#f0f921\"]]},\"colorway\":[\"#636efa\",\"#EF553B\",\"#00cc96\",\"#ab63fa\",\"#FFA15A\",\"#19d3f3\",\"#FF6692\",\"#B6E880\",\"#FF97FF\",\"#FECB52\"],\"font\":{\"color\":\"#2a3f5f\"},\"geo\":{\"bgcolor\":\"white\",\"lakecolor\":\"white\",\"landcolor\":\"#E5ECF6\",\"showlakes\":true,\"showland\":true,\"subunitcolor\":\"white\"},\"hoverlabel\":{\"align\":\"left\"},\"hovermode\":\"closest\",\"mapbox\":{\"style\":\"light\"},\"paper_bgcolor\":\"white\",\"plot_bgcolor\":\"#E5ECF6\",\"polar\":{\"angularaxis\":{\"gridcolor\":\"white\",\"linecolor\":\"white\",\"ticks\":\"\"},\"bgcolor\":\"#E5ECF6\",\"radialaxis\":{\"gridcolor\":\"white\",\"linecolor\":\"white\",\"ticks\":\"\"}},\"scene\":{\"xaxis\":{\"backgroundcolor\":\"#E5ECF6\",\"gridcolor\":\"white\",\"gridwidth\":2,\"linecolor\":\"white\",\"showbackground\":true,\"ticks\":\"\",\"zerolinecolor\":\"white\"},\"yaxis\":{\"backgroundcolor\":\"#E5ECF6\",\"gridcolor\":\"white\",\"gridwidth\":2,\"linecolor\":\"white\",\"showbackground\":true,\"ticks\":\"\",\"zerolinecolor\":\"white\"},\"zaxis\":{\"backgroundcolor\":\"#E5ECF6\",\"gridcolor\":\"white\",\"gridwidth\":2,\"linecolor\":\"white\",\"showbackground\":true,\"ticks\":\"\",\"zerolinecolor\":\"white\"}},\"shapedefaults\":{\"line\":{\"color\":\"#2a3f5f\"}},\"ternary\":{\"aaxis\":{\"gridcolor\":\"white\",\"linecolor\":\"white\",\"ticks\":\"\"},\"baxis\":{\"gridcolor\":\"white\",\"linecolor\":\"white\",\"ticks\":\"\"},\"bgcolor\":\"#E5ECF6\",\"caxis\":{\"gridcolor\":\"white\",\"linecolor\":\"white\",\"ticks\":\"\"}},\"title\":{\"x\":0.05},\"xaxis\":{\"automargin\":true,\"gridcolor\":\"white\",\"linecolor\":\"white\",\"ticks\":\"\",\"title\":{\"standoff\":15},\"zerolinecolor\":\"white\",\"zerolinewidth\":2},\"yaxis\":{\"automargin\":true,\"gridcolor\":\"white\",\"linecolor\":\"white\",\"ticks\":\"\",\"title\":{\"standoff\":15},\"zerolinecolor\":\"white\",\"zerolinewidth\":2}}},\"mapbox\":{\"domain\":{\"x\":[0.0,1.0],\"y\":[0.0,1.0]},\"center\":{\"lat\":43.708840577642846,\"lon\":-79.4001855035},\"accesstoken\":\"pk.eyJ1IjoiZmVybjExMjMiLCJhIjoiY2wxYmNhZDl0MmVvcjNldjAzcTBqNDNnMyJ9.R37GH0MmgML-edU_T4sDaQ\",\"zoom\":8},\"coloraxis\":{\"colorbar\":{\"title\":{\"text\":\"average_house_value\"}},\"colorscale\":[[0.0,\"#0d0887\"],[0.1111111111111111,\"#46039f\"],[0.2222222222222222,\"#7201a8\"],[0.3333333333333333,\"#9c179e\"],[0.4444444444444444,\"#bd3786\"],[0.5555555555555556,\"#d8576b\"],[0.6666666666666666,\"#ed7953\"],[0.7777777777777778,\"#fb9f3a\"],[0.8888888888888888,\"#fdca26\"],[1.0,\"#f0f921\"]]},\"legend\":{\"tracegroupgap\":0},\"title\":{\"text\":\"Average House Value in Toronto\"}},                        {\"responsive\": true}                    ).then(function(){\n",
       "                            \n",
       "var gd = document.getElementById('c0082c46-94c3-42e0-9d3d-9b7d56e5f803');\n",
       "var x = new MutationObserver(function (mutations, observer) {{\n",
       "        var display = window.getComputedStyle(gd).display;\n",
       "        if (!display || display === 'none') {{\n",
       "            console.log([gd, 'removed!']);\n",
       "            Plotly.purge(gd);\n",
       "            observer.disconnect();\n",
       "        }}\n",
       "}});\n",
       "\n",
       "// Listen for the removal of the full notebook cells\n",
       "var notebookContainer = gd.closest('#notebook-container');\n",
       "if (notebookContainer) {{\n",
       "    x.observe(notebookContainer, {childList: true});\n",
       "}}\n",
       "\n",
       "// Listen for the clearing of the current output cell\n",
       "var outputEl = gd.closest('.output');\n",
       "if (outputEl) {{\n",
       "    x.observe(outputEl, {childList: true});\n",
       "}}\n",
       "\n",
       "                        })                };                });            </script>        </div>"
      ]
     },
     "metadata": {},
     "output_type": "display_data"
    }
   ],
   "source": [
    "map_1 = px.scatter_mapbox(\n",
    "    neighbourhoods_map_no_index,\n",
    "    title = 'Average House Value in Toronto',\n",
    "    lat=\"lat\",\n",
    "    lon=\"lon\",\n",
    "    color = \"average_house_value\",\n",
    ")\n",
    "map_1.show()"
   ]
  },
  {
   "cell_type": "code",
   "execution_count": 234,
   "id": "446161ac-dcc2-4b5c-b592-acd45799ae45",
   "metadata": {},
   "outputs": [],
   "source": [
    "# defining dwelling types per year\n",
    "\n",
    "# Helper create_bar_chart function\n",
    "\n",
    "def create_bar_2001():\n",
    "    bar_plot = df_2001.hvplot.bar(xlabel='2001',ylabel='Dwelling Types in Toronto in 2001',title='Dwelling Types in Toronto in 2001', width=650, height=500, color='red',rot=90).opts(yformatter='%.0f2')\n",
    "    return bar_plot\n",
    "\n",
    "def create_bar_2006():\n",
    "    bar_plot = df_2006.hvplot.bar(xlabel='2006',ylabel='Dwelling Types in Toronto in 2006',title='Dwelling Types in Toronto in 2006', width=650, height=500, color='black',rot=90).opts(yformatter='%.0f2')\n",
    "    return bar_plot\n",
    "def create_bar_2011():\n",
    "    bar_plot = df_2011.hvplot.bar(xlabel='2011',ylabel='Dwelling Types in Toronto in 2011',title='Dwelling Types in Toronto in 2011', width=650, height=500, color='yellow',rot=90).opts(yformatter='%.0f2')\n",
    "    return bar_plot\n",
    "\n",
    "def create_bar_2016():\n",
    "    bar_plot = df_2016.hvplot.bar(xlabel='2016',ylabel='Dwelling Types in Toronto in 2016',title='Dwelling Types in Toronto in 2016', width=650, height=500, color='purple',rot=90).opts(yformatter='%.0f2')\n",
    "    return bar_plot\n",
    "\n",
    "\n",
    "\n",
    "dwelling_types_per_year = to_data.groupby('year').sum()\n",
    "dwelling_types_per_year = dwelling_types_per_year[['single_detached_house' , 'apartment_five_storeys_plus', 'movable_dwelling', 'semi_detached_house', 'row_house', 'duplex', 'apartment_five_storeys_less', 'other_house']]"
   ]
  },
  {
   "cell_type": "code",
   "execution_count": 228,
   "id": "946f7e4b-16aa-4137-966a-f73ad283a01a",
   "metadata": {},
   "outputs": [],
   "source": [
    "df_2001 = pd.DataFrame(dwelling_types_per_year.iloc[0,:])\n",
    "df_2001.rename(columns= {2001: \"dwelling\"}, inplace= True)                        "
   ]
  },
  {
   "cell_type": "code",
   "execution_count": 230,
   "id": "dba29a5b-db6e-4faa-9739-6cbcefb2fcf8",
   "metadata": {},
   "outputs": [],
   "source": [
    "df_2006 = pd.DataFrame(dwelling_types_per_year.iloc[1,:])\n",
    "df_2006.rename(columns= {2006: \"dwelling\"}, inplace= True)   "
   ]
  },
  {
   "cell_type": "code",
   "execution_count": 231,
   "id": "d58eeed3-600d-4626-af8f-66b1966a9fd1",
   "metadata": {},
   "outputs": [],
   "source": [
    "df_2011 = pd.DataFrame(dwelling_types_per_year.iloc[2,:])\n",
    "df_2011.rename(columns= {2011: \"dwelling\"}, inplace= True)                        "
   ]
  },
  {
   "cell_type": "code",
   "execution_count": 232,
   "id": "9adbd5fc-d547-4c20-ae6b-d0f15743eaa7",
   "metadata": {},
   "outputs": [],
   "source": [
    "df_2016 = pd.DataFrame(dwelling_types_per_year.iloc[3,:])\n",
    "df_2016.rename(columns= {2016: \"dwelling\"}, inplace= True)"
   ]
  },
  {
   "cell_type": "code",
   "execution_count": 246,
   "id": "b770206c-a891-4456-b18c-e3201b4bd5e2",
   "metadata": {},
   "outputs": [],
   "source": [
    "first2_bar_charts= pn.Column(create_bar_2001, create_bar_2006)\n",
    "last2_bar_charts = pn.Column(create_bar_2011, create_bar_2016)\n",
    "all_bar_charts = first2_bar_charts + last2_bar_charts"
   ]
  },
  {
   "cell_type": "code",
   "execution_count": 257,
   "id": "36c9b420-32e2-4b4a-b996-3e02241cc295",
   "metadata": {},
   "outputs": [],
   "source": [
    "# Defining the average monthly shelter costs for owned and rented dwellings\n",
    "# Helper create_line_chart function\n",
    "shelter_avg_costs = to_data[['shelter_costs_owned', 'shelter_costs_rented']].groupby(to_data.index).mean()\n",
    "\n",
    "shelter_avg_costs\n",
    "\n",
    "#shelter_costs_owned = pd.DataFrame(shelter_costs.iloc[:,0])\n",
    "#average_monthly_owned = line_chart(shelter_costs_owned, 'Average Monthly Shelter Cost for Owned Dwellings in Toronto', 'Year', 'Avg Monthly Shelter Cost', 'gold')\n",
    "\n",
    "def owned():\n",
    "    line_plot = shelter_costs_owned.hvplot.line(xlabel=\"Year\", ylabel=\"Avg Monthly Shelter Costs\", title='Average Monthly Shelter Costs for owned Dwellling in Toronto',color=\"blue\")\n",
    "    return line_plot\n",
    "\n",
    "def rented():\n",
    "    line_plot = shelter_costs_rented.hvplot.line(xlabel=\"Year\", ylabel=\"Avg Monthly Shelter Costs\", title='Average Monthly Shelter Costs for rented Dwelling in Toronto',color=\"black\")\n",
    "    return line_plot\n",
    "\n",
    "def average_hv():\n",
    "    line_plot = average_house_value_per_year.hvplot.line(xlabel=\"Year\", ylabel=\"Avg House Value\", title='Average House Value in Toronto',color=\"red\")\n",
    "    return line_plot"
   ]
  },
  {
   "cell_type": "code",
   "execution_count": 265,
   "id": "4b5c722d-ff26-4849-9996-17e52ab22ccd",
   "metadata": {},
   "outputs": [],
   "source": [
    "all_line_charts = pn.Column(owned, rented)"
   ]
  },
  {
   "cell_type": "code",
   "execution_count": 253,
   "id": "41387350-ff55-4a09-ae18-a5d7f889d9e4",
   "metadata": {},
   "outputs": [],
   "source": [
    "shelter_costs_owned = pd.DataFrame(shelter_costs.iloc[:,0])"
   ]
  },
  {
   "cell_type": "code",
   "execution_count": 256,
   "id": "8a3c18f9-5a8b-4598-92be-615f4eb91080",
   "metadata": {},
   "outputs": [],
   "source": [
    "shelter_costs_rented = pd.DataFrame(shelter_costs.iloc[:,1])"
   ]
  },
  {
   "cell_type": "code",
   "execution_count": 259,
   "id": "acab31ba-45d7-44a8-b9e5-e25f9dffb3eb",
   "metadata": {},
   "outputs": [],
   "source": [
    "average_house_value_per_year = to_data.groupby('year').sum()\n",
    "average_house_value_per_year = average_house_value_per_year[['average_house_value']]\n",
    "average_house_value_per_year = average_house_value_per_year/140"
   ]
  },
  {
   "cell_type": "code",
   "execution_count": 212,
   "id": "40000fa4-d53b-4f98-9fcb-633fd7f0ed04",
   "metadata": {},
   "outputs": [],
   "source": [
    "# defining the mean house values by neighbourhood per year\n",
    "average_house_value = to_data[['neighbourhood', 'average_house_value']]\n",
    "linechart_for_average_house_value = average_house_value.hvplot(groupby = 'neighbourhood', xlabel = 'Year', ylabel= 'Average House Value').opts(yformatter= '%.0f')"
   ]
  },
  {
   "cell_type": "code",
   "execution_count": 213,
   "id": "352fcf8d-04bb-4eb8-8125-f05bb314c1db",
   "metadata": {},
   "outputs": [],
   "source": [
    "#Defining all dwelling types per year\n",
    "number_of_dwelling_types_per_year =  to_data[['neighbourhood', 'single_detached_house' , 'apartment_five_storeys_plus', 'movable_dwelling', 'semi_detached_house', 'row_house', 'duplex', 'apartment_five_storeys_less', 'other_house']]\n",
    "barchart_number_of_dwelling_types_per_year = number_of_dwelling_types_per_year.hvplot.bar(groupby = 'neighbourhood', rot = 90, width= 650, height= 500, xlabel= \"Year\", ylabel = \"Dwelling Type Units\")"
   ]
  },
  {
   "cell_type": "code",
   "execution_count": 214,
   "id": "d5f36e21-d16e-4145-b490-028f2465de70",
   "metadata": {},
   "outputs": [],
   "source": [
    "# Defining the top 10 expensive neighbourhoods\n",
    "top_10 = top_10_expensivest_avg_house_value.hvplot.bar(rot = 90, width= 500, height= 500, title = 'Top 10 Expensivest Neighbourhoods in Toronto', xlabel= \"Neighbourhoods\", ylabel = \"Avg House Value\").opts(yformatter= '%.0f')"
   ]
  },
  {
   "cell_type": "code",
   "execution_count": 263,
   "id": "29ecae58-bde9-4cc8-a002-52949d91ecb4",
   "metadata": {},
   "outputs": [],
   "source": [
    "#Line Chart and Map Analysis of Average House Value\n",
    "avg_hv = pn.Column(average_hv, map_1)"
   ]
  },
  {
   "cell_type": "code",
   "execution_count": 215,
   "id": "11d96d01-5f77-4947-b05c-af07bc862654",
   "metadata": {},
   "outputs": [],
   "source": [
    "#Panel Dashboard"
   ]
  },
  {
   "cell_type": "code",
   "execution_count": 217,
   "id": "4cd3c0c6-5397-418a-a52f-8a4b490556b7",
   "metadata": {},
   "outputs": [
    {
     "name": "stdout",
     "output_type": "stream",
     "text": [
      "pk.eyJ1IjoiZmVybjExMjMiLCJhIjoiY2wxYmNhZDl0MmVvcjNldjAzcTBqNDNnMyJ9.R37GH0MmgML-edU_T4sDaQ\n"
     ]
    }
   ],
   "source": [
    "load_dotenv()\n",
    "map_box_api = os.getenv(\"MAP_BOX_KEY\")\n",
    "print(map_box_api)\n",
    "px.set_mapbox_access_token(map_box_api)"
   ]
  },
  {
   "cell_type": "code",
   "execution_count": 264,
   "id": "41a2f880-595f-4bd2-98dd-7b1df92b69c6",
   "metadata": {},
   "outputs": [
    {
     "data": {},
     "metadata": {},
     "output_type": "display_data"
    },
    {
     "data": {},
     "metadata": {},
     "output_type": "display_data"
    },
    {
     "data": {
      "application/vnd.holoviews_exec.v0+json": "",
      "text/html": [
       "<div id='24783'>\n",
       "\n",
       "\n",
       "\n",
       "\n",
       "\n",
       "  <div class=\"bk-root\" id=\"c9130a02-8fe6-42b2-99f0-8686d6ab5440\" data-root-id=\"24783\"></div>\n",
       "</div>\n",
       "<script type=\"application/javascript\">(function(root) {\n",
       "  function embed_document(root) {\n",
       "    var docs_json = {\"d38cd581-0394-41a4-b0ae-d2438c25ccd2\":{\"defs\":[{\"extends\":null,\"module\":null,\"name\":\"ReactiveHTML1\",\"overrides\":[],\"properties\":[]},{\"extends\":null,\"module\":null,\"name\":\"FlexBox1\",\"overrides\":[],\"properties\":[{\"default\":\"flex-start\",\"kind\":null,\"name\":\"align_content\"},{\"default\":\"flex-start\",\"kind\":null,\"name\":\"align_items\"},{\"default\":\"row\",\"kind\":null,\"name\":\"flex_direction\"},{\"default\":\"wrap\",\"kind\":null,\"name\":\"flex_wrap\"},{\"default\":\"flex-start\",\"kind\":null,\"name\":\"justify_content\"}]},{\"extends\":null,\"module\":null,\"name\":\"TemplateActions1\",\"overrides\":[],\"properties\":[{\"default\":0,\"kind\":null,\"name\":\"open_modal\"},{\"default\":0,\"kind\":null,\"name\":\"close_modal\"}]},{\"extends\":null,\"module\":null,\"name\":\"MaterialTemplateActions1\",\"overrides\":[],\"properties\":[{\"default\":0,\"kind\":null,\"name\":\"open_modal\"},{\"default\":0,\"kind\":null,\"name\":\"close_modal\"}]}],\"roots\":{\"references\":[{\"attributes\":{\"data\":{\"Variable\":[\"single_detached_house\",\"single_detached_house\",\"single_detached_house\",\"single_detached_house\",\"apartment_five_storeys_plus\",\"apartment_five_storeys_plus\",\"apartment_five_storeys_plus\",\"apartment_five_storeys_plus\",\"movable_dwelling\",\"movable_dwelling\",\"movable_dwelling\",\"movable_dwelling\",\"semi_detached_house\",\"semi_detached_house\",\"semi_detached_house\",\"semi_detached_house\",\"row_house\",\"row_house\",\"row_house\",\"row_house\",\"duplex\",\"duplex\",\"duplex\",\"duplex\",\"apartment_five_storeys_less\",\"apartment_five_storeys_less\",\"apartment_five_storeys_less\",\"apartment_five_storeys_less\",\"other_house\",\"other_house\",\"other_house\",\"other_house\"],\"value\":[3715,3295,3385,3345,1480,2060,2130,2120,0,0,5,5,1055,775,820,805,1295,1425,1465,1440,195,600,610,645,185,565,705,735,5,0,20,15],\"xoffsets\":[[\"2001\",\"single_detached_house\"],[\"2006\",\"single_detached_house\"],[\"2011\",\"single_detached_house\"],[\"2016\",\"single_detached_house\"],[\"2001\",\"apartment_five_storeys_plus\"],[\"2006\",\"apartment_five_storeys_plus\"],[\"2011\",\"apartment_five_storeys_plus\"],[\"2016\",\"apartment_five_storeys_plus\"],[\"2001\",\"movable_dwelling\"],[\"2006\",\"movable_dwelling\"],[\"2011\",\"movable_dwelling\"],[\"2016\",\"movable_dwelling\"],[\"2001\",\"semi_detached_house\"],[\"2006\",\"semi_detached_house\"],[\"2011\",\"semi_detached_house\"],[\"2016\",\"semi_detached_house\"],[\"2001\",\"row_house\"],[\"2006\",\"row_house\"],[\"2011\",\"row_house\"],[\"2016\",\"row_house\"],[\"2001\",\"duplex\"],[\"2006\",\"duplex\"],[\"2011\",\"duplex\"],[\"2016\",\"duplex\"],[\"2001\",\"apartment_five_storeys_less\"],[\"2006\",\"apartment_five_storeys_less\"],[\"2011\",\"apartment_five_storeys_less\"],[\"2016\",\"apartment_five_storeys_less\"],[\"2001\",\"other_house\"],[\"2006\",\"other_house\"],[\"2011\",\"other_house\"],[\"2016\",\"other_house\"]],\"year\":[\"2001\",\"2006\",\"2011\",\"2016\",\"2001\",\"2006\",\"2011\",\"2016\",\"2001\",\"2006\",\"2011\",\"2016\",\"2001\",\"2006\",\"2011\",\"2016\",\"2001\",\"2006\",\"2011\",\"2016\",\"2001\",\"2006\",\"2011\",\"2016\",\"2001\",\"2006\",\"2011\",\"2016\",\"2001\",\"2006\",\"2011\",\"2016\"]},\"selected\":{\"id\":\"25405\"},\"selection_policy\":{\"id\":\"25432\"}},\"id\":\"25404\",\"type\":\"ColumnDataSource\"},{\"attributes\":{\"axis_label\":\"2006\",\"coordinates\":null,\"formatter\":{\"id\":\"24983\"},\"group\":null,\"major_label_orientation\":1.5707963267948966,\"major_label_policy\":{\"id\":\"24984\"},\"ticker\":{\"id\":\"24953\"}},\"id\":\"24952\",\"type\":\"CategoricalAxis\"},{\"attributes\":{\"children\":[{\"id\":\"24938\"},{\"id\":\"24939\"}],\"margin\":[0,0,0,0],\"name\":\"Column24800\"},\"id\":\"24937\",\"type\":\"Column\"},{\"attributes\":{\"axis\":{\"id\":\"24955\"},\"coordinates\":null,\"dimension\":1,\"grid_line_color\":null,\"group\":null,\"ticker\":null},\"id\":\"24958\",\"type\":\"Grid\"},{\"attributes\":{\"end\":1289.412142857143,\"reset_end\":1289.412142857143,\"reset_start\":892.3235714285714,\"start\":892.3235714285714,\"tags\":[[[\"shelter_costs_rented\",\"shelter_costs_rented\",null]]]},\"id\":\"25227\",\"type\":\"Range1d\"},{\"attributes\":{\"children\":[{\"id\":\"25374\"},{\"id\":\"25445\"}],\"margin\":[0,0,0,0],\"name\":\"Number of Dwelling Types per Year\"},\"id\":\"25370\",\"type\":\"Row\"},{\"attributes\":{\"bottom_units\":\"screen\",\"coordinates\":null,\"fill_alpha\":0.5,\"fill_color\":\"lightgrey\",\"group\":null,\"left_units\":\"screen\",\"level\":\"overlay\",\"line_alpha\":1.0,\"line_color\":\"black\",\"line_dash\":[4,4],\"line_width\":2,\"right_units\":\"screen\",\"syncable\":false,\"top_units\":\"screen\"},\"id\":\"25251\",\"type\":\"BoxAnnotation\"},{\"attributes\":{\"margin\":[0,0,0,0],\"name\":\"Column24798\"},\"id\":\"24867\",\"type\":\"Column\"},{\"attributes\":{},\"id\":\"25473\",\"type\":\"ResetTool\"},{\"attributes\":{\"line_width\":2,\"x\":{\"field\":\"year\"},\"y\":{\"field\":\"shelter_costs_rented\"}},\"id\":\"25267\",\"type\":\"Line\"},{\"attributes\":{},\"id\":\"24953\",\"type\":\"CategoricalTicker\"},{\"attributes\":{\"source\":{\"id\":\"24818\"}},\"id\":\"24825\",\"type\":\"CDSView\"},{\"attributes\":{\"end\":542587.5,\"reset_end\":390509.0,\"reset_start\":0.0,\"tags\":[[[\"dwelling\",\"dwelling\",null]]]},\"id\":\"24870\",\"type\":\"Range1d\"},{\"attributes\":{\"bottom_units\":\"screen\",\"coordinates\":null,\"fill_alpha\":0.5,\"fill_color\":\"lightgrey\",\"group\":null,\"left_units\":\"screen\",\"level\":\"overlay\",\"line_alpha\":1.0,\"line_color\":\"black\",\"line_dash\":[4,4],\"line_width\":2,\"right_units\":\"screen\",\"syncable\":false,\"top_units\":\"screen\"},\"id\":\"25474\",\"type\":\"BoxAnnotation\"},{\"attributes\":{\"axis\":{\"id\":\"24952\"},\"coordinates\":null,\"grid_line_color\":null,\"group\":null,\"ticker\":null},\"id\":\"24954\",\"type\":\"Grid\"},{\"attributes\":{\"margin\":[0,0,0,0],\"name\":\"Column24924\"},\"id\":\"24938\",\"type\":\"Column\"},{\"attributes\":{},\"id\":\"24956\",\"type\":\"BasicTicker\"},{\"attributes\":{\"margin\":[0,0,0,0],\"name\":\"Column28676\"},\"id\":\"25297\",\"type\":\"Column\"},{\"attributes\":{\"axis_label\":\"Dwelling Types in Toronto in 2006\",\"coordinates\":null,\"formatter\":{\"id\":\"24981\"},\"group\":null,\"major_label_policy\":{\"id\":\"24987\"},\"ticker\":{\"id\":\"24956\"}},\"id\":\"24955\",\"type\":\"LinearAxis\"},{\"attributes\":{},\"id\":\"25272\",\"type\":\"BasicTickFormatter\"},{\"attributes\":{\"children\":[{\"id\":\"24867\"},{\"id\":\"24868\"}],\"margin\":[0,0,0,0],\"name\":\"Column24674\"},\"id\":\"24866\",\"type\":\"Column\"},{\"attributes\":{\"children\":[{\"id\":\"24866\"},{\"id\":\"24937\"},{\"id\":\"25008\"},{\"id\":\"25079\"}],\"margin\":[0,0,0,0],\"name\":\"Column24925\"},\"id\":\"24865\",\"type\":\"Column\"},{\"attributes\":{\"fill_alpha\":{\"value\":0.2},\"fill_color\":{\"value\":\"black\"},\"hatch_alpha\":{\"value\":0.2},\"line_alpha\":{\"value\":0.2},\"top\":{\"field\":\"dwelling\"},\"width\":{\"value\":0.8},\"x\":{\"field\":\"index\"}},\"id\":\"24977\",\"type\":\"VBar\"},{\"attributes\":{\"fill_color\":{\"value\":\"purple\"},\"hatch_color\":{\"value\":\"purple\"},\"top\":{\"field\":\"dwelling\"},\"width\":{\"value\":0.8},\"x\":{\"field\":\"index\"}},\"id\":\"25117\",\"type\":\"VBar\"},{\"attributes\":{},\"id\":\"25269\",\"type\":\"BasicTickFormatter\"},{\"attributes\":{\"bottom\":{\"value\":0},\"fill_alpha\":{\"value\":1.0},\"fill_color\":{\"value\":\"#30a2da\"},\"hatch_alpha\":{\"value\":1.0},\"hatch_color\":{\"value\":\"#30a2da\"},\"hatch_scale\":{\"value\":12.0},\"hatch_weight\":{\"value\":1.0},\"line_alpha\":{\"value\":1.0},\"line_cap\":{\"value\":\"butt\"},\"line_color\":{\"value\":\"black\"},\"line_dash\":{\"value\":[]},\"line_dash_offset\":{\"value\":0},\"line_join\":{\"value\":\"bevel\"},\"line_width\":{\"value\":1},\"top\":{\"field\":\"average_house_value\"},\"width\":{\"value\":0.8},\"x\":{\"field\":\"neighbourhood\"}},\"id\":\"25490\",\"type\":\"VBar\"},{\"attributes\":{\"tools\":[{\"id\":\"24942\"},{\"id\":\"24959\"},{\"id\":\"24960\"},{\"id\":\"24961\"},{\"id\":\"24962\"},{\"id\":\"24963\"}]},\"id\":\"24965\",\"type\":\"Toolbar\"},{\"attributes\":{},\"id\":\"25260\",\"type\":\"Selection\"},{\"attributes\":{},\"id\":\"24959\",\"type\":\"SaveTool\"},{\"attributes\":{\"coordinates\":null,\"group\":null,\"text\":\"Average Monthly Shelter Costs for rented Dwelling in Toronto\",\"text_color\":\"black\",\"text_font_size\":\"12pt\"},\"id\":\"25230\",\"type\":\"Title\"},{\"attributes\":{\"format\":\"%.0f\"},\"id\":\"25491\",\"type\":\"PrintfTickFormatter\"},{\"attributes\":{},\"id\":\"25506\",\"type\":\"UnionRenderers\"},{\"attributes\":{},\"id\":\"24960\",\"type\":\"PanTool\"},{\"attributes\":{\"children\":[{\"id\":\"25297\"},{\"id\":\"25298\"}],\"margin\":[0,0,0,0],\"name\":\"Column28596\"},\"id\":\"25296\",\"type\":\"Column\"},{\"attributes\":{},\"id\":\"25494\",\"type\":\"AllLabels\"},{\"attributes\":{\"end\":1597812.3,\"reset_end\":484917.3,\"reset_start\":174521.7,\"start\":0.0,\"tags\":[[[\"average_house_value\",\"average_house_value\",null]]]},\"id\":\"24786\",\"type\":\"Range1d\"},{\"attributes\":{\"below\":[{\"id\":\"25238\"}],\"center\":[{\"id\":\"25241\"},{\"id\":\"25245\"}],\"height\":300,\"left\":[{\"id\":\"25242\"}],\"margin\":[5,5,5,5],\"min_border_bottom\":10,\"min_border_left\":10,\"min_border_right\":10,\"min_border_top\":10,\"renderers\":[{\"id\":\"25265\"}],\"sizing_mode\":\"fixed\",\"title\":{\"id\":\"25230\"},\"toolbar\":{\"id\":\"25252\"},\"width\":700,\"x_range\":{\"id\":\"24785\"},\"x_scale\":{\"id\":\"25234\"},\"y_range\":{\"id\":\"25227\"},\"y_scale\":{\"id\":\"25236\"}},\"id\":\"25229\",\"subtype\":\"Figure\",\"type\":\"Plot\"},{\"attributes\":{},\"id\":\"25493\",\"type\":\"CategoricalTickFormatter\"},{\"attributes\":{},\"id\":\"24961\",\"type\":\"WheelZoomTool\"},{\"attributes\":{},\"id\":\"25270\",\"type\":\"AllLabels\"},{\"attributes\":{\"source\":{\"id\":\"24972\"}},\"id\":\"24979\",\"type\":\"CDSView\"},{\"attributes\":{\"data\":{\"lat\":[{\"__ndarray__\":\"U/xKrRjnRUArfwi78uRFQGLShJJuzUVAiKL+gvbVRUAuVWmLa95FQG3/DGfl4UVA2X/4VCnURUAcpxHIX+NFQFWFipr95UVAhKk9V6HdRUCIzGRRu9hFQBE36a5T4UVAOpzQVuvYRUC/Y3js5+FFQGUFO9WM1kVAdJqBoXnZRUCGn6zWkd1FQBmI6Wsr2EVAHqN+D8XZRUCgzBZ7ddVFQINmfAQj2EVAvhr77UbXRUBYVMTpJORFQJdFtF9v1EVALWO//lbbRUD+lzEm+d5FQDjN0LJN3EVAIh27l73WRUD5o4cljtdFQMEXiX1A2EVASdu290LkRUCm6w3nL+FFQJ0G0uY01UVAGNQShtzdRUBnHFUT5dNFQFCwewKT10VAC2bplt/VRUBFsLuK1t5FQGYM97pa3EVAvL8PQTTcRUC/NajkOdRFQNNidGmR0kVA4j0HlqPbRUAFvA7NI9pFQPu2WDjm2EVAPX0E/nDfRUAjKwEpGNZFQOrKyqPZ30VAqebm2bTiRUA9uUMWK9RFQDl05XmR0kVActOPGzjlRUDPdyJOyOZFQPibmhWb2EVA7URJSCThRUD3o9GyKN9FQCSyUc5+2EVA0svFayDeRUB4u7lTFdFFQNK9d2l91UVANs/w6sXXRUCyaYQC39xFQARCZ6mn00VABCaqlnjZRUAWD7WOptNFQGHg2gXa5UVAgQrDVybURUB9yAD1i+BFQJAhlZxy3UVAf+fNl83bRUBIcQoCFtpFQN8qFXXi0kVABfoCgtLLRUDEFJtF3uZFQL4VR+2X20VAR3Nk5RfRRUDWllNlDOlFQFfD0ZfWzkVAZDE9oyXkRUDqkvXECNRFQCu+BBsV2EVAvbczXZnfRUATVY2YONpFQK+mgO4q2kVA26xVFuDMRUDu1HULUeVFQEJCUhOW5EVAVMtSwn7RRUAKKeTvA9ZFQAJLSzi21UVAY6w+cHjaRUBCKGurRNlFQAytkOoi2EVAxI7vIDDZRUCOtoVCX9RFQIiEzu+k4EVAhrO2hNfbRUDo3MxsANdFQNDffNG75EVAlz1kJUHVRUBidVifetRFQOLwWQmj3EVAmjORiF/WRUAzn3sotNJFQAHy66hm10VAJ5F1Hx3pRUAVlrLrYtRFQLn39AEW20VAL+rmJIzeRUCz469ef9FFQFGgkQAc00VADsvRqczgRUAW7PEID+hFQLsueKhY0UVAEzGAS9vjRUAjamCz9dhFQPyDUPfk1UVAHZ9eY3beRUAkXK+Gl9pFQDCRHPo400VA2TLPAM3URUCSMtIgP91FQGvj2/0i0UVAalnvHj3iRUCiBKLMq9tFQNbLziaw40VA6Y96mfLZRUDRRVxjRNZFQJX/PTbR30VAO3ZIGKPiRUDqcHwGt+JFQDujlK2B10VA4alPiyTiRUD1G7t+oNZFQNkdWn3Y2EVAUldnSqXWRUCS/uJCM9pFQO50a8IL2EVAsfM+pwPiRUC7XVBbettFQA==\",\"dtype\":\"float64\",\"order\":\"little\",\"shape\":[140]}],\"lon\":[{\"__ndarray__\":\"GObrzxHRU8Chm6LI/9BTwGXg48Cp4lPArp1qJdvZU8AVu4XHYdZTwNBX+wEw3VPA04cuqK/YU8AYHsGuIthTwLud2J502FPAoEhBAeXaU8D8cXetr95TwDbIZj950FPAkB3pRvfQU8CnJfMbaOFTwLWAt92X1VPA39wEhPvcU8C8WlH3P9hTwFK8RqLC1lPASb/55BPfU8AP46BKbtdTwAYW2TEi3VPAPJPsxxzaU8Aw3odqp8lTwHBxO9FB2FPAlLK5KALSU8AbTrI4kNxTwAUZnuoSz1PACZRmVqPcU8BO4t7CG9VTwJG4hbY11VPAbzH9GqLWU8BDObCg2dFTwMIdAw0R3FPAlEH/TmTfU8Dq/0Vl/dtTwCRbRLEo01PAcy+s8m/hU8DAcNfgt89TwAYea4gi41PAaU9ugP7bU8DPusoDJuVTwOWkKH5p5FPA9ZJSEkrVU8AxjZGyZttTwFG2Di+E2lPA7kGlndzgU8DTWV6gwdRTwDtKb8l7zFPAxW0b49bVU8AMjQ7l191TwNjmUp7x3VPAyKV9tVvLU8BcH9YbtdZTwKN5W0Rv4VPAU8rvXZjjU8DYtJQktuJTwMxS/Clf21PANesQKHDRU8BCq7yyxeJTwI3rIRIs3lPAh2SOBizeU8BBGiUaqtBTwBZR0WBs2VPANshFMRDjU8AqhlBKreBTwEy/yPQZ1FPAS0KeNL/fU8DWnA8RL9tTwHgfDcja2VPAlLW4jPzZU8BLEa66bddTwEWLQ2iK21PAG070VCLiU8DabVm2Pc5TwCRMSb3E3lPAp28+GrPkU8CIYAO/mdFTwDQVHD0C4FPAZf6wKUDNU8Am8WbLgddTwLNDHdL/31PASP7cp5XlU8CeLBCYothTwG+0iM0s2VPAI3P6tKngU8Av/hHh+tlTwGwP92ic21PAAo2IGGXaU8AXVfEMe9ZTwEtCOwoE2FPAZUMvivvTU8D7Lc+95tFTwMN2/3El3FPA4JgrpHjVU8B/7Wg1x9pTwGANSKkh1VPAxgMlYM/hU8A6FC55ttZTwJQsistv1VPAHFI1D9riU8CsN4uTEtdTwAfBFRY95FPAUM6rlaTfU8D/RwH9WdxTwK8S4oBM2FPAueQTDe3LU8D7H8PXFd9TwEOEC7vg31PApRAKQuDNU8C472ocHtxTwJeQrE971VPAWGHIJELYU8CKzNinjtRTwGVDDnwS4FPA+jIoBWPTU8D8T0AL8NJTwLRV7qos01PAV5+jPBDkU8CBxachZtZTwGZ2SPeU2lPAUYTU7azZU8DXjZDkJtRTwD5bKBUk2FPAk7X6qE7LU8COYD60KuZTwLZ9l2v03FPA04MnmQHhU8CGaN+idN1TwIlij9wc01PAJfsQ6bHZU8CVCWQbXdtTwE4gkVt441PAyJ41JqHOU8AXgW+iL9RTwLVDcBrq01PAYY0OozvbU8DGSN1r1NlTwMxL9rZ22VPADfug20nfU8DQ2DRCQd1TwA==\",\"dtype\":\"float64\",\"order\":\"little\",\"shape\":[140]}],\"marker.color\":[{\"__ndarray__\":\"AAAAAE4hFEEAAAAAtGUUQQAAAABKHhpBAAAAAMLLJkEAAAAAjq0iQQAAAAAjnR5BAAAAAJbbGUEAAACA9XQgQQAAAABLQSFBAAAAgN5kLEEAAAAAv6MWQQAAAAANYRJBAAAAAAyxGkEAAAAATtcPQQAAAAA0Nx9BAAAAAFJPFkEAAADA1Uo3QQAAAAC1DxtBAAAAAHxrFUEAAAAAeigeQQAAAADJExZBAAAAgJDwLUEAAAAAGwQZQQAAAACWyRhBAAAAAO2jFUEAAACAEtUgQQAAAAA4ehlBAAAAAGqhGUEAAAAA/H8cQQAAAAC9vBlBAAAAAOlKGEEAAAAAgvsPQQAAAAAuiBpBAAAAAJ5HF0EAAAAA0+0bQQAAAACZLR1BAAAAAAVMKEEAAAAAmmoQQQAAAADVYBBBAAAAgNFcIUEAAAAAV0cYQQAAAACQ4hJBAAAAALhdCUEAAAAAwf0pQQAAAIDYPzJBAAAAALf+E0EAAAAAvp8XQQAAAAB2ixZBAAAAAJiUFkEAAAAAIkAgQQAAAICDyiFBAAAAAJosGkEAAAAAPBwYQQAAAAD6aRtBAAAAAEp9FUEAAAAAn4QTQQAAAAD7RSVBAAAAABePEUEAAAAAlZEbQQAAAADVcRpBAAAAAFuzE0EAAAAABogRQQAAAACX4hpBAAAAAKOmFEEAAACAxLspQQAAAICH2CNBAAAAAKeLFEEAAAAAwbYiQQAAAADBLCdBAAAAwIuxMEEAAACAj5woQQAAAABBfCBBAAAAAJmMF0EAAAAAglsPQQAAAAC0qRtBAAAAABsZG0EAAAAAcQ4VQQAAAABKBBhBAAAAAFZlEUEAAAAAwP0YQQAAAACTAhBBAAAAAPLnDkEAAACA9KskQQAAAABXkxxBAAAAABDkGEEAAACAqhMhQQAAAABiHBxBAAAAACSVFkEAAACArnQlQQAAAAD/HBlBAAAAAC81EkEAAAAAxsUZQQAAAADL7RpBAAAAAFYQG0EAAACA3/wiQQAAAADyvxtBAAAAAN2+GEEAAACANs0jQQAAAAD9yRZBAAAAAGVeJ0EAAAAACfYXQQAAAACdCBZBAAAAAPEYFUEAAAAAJRAfQQAAAAAIsDBBAAAAAHv3FkEAAAAAJNkgQQAAAADKTxpBAAAAAK8hFEEAAAAA2k8bQQAAAACyxRtBAAAAAIZ9LkEAAAAAOvMWQQAAAIBAzCBBAAAAABqaFUEAAAAAsDkNQQAAAACEVSRBAAAAAODwFkEAAAAABikPQQAAAICDTyBBAAAAgJneIkEAAAAAFH4VQQAAAAB8ABdBAAAAAJ5fEUEAAAAAWfMUQQAAAAAhUhVBAAAAAJ/MEkEAAAAA6HgVQQAAAAB9QhVBAAAAANagHEEAAAAAW3McQQAAAABYVhxBAAAAACc4EkEAAAAAGy8bQQAAAAD6kxZBAAAAALFFIUEAAACAI7YoQQAAAIBI0ShBAAAAAK6rEkEAAAAANUwaQQ==\",\"dtype\":\"float64\",\"order\":\"little\",\"shape\":[140]}]},\"selected\":{\"id\":\"25533\"},\"selection_policy\":{\"id\":\"25532\"}},\"id\":\"25367\",\"type\":\"ColumnDataSource\"},{\"attributes\":{\"overlay\":{\"id\":\"24964\"}},\"id\":\"24962\",\"type\":\"BoxZoomTool\"},{\"attributes\":{},\"id\":\"25273\",\"type\":\"AllLabels\"},{\"attributes\":{},\"id\":\"25236\",\"type\":\"LinearScale\"},{\"attributes\":{\"children\":[{\"id\":\"25302\"}],\"margin\":[0,0,0,0],\"name\":\"Row28675\"},\"id\":\"25298\",\"type\":\"Row\"},{\"attributes\":{},\"id\":\"24963\",\"type\":\"ResetTool\"},{\"attributes\":{},\"id\":\"25281\",\"type\":\"UnionRenderers\"},{\"attributes\":{\"child\":{\"id\":\"25295\"},\"name\":\"Column28679\",\"title\":\"Line Chart and Map Analysis of Average House Value\"},\"id\":\"25369\",\"type\":\"Panel\"},{\"attributes\":{\"callback\":null,\"renderers\":[{\"id\":\"25265\"}],\"tags\":[\"hv_created\"],\"tooltips\":[[\"year\",\"@{year}\"],[\"shelter_costs_rented\",\"@{shelter_costs_rented}\"]]},\"id\":\"25228\",\"type\":\"HoverTool\"},{\"attributes\":{\"children\":[{\"id\":\"24861\"},{\"id\":\"24863\"}],\"margin\":[0,0,0,0],\"name\":\"Column28688\"},\"id\":\"24860\",\"type\":\"Column\"},{\"attributes\":{\"bottom_units\":\"screen\",\"coordinates\":null,\"fill_alpha\":0.5,\"fill_color\":\"lightgrey\",\"group\":null,\"left_units\":\"screen\",\"level\":\"overlay\",\"line_alpha\":1.0,\"line_color\":\"black\",\"line_dash\":[4,4],\"line_width\":2,\"right_units\":\"screen\",\"syncable\":false,\"top_units\":\"screen\"},\"id\":\"24964\",\"type\":\"BoxAnnotation\"},{\"attributes\":{},\"id\":\"25497\",\"type\":\"AllLabels\"},{\"attributes\":{\"format\":\"%.0f2\"},\"id\":\"24981\",\"type\":\"PrintfTickFormatter\"},{\"attributes\":{},\"id\":\"25532\",\"type\":\"UnionRenderers\"},{\"attributes\":{\"callback\":null,\"renderers\":[{\"id\":\"25120\"}],\"tags\":[\"hv_created\"],\"tooltips\":[[\"index\",\"@{index}\"],[\"dwelling\",\"@{dwelling}\"]]},\"id\":\"25084\",\"type\":\"HoverTool\"},{\"attributes\":{\"axis\":{\"id\":\"25242\"},\"coordinates\":null,\"dimension\":1,\"grid_line_color\":null,\"group\":null,\"ticker\":null},\"id\":\"25245\",\"type\":\"Grid\"},{\"attributes\":{\"fill_alpha\":{\"value\":0.2},\"fill_color\":{\"value\":\"purple\"},\"hatch_alpha\":{\"value\":0.2},\"hatch_color\":{\"value\":\"purple\"},\"line_alpha\":{\"value\":0.2},\"top\":{\"field\":\"dwelling\"},\"width\":{\"value\":0.8},\"x\":{\"field\":\"index\"}},\"id\":\"25119\",\"type\":\"VBar\"},{\"attributes\":{\"axis_label\":\"Year\",\"coordinates\":null,\"formatter\":{\"id\":\"25269\"},\"group\":null,\"major_label_policy\":{\"id\":\"25270\"},\"ticker\":{\"id\":\"25239\"}},\"id\":\"25238\",\"type\":\"LinearAxis\"},{\"attributes\":{\"margin\":[0,0,0,0],\"name\":\"Column25177\"},\"id\":\"25080\",\"type\":\"Column\"},{\"attributes\":{},\"id\":\"25234\",\"type\":\"LinearScale\"},{\"attributes\":{},\"id\":\"25115\",\"type\":\"Selection\"},{\"attributes\":{},\"id\":\"25239\",\"type\":\"BasicTicker\"},{\"attributes\":{},\"id\":\"25533\",\"type\":\"Selection\"},{\"attributes\":{\"below\":[{\"id\":\"25094\"}],\"center\":[{\"id\":\"25096\"},{\"id\":\"25100\"}],\"height\":500,\"left\":[{\"id\":\"25097\"}],\"margin\":[5,5,5,5],\"min_border_bottom\":10,\"min_border_left\":10,\"min_border_right\":10,\"min_border_top\":10,\"renderers\":[{\"id\":\"25120\"}],\"sizing_mode\":\"fixed\",\"title\":{\"id\":\"25086\"},\"toolbar\":{\"id\":\"25107\"},\"width\":650,\"x_range\":{\"id\":\"24869\"},\"x_scale\":{\"id\":\"25090\"},\"y_range\":{\"id\":\"24870\"},\"y_scale\":{\"id\":\"25092\"}},\"id\":\"25085\",\"subtype\":\"Figure\",\"type\":\"Plot\"},{\"attributes\":{\"coordinates\":null,\"data_source\":{\"id\":\"24972\"},\"glyph\":{\"id\":\"24975\"},\"group\":null,\"hover_glyph\":null,\"muted_glyph\":{\"id\":\"24977\"},\"nonselection_glyph\":{\"id\":\"24976\"},\"selection_glyph\":{\"id\":\"24980\"},\"view\":{\"id\":\"24979\"}},\"id\":\"24978\",\"type\":\"GlyphRenderer\"},{\"attributes\":{\"bottom\":{\"value\":0},\"fill_alpha\":{\"value\":1.0},\"fill_color\":{\"value\":\"black\"},\"hatch_alpha\":{\"value\":1.0},\"hatch_color\":{\"value\":\"black\"},\"hatch_scale\":{\"value\":12.0},\"hatch_weight\":{\"value\":1.0},\"line_alpha\":{\"value\":1.0},\"line_cap\":{\"value\":\"butt\"},\"line_color\":{\"value\":\"black\"},\"line_dash\":{\"value\":[]},\"line_dash_offset\":{\"value\":0},\"line_join\":{\"value\":\"bevel\"},\"line_width\":{\"value\":1},\"top\":{\"field\":\"dwelling\"},\"width\":{\"value\":0.8},\"x\":{\"field\":\"index\"}},\"id\":\"24980\",\"type\":\"VBar\"},{\"attributes\":{\"axis\":{\"id\":\"25238\"},\"coordinates\":null,\"grid_line_color\":null,\"group\":null,\"ticker\":null},\"id\":\"25241\",\"type\":\"Grid\"},{\"attributes\":{\"coordinates\":null,\"group\":null,\"text\":\"Dwelling Types in Toronto in 2016\",\"text_color\":\"black\",\"text_font_size\":\"12pt\"},\"id\":\"25086\",\"type\":\"Title\"},{\"attributes\":{\"margin\":[5,5,5,5],\"name\":\"VSpacer28687\",\"sizing_mode\":\"stretch_height\"},\"id\":\"24863\",\"type\":\"Spacer\"},{\"attributes\":{},\"id\":\"24902\",\"type\":\"Selection\"},{\"attributes\":{\"args\":{\"model\":{\"id\":\"25368\"}},\"code\":\"try { model.visibility = (cb_obj.active == 3); } catch { }\",\"tags\":[\"plotly_tab_fix25368\"]},\"id\":\"26076\",\"type\":\"CustomJS\"},{\"attributes\":{},\"id\":\"24983\",\"type\":\"CategoricalTickFormatter\"},{\"attributes\":{},\"id\":\"25243\",\"type\":\"BasicTicker\"},{\"attributes\":{},\"id\":\"25092\",\"type\":\"LinearScale\"},{\"attributes\":{\"axis_label\":\"Avg Monthly Shelter Costs\",\"coordinates\":null,\"formatter\":{\"id\":\"25272\"},\"group\":null,\"major_label_policy\":{\"id\":\"25273\"},\"ticker\":{\"id\":\"25243\"}},\"id\":\"25242\",\"type\":\"LinearAxis\"},{\"attributes\":{\"coordinates\":null,\"data_source\":{\"id\":\"25114\"},\"glyph\":{\"id\":\"25117\"},\"group\":null,\"hover_glyph\":null,\"muted_glyph\":{\"id\":\"25119\"},\"nonselection_glyph\":{\"id\":\"25118\"},\"selection_glyph\":{\"id\":\"25122\"},\"view\":{\"id\":\"25121\"}},\"id\":\"25120\",\"type\":\"GlyphRenderer\"},{\"attributes\":{},\"id\":\"24984\",\"type\":\"AllLabels\"},{\"attributes\":{\"children\":[{\"id\":\"25014\"}],\"margin\":[0,0,0,0],\"name\":\"Row25050\"},\"id\":\"25010\",\"type\":\"Row\"},{\"attributes\":{\"callback\":null,\"renderers\":[{\"id\":\"24907\"}],\"tags\":[\"hv_created\"],\"tooltips\":[[\"index\",\"@{index}\"],[\"dwelling\",\"@{dwelling}\"]]},\"id\":\"24871\",\"type\":\"HoverTool\"},{\"attributes\":{\"line_alpha\":0.1,\"line_width\":2,\"x\":{\"field\":\"year\"},\"y\":{\"field\":\"shelter_costs_rented\"}},\"id\":\"25263\",\"type\":\"Line\"},{\"attributes\":{\"axis_label\":\"2016\",\"coordinates\":null,\"formatter\":{\"id\":\"25125\"},\"group\":null,\"major_label_orientation\":1.5707963267948966,\"major_label_policy\":{\"id\":\"25126\"},\"ticker\":{\"id\":\"25095\"}},\"id\":\"25094\",\"type\":\"CategoricalAxis\"},{\"attributes\":{\"line_width\":2,\"x\":{\"field\":\"year\"},\"y\":{\"field\":\"shelter_costs_rented\"}},\"id\":\"25262\",\"type\":\"Line\"},{\"attributes\":{\"source\":{\"id\":\"25259\"}},\"id\":\"25266\",\"type\":\"CDSView\"},{\"attributes\":{\"axis\":{\"id\":\"25097\"},\"coordinates\":null,\"dimension\":1,\"grid_line_color\":null,\"group\":null,\"ticker\":null},\"id\":\"25100\",\"type\":\"Grid\"},{\"attributes\":{},\"id\":\"25090\",\"type\":\"CategoricalScale\"},{\"attributes\":{},\"id\":\"24996\",\"type\":\"UnionRenderers\"},{\"attributes\":{\"tools\":[{\"id\":\"25228\"},{\"id\":\"25246\"},{\"id\":\"25247\"},{\"id\":\"25248\"},{\"id\":\"25249\"},{\"id\":\"25250\"}]},\"id\":\"25252\",\"type\":\"Toolbar\"},{\"attributes\":{\"line_alpha\":0.2,\"line_width\":2,\"x\":{\"field\":\"year\"},\"y\":{\"field\":\"shelter_costs_rented\"}},\"id\":\"25264\",\"type\":\"Line\"},{\"attributes\":{},\"id\":\"25095\",\"type\":\"CategoricalTicker\"},{\"attributes\":{},\"id\":\"25246\",\"type\":\"SaveTool\"},{\"attributes\":{},\"id\":\"24987\",\"type\":\"AllLabels\"},{\"attributes\":{\"axis\":{\"id\":\"25094\"},\"coordinates\":null,\"grid_line_color\":null,\"group\":null,\"ticker\":null},\"id\":\"25096\",\"type\":\"Grid\"},{\"attributes\":{},\"id\":\"25247\",\"type\":\"PanTool\"},{\"attributes\":{\"data\":{\"average_house_value\":{\"__ndarray__\":\"i6/4imuxEUGogzqo7uEZQfEVX3HxLyBBqIM6qAhEJEE=\",\"dtype\":\"float64\",\"order\":\"little\",\"shape\":[4]},\"year\":[2001,2006,2011,2016]},\"selected\":{\"id\":\"25333\"},\"selection_policy\":{\"id\":\"25354\"}},\"id\":\"25332\",\"type\":\"ColumnDataSource\"},{\"attributes\":{},\"id\":\"25098\",\"type\":\"BasicTicker\"},{\"attributes\":{\"fill_color\":{\"value\":\"red\"},\"hatch_color\":{\"value\":\"red\"},\"top\":{\"field\":\"dwelling\"},\"width\":{\"value\":0.8},\"x\":{\"field\":\"index\"}},\"id\":\"24904\",\"type\":\"VBar\"},{\"attributes\":{},\"id\":\"25248\",\"type\":\"WheelZoomTool\"},{\"attributes\":{\"axis_label\":\"Dwelling Types in Toronto in 2016\",\"coordinates\":null,\"formatter\":{\"id\":\"25123\"},\"group\":null,\"major_label_policy\":{\"id\":\"25129\"},\"ticker\":{\"id\":\"25098\"}},\"id\":\"25097\",\"type\":\"LinearAxis\"},{\"attributes\":{\"overlay\":{\"id\":\"25251\"}},\"id\":\"25249\",\"type\":\"BoxZoomTool\"},{\"attributes\":{},\"id\":\"24925\",\"type\":\"UnionRenderers\"},{\"attributes\":{\"child\":{\"id\":\"24865\"},\"name\":\"Column24925\",\"title\":\"Yearly Market Analysis\"},\"id\":\"25150\",\"type\":\"Panel\"},{\"attributes\":{\"factors\":[\"single_detached_house\",\"apartment_five_storeys_plus\",\"movable_dwelling\",\"semi_detached_house\",\"row_house\",\"duplex\",\"apartment_five_storeys_less\",\"other_house\"],\"tags\":[[[\"index\",\"index\",null]]]},\"id\":\"24869\",\"type\":\"FactorRange\"},{\"attributes\":{\"fill_alpha\":{\"value\":0.1},\"fill_color\":{\"value\":\"purple\"},\"hatch_alpha\":{\"value\":0.1},\"hatch_color\":{\"value\":\"purple\"},\"line_alpha\":{\"value\":0.1},\"top\":{\"field\":\"dwelling\"},\"width\":{\"value\":0.8},\"x\":{\"field\":\"index\"}},\"id\":\"25118\",\"type\":\"VBar\"},{\"attributes\":{\"coordinates\":null,\"data_source\":{\"id\":\"25259\"},\"glyph\":{\"id\":\"25262\"},\"group\":null,\"hover_glyph\":null,\"muted_glyph\":{\"id\":\"25264\"},\"nonselection_glyph\":{\"id\":\"25263\"},\"selection_glyph\":{\"id\":\"25267\"},\"view\":{\"id\":\"25266\"}},\"id\":\"25265\",\"type\":\"GlyphRenderer\"},{\"attributes\":{\"fill_color\":{\"value\":\"yellow\"},\"hatch_color\":{\"value\":\"yellow\"},\"top\":{\"field\":\"dwelling\"},\"width\":{\"value\":0.8},\"x\":{\"field\":\"index\"}},\"id\":\"25046\",\"type\":\"VBar\"},{\"attributes\":{},\"id\":\"25250\",\"type\":\"ResetTool\"},{\"attributes\":{\"below\":[{\"id\":\"24881\"}],\"center\":[{\"id\":\"24883\"},{\"id\":\"24887\"}],\"height\":500,\"left\":[{\"id\":\"24884\"}],\"margin\":[5,5,5,5],\"min_border_bottom\":10,\"min_border_left\":10,\"min_border_right\":10,\"min_border_top\":10,\"renderers\":[{\"id\":\"24907\"}],\"sizing_mode\":\"fixed\",\"title\":{\"id\":\"24873\"},\"toolbar\":{\"id\":\"24894\"},\"width\":650,\"x_range\":{\"id\":\"24869\"},\"x_scale\":{\"id\":\"24877\"},\"y_range\":{\"id\":\"24870\"},\"y_scale\":{\"id\":\"24879\"}},\"id\":\"24872\",\"subtype\":\"Figure\",\"type\":\"Plot\"},{\"attributes\":{},\"id\":\"25176\",\"type\":\"PanTool\"},{\"attributes\":{\"tools\":[{\"id\":\"25084\"},{\"id\":\"25101\"},{\"id\":\"25102\"},{\"id\":\"25103\"},{\"id\":\"25104\"},{\"id\":\"25105\"}]},\"id\":\"25107\",\"type\":\"Toolbar\"},{\"attributes\":{},\"id\":\"25177\",\"type\":\"WheelZoomTool\"},{\"attributes\":{\"coordinates\":null,\"group\":null,\"text\":\"Dwelling Types in Toronto in 2001\",\"text_color\":\"black\",\"text_font_size\":\"12pt\"},\"id\":\"24873\",\"type\":\"Title\"},{\"attributes\":{},\"id\":\"25101\",\"type\":\"SaveTool\"},{\"attributes\":{\"overlay\":{\"id\":\"25180\"}},\"id\":\"25178\",\"type\":\"BoxZoomTool\"},{\"attributes\":{\"bottom_units\":\"screen\",\"coordinates\":null,\"fill_alpha\":0.5,\"fill_color\":\"lightgrey\",\"group\":null,\"left_units\":\"screen\",\"level\":\"overlay\",\"line_alpha\":1.0,\"line_color\":\"black\",\"line_dash\":[4,4],\"line_width\":2,\"right_units\":\"screen\",\"syncable\":false,\"top_units\":\"screen\"},\"id\":\"25395\",\"type\":\"BoxAnnotation\"},{\"attributes\":{},\"id\":\"24879\",\"type\":\"LinearScale\"},{\"attributes\":{},\"id\":\"25102\",\"type\":\"PanTool\"},{\"attributes\":{},\"id\":\"25201\",\"type\":\"BasicTickFormatter\"},{\"attributes\":{},\"id\":\"25103\",\"type\":\"WheelZoomTool\"},{\"attributes\":{\"source\":{\"id\":\"25114\"}},\"id\":\"25121\",\"type\":\"CDSView\"},{\"attributes\":{\"axis_label\":\"2001\",\"coordinates\":null,\"formatter\":{\"id\":\"24912\"},\"group\":null,\"major_label_orientation\":1.5707963267948966,\"major_label_policy\":{\"id\":\"24913\"},\"ticker\":{\"id\":\"24882\"}},\"id\":\"24881\",\"type\":\"CategoricalAxis\"},{\"attributes\":{},\"id\":\"25179\",\"type\":\"ResetTool\"},{\"attributes\":{},\"id\":\"25432\",\"type\":\"UnionRenderers\"},{\"attributes\":{\"overlay\":{\"id\":\"25106\"}},\"id\":\"25104\",\"type\":\"BoxZoomTool\"},{\"attributes\":{\"axis\":{\"id\":\"24884\"},\"coordinates\":null,\"dimension\":1,\"grid_line_color\":null,\"group\":null,\"ticker\":null},\"id\":\"24887\",\"type\":\"Grid\"},{\"attributes\":{},\"id\":\"24877\",\"type\":\"CategoricalScale\"},{\"attributes\":{\"bottom_units\":\"screen\",\"coordinates\":null,\"fill_alpha\":0.5,\"fill_color\":\"lightgrey\",\"group\":null,\"left_units\":\"screen\",\"level\":\"overlay\",\"line_alpha\":1.0,\"line_color\":\"black\",\"line_dash\":[4,4],\"line_width\":2,\"right_units\":\"screen\",\"syncable\":false,\"top_units\":\"screen\"},\"id\":\"25180\",\"type\":\"BoxAnnotation\"},{\"attributes\":{\"line_color\":\"blue\",\"line_width\":2,\"x\":{\"field\":\"year\"},\"y\":{\"field\":\"shelter_costs_owned\"}},\"id\":\"25196\",\"type\":\"Line\"},{\"attributes\":{},\"id\":\"24882\",\"type\":\"CategoricalTicker\"},{\"attributes\":{},\"id\":\"25105\",\"type\":\"ResetTool\"},{\"attributes\":{\"axis\":{\"id\":\"24881\"},\"coordinates\":null,\"grid_line_color\":null,\"group\":null,\"ticker\":null},\"id\":\"24883\",\"type\":\"Grid\"},{\"attributes\":{},\"id\":\"25210\",\"type\":\"UnionRenderers\"},{\"attributes\":{\"bottom\":{\"value\":0},\"fill_alpha\":{\"value\":1.0},\"fill_color\":{\"field\":\"Variable\",\"transform\":{\"id\":\"25403\"}},\"hatch_alpha\":{\"value\":1.0},\"hatch_color\":{\"field\":\"Variable\",\"transform\":{\"id\":\"25403\"}},\"hatch_scale\":{\"value\":12.0},\"hatch_weight\":{\"value\":1.0},\"line_alpha\":{\"value\":1.0},\"line_cap\":{\"value\":\"butt\"},\"line_color\":{\"value\":\"black\"},\"line_dash\":{\"value\":[]},\"line_dash_offset\":{\"value\":0},\"line_join\":{\"value\":\"bevel\"},\"line_width\":{\"value\":1},\"top\":{\"field\":\"value\"},\"width\":{\"value\":0.8},\"x\":{\"field\":\"xoffsets\"}},\"id\":\"25412\",\"type\":\"VBar\"},{\"attributes\":{\"bottom_units\":\"screen\",\"coordinates\":null,\"fill_alpha\":0.5,\"fill_color\":\"lightgrey\",\"group\":null,\"left_units\":\"screen\",\"level\":\"overlay\",\"line_alpha\":1.0,\"line_color\":\"black\",\"line_dash\":[4,4],\"line_width\":2,\"right_units\":\"screen\",\"syncable\":false,\"top_units\":\"screen\"},\"id\":\"25106\",\"type\":\"BoxAnnotation\"},{\"attributes\":{},\"id\":\"25417\",\"type\":\"BasicTickFormatter\"},{\"attributes\":{\"format\":\"%.0f2\"},\"id\":\"25123\",\"type\":\"PrintfTickFormatter\"},{\"attributes\":{},\"id\":\"24885\",\"type\":\"BasicTicker\"},{\"attributes\":{\"axis_label\":\"Dwelling Types in Toronto in 2001\",\"coordinates\":null,\"formatter\":{\"id\":\"24910\"},\"group\":null,\"major_label_policy\":{\"id\":\"24916\"},\"ticker\":{\"id\":\"24885\"}},\"id\":\"24884\",\"type\":\"LinearAxis\"},{\"attributes\":{\"children\":[{\"id\":\"25153\"},{\"id\":\"25154\"}],\"margin\":[0,0,0,0],\"name\":\"Column26965\"},\"id\":\"25152\",\"type\":\"Column\"},{\"attributes\":{},\"id\":\"25415\",\"type\":\"AllLabels\"},{\"attributes\":{\"fill_alpha\":{\"value\":0.2},\"fill_color\":{\"value\":\"red\"},\"hatch_alpha\":{\"value\":0.2},\"hatch_color\":{\"value\":\"red\"},\"line_alpha\":{\"value\":0.2},\"top\":{\"field\":\"dwelling\"},\"width\":{\"value\":0.8},\"x\":{\"field\":\"index\"}},\"id\":\"24906\",\"type\":\"VBar\"},{\"attributes\":{\"source\":{\"id\":\"24901\"}},\"id\":\"24908\",\"type\":\"CDSView\"},{\"attributes\":{},\"id\":\"25138\",\"type\":\"UnionRenderers\"},{\"attributes\":{},\"id\":\"25414\",\"type\":\"CategoricalTickFormatter\"},{\"attributes\":{\"fill_alpha\":{\"value\":0.1},\"fill_color\":{\"value\":\"red\"},\"hatch_alpha\":{\"value\":0.1},\"hatch_color\":{\"value\":\"red\"},\"line_alpha\":{\"value\":0.1},\"top\":{\"field\":\"dwelling\"},\"width\":{\"value\":0.8},\"x\":{\"field\":\"index\"}},\"id\":\"24905\",\"type\":\"VBar\"},{\"attributes\":{},\"id\":\"25418\",\"type\":\"AllLabels\"},{\"attributes\":{\"tools\":[{\"id\":\"24871\"},{\"id\":\"24888\"},{\"id\":\"24889\"},{\"id\":\"24890\"},{\"id\":\"24891\"},{\"id\":\"24892\"}]},\"id\":\"24894\",\"type\":\"Toolbar\"},{\"attributes\":{},\"id\":\"24888\",\"type\":\"SaveTool\"},{\"attributes\":{},\"id\":\"25198\",\"type\":\"BasicTickFormatter\"},{\"attributes\":{},\"id\":\"25199\",\"type\":\"AllLabels\"},{\"attributes\":{\"bottom\":{\"value\":0},\"fill_alpha\":{\"value\":1.0},\"fill_color\":{\"value\":\"purple\"},\"hatch_alpha\":{\"value\":1.0},\"hatch_color\":{\"value\":\"purple\"},\"hatch_scale\":{\"value\":12.0},\"hatch_weight\":{\"value\":1.0},\"line_alpha\":{\"value\":1.0},\"line_cap\":{\"value\":\"butt\"},\"line_color\":{\"value\":\"black\"},\"line_dash\":{\"value\":[]},\"line_dash_offset\":{\"value\":0},\"line_join\":{\"value\":\"bevel\"},\"line_width\":{\"value\":1},\"top\":{\"field\":\"dwelling\"},\"width\":{\"value\":0.8},\"x\":{\"field\":\"index\"}},\"id\":\"25122\",\"type\":\"VBar\"},{\"attributes\":{},\"id\":\"24889\",\"type\":\"PanTool\"},{\"attributes\":{},\"id\":\"25202\",\"type\":\"AllLabels\"},{\"attributes\":{\"data\":{\"shelter_costs_owned\":{\"__ndarray__\":\"UAd1UAd3ikAzMzMzM5OUQG7btm3boJZA1EEd1EGFm0A=\",\"dtype\":\"float64\",\"order\":\"little\",\"shape\":[4]},\"year\":[2001,2006,2011,2016]},\"selected\":{\"id\":\"25189\"},\"selection_policy\":{\"id\":\"25210\"}},\"id\":\"25188\",\"type\":\"ColumnDataSource\"},{\"attributes\":{},\"id\":\"24890\",\"type\":\"WheelZoomTool\"},{\"attributes\":{},\"id\":\"25126\",\"type\":\"AllLabels\"},{\"attributes\":{},\"id\":\"25125\",\"type\":\"CategoricalTickFormatter\"},{\"attributes\":{\"overlay\":{\"id\":\"24893\"}},\"id\":\"24891\",\"type\":\"BoxZoomTool\"},{\"attributes\":{\"coordinates\":null,\"data_source\":{\"id\":\"24901\"},\"glyph\":{\"id\":\"24904\"},\"group\":null,\"hover_glyph\":null,\"muted_glyph\":{\"id\":\"24906\"},\"nonselection_glyph\":{\"id\":\"24905\"},\"selection_glyph\":{\"id\":\"24909\"},\"view\":{\"id\":\"24908\"}},\"id\":\"24907\",\"type\":\"GlyphRenderer\"},{\"attributes\":{\"end\":2016.0,\"reset_end\":2016.0,\"reset_start\":2001.0,\"start\":2001.0,\"tags\":[[[\"year\",\"year\",null]]]},\"id\":\"24785\",\"type\":\"Range1d\"},{\"attributes\":{\"children\":[{\"id\":\"25229\"}],\"margin\":[0,0,0,0],\"name\":\"Row27126\"},\"id\":\"25225\",\"type\":\"Row\"},{\"attributes\":{},\"id\":\"24892\",\"type\":\"ResetTool\"},{\"attributes\":{\"line_color\":\"#30a2da\",\"line_width\":2,\"x\":{\"field\":\"year\"},\"y\":{\"field\":\"average_house_value\"}},\"id\":\"24821\",\"type\":\"Line\"},{\"attributes\":{\"bottom_units\":\"screen\",\"coordinates\":null,\"fill_alpha\":0.5,\"fill_color\":\"lightgrey\",\"group\":null,\"left_units\":\"screen\",\"level\":\"overlay\",\"line_alpha\":1.0,\"line_color\":\"black\",\"line_dash\":[4,4],\"line_width\":2,\"right_units\":\"screen\",\"syncable\":false,\"top_units\":\"screen\"},\"id\":\"24893\",\"type\":\"BoxAnnotation\"},{\"attributes\":{\"margin\":[20,20,20,20],\"min_width\":250,\"options\":[\"Agincourt North\",\"Agincourt South-Malvern West\",\"Alderwood\",\"Annex\",\"Banbury-Don Mills\",\"Bathurst Manor\",\"Bay Street Corridor\",\"Bayview Village\",\"Bayview Woods-Steeles\",\"Bedford Park-Nortown\",\"Beechborough-Greenbrook\",\"Bendale\",\"Birchcliffe-Cliffside\",\"Black Creek\",\"Blake-Jones\",\"Briar Hill-Belgravia\",\"Bridle Path-Sunnybrook-York Mills\",\"Broadview North\",\"Brookhaven-Amesbury\",\"Cabbagetown-South St.James Town\",\"Caledonia-Fairbank\",\"Casa Loma\",\"Centennial Scarborough\",\"Church-Yonge Corridor\",\"Clairlea-Birchmount\",\"Clanton Park\",\"Cliffcrest\",\"Corso Italia-Davenport\",\"Danforth\",\"Danforth-East York\",\"Don Valley Village\",\"Dorset Park\",\"Dovercourt-Wallace Emerson-Juncti\",\"Downsview-Roding-CFB\",\"Dufferin Grove\",\"East End-Danforth\",\"Edenbridge-Humber Valley\",\"Eglinton East\",\"Elms-Old Rexdale\",\"Englemount-Lawrence\",\"Eringate-Centennial-West Deane\",\"Etobicoke West Mall\",\"Flemingdon Park\",\"Forest Hill North\",\"Forest Hill South\",\"Glenfield-Jane Heights\",\"Greenwood-Coxwell\",\"Guildwood\",\"Henry Farm\",\"High Park North\",\"High Park-Swansea\",\"Highland Creek\",\"Hillcrest Village\",\"Humber Heights-Westmount\",\"Humber Summit\",\"Humbermede\",\"Humewood-Cedarvale\",\"Ionview\",\"Islington-City Centre West\",\"Junction Area\",\"Keelesdale-Eglinton West\",\"Kennedy Park\",\"Kensington-Chinatown\",\"Kingsview Village-The Westway\",\"Kingsway South\",\"L'Amoreaux\",\"Lambton Baby Point\",\"Lansing-Westgate\",\"Lawrence Park North\",\"Lawrence Park South\",\"Leaside-Bennington\",\"Little Portugal\",\"Long Branch\",\"Malvern\",\"Maple Leaf\",\"Markland Wood\",\"Milliken\",\"Mimico\",\"Morningside\",\"Moss Park\",\"Mount Dennis\",\"Mount Olive-Silverstone-Jamestown\",\"Mount Pleasant East\",\"Mount Pleasant West\",\"New Toronto\",\"Newtonbrook East\",\"Newtonbrook West\",\"Niagara\",\"North Riverdale\",\"North St.James Town\",\"O'Connor-Parkview\",\"Oakridge\",\"Oakwood Village\",\"Old East York\",\"Palmerston-Little Italy\",\"Parkwoods-Donalda\",\"Pelmo Park-Humberlea\",\"Playter Estates-Danforth\",\"Pleasant View\",\"Princess-Rosethorn\",\"Regent Park\",\"Rexdale-Kipling\",\"Rockcliffe-Smythe\",\"Roncesvalles\",\"Rosedale-Moore Park\",\"Rouge\",\"Runnymede-Bloor West Village\",\"Rustic\",\"Scarborough Village\",\"South Parkdale\",\"South Riverdale\",\"St.Andrew-Windfields\",\"Steeles\",\"Stonegate-Queensway\",\"Tam O'Shanter-Sullivan\",\"Taylor-Massey\",\"The Beaches\",\"Thistletown-Beaumond Heights\",\"Thorncliffe Park\",\"Trinity-Bellwoods\",\"University\",\"Victoria Village\",\"Waterfront Communities-The Island\",\"West Hill\",\"West Humber-Clairville\",\"Westminster-Branson\",\"Weston\",\"Weston-Pellam Park\",\"Wexford/Maryvale\",\"Willowdale East\",\"Willowdale West\",\"Willowridge-Martingrove-Richview\",\"Woburn\",\"Woodbine Corridor\",\"Woodbine-Lumsden\",\"Wychwood\",\"Yonge-Eglinton\",\"Yonge-St.Clair\",\"York University Heights\",\"Yorkdale-Glen Park\"],\"title\":\"neighbourhood\",\"value\":\"Agincourt North\",\"width\":250},\"id\":\"24862\",\"type\":\"Select\"},{\"attributes\":{\"format\":\"%.0f2\"},\"id\":\"24910\",\"type\":\"PrintfTickFormatter\"},{\"attributes\":{},\"id\":\"25129\",\"type\":\"AllLabels\"},{\"attributes\":{\"children\":[{\"id\":\"25296\"},{\"id\":\"25368\"}],\"margin\":[0,0,0,0],\"name\":\"Column28679\"},\"id\":\"25295\",\"type\":\"Column\"},{\"attributes\":{\"margin\":[0,0,0,0],\"name\":\"Column27045\"},\"id\":\"25153\",\"type\":\"Column\"},{\"attributes\":{\"children\":[{\"id\":\"24943\"}],\"margin\":[0,0,0,0],\"name\":\"Row24923\"},\"id\":\"24939\",\"type\":\"Row\"},{\"attributes\":{\"child\":{\"id\":\"25151\"},\"name\":\"Column27128\",\"title\":\"Average Monthly Shelter Costs\"},\"id\":\"25294\",\"type\":\"Panel\"},{\"attributes\":{\"margin\":[0,0,0,0],\"name\":\"Column27127\"},\"id\":\"25224\",\"type\":\"Column\"},{\"attributes\":{\"data\":{\"average_house_value\":{\"__ndarray__\":\"AAAAwNVKN0EAAACA2D8yQQAAAMCLsTBBAAAAAAiwMEEAAAAAhn0uQQAAAICQ8C1BAAAAgN5kLEEAAAAAwf0pQQAAAIDEuylBAAAAgEjRKEE=\",\"dtype\":\"float64\",\"order\":\"little\",\"shape\":[10]},\"neighbourhood\":[\"Bridle Path-Sunnybrook-York Mills\",\"Forest Hill South\",\"Lawrence Park South\",\"Rosedale-Moore Park\",\"St.Andrew-Windfields\",\"Casa Loma\",\"Bedford Park-Nortown\",\"Forest Hill North\",\"Kingsway South\",\"Yonge-St.Clair\"]},\"selected\":{\"id\":\"25483\"},\"selection_policy\":{\"id\":\"25506\"}},\"id\":\"25482\",\"type\":\"ColumnDataSource\"},{\"attributes\":{\"bottom\":{\"value\":0},\"fill_alpha\":{\"value\":1.0},\"fill_color\":{\"value\":\"red\"},\"hatch_alpha\":{\"value\":1.0},\"hatch_color\":{\"value\":\"red\"},\"hatch_scale\":{\"value\":12.0},\"hatch_weight\":{\"value\":1.0},\"line_alpha\":{\"value\":1.0},\"line_cap\":{\"value\":\"butt\"},\"line_color\":{\"value\":\"black\"},\"line_dash\":{\"value\":[]},\"line_dash_offset\":{\"value\":0},\"line_join\":{\"value\":\"bevel\"},\"line_width\":{\"value\":1},\"top\":{\"field\":\"dwelling\"},\"width\":{\"value\":0.8},\"x\":{\"field\":\"index\"}},\"id\":\"24909\",\"type\":\"VBar\"},{\"attributes\":{},\"id\":\"24912\",\"type\":\"CategoricalTickFormatter\"},{\"attributes\":{\"client_comm_id\":\"f580acf7aa7242f6b6ab3eaf0dbc3e75\",\"comm_id\":\"b7b5472efdf744c49c98a3862881fd88\",\"plot_id\":\"24783\"},\"id\":\"26269\",\"type\":\"panel.models.comm_manager.CommManager\"},{\"attributes\":{},\"id\":\"24913\",\"type\":\"AllLabels\"},{\"attributes\":{\"data\":{\"shelter_costs_rented\":{\"__ndarray__\":\"LL7iK773kEB1UAd1UOuMQMVXfMVX3o9AJUmSJEmhk0A=\",\"dtype\":\"float64\",\"order\":\"little\",\"shape\":[4]},\"year\":[2001,2006,2011,2016]},\"selected\":{\"id\":\"25260\"},\"selection_policy\":{\"id\":\"25281\"}},\"id\":\"25259\",\"type\":\"ColumnDataSource\"},{\"attributes\":{\"children\":[{\"id\":\"25080\"},{\"id\":\"25081\"}],\"margin\":[0,0,0,0],\"name\":\"Column25053\"},\"id\":\"25079\",\"type\":\"Column\"},{\"attributes\":{\"children\":[{\"id\":\"24788\"},{\"id\":\"24860\"}],\"margin\":[0,0,0,0],\"name\":\"Analysis of All Neighborhoods\"},\"id\":\"24784\",\"type\":\"Row\"},{\"attributes\":{},\"id\":\"24795\",\"type\":\"LinearScale\"},{\"attributes\":{},\"id\":\"24916\",\"type\":\"AllLabels\"},{\"attributes\":{\"coordinates\":null,\"data_source\":{\"id\":\"24818\"},\"glyph\":{\"id\":\"24821\"},\"group\":null,\"hover_glyph\":null,\"muted_glyph\":{\"id\":\"24823\"},\"nonselection_glyph\":{\"id\":\"24822\"},\"selection_glyph\":{\"id\":\"24826\"},\"view\":{\"id\":\"24825\"}},\"id\":\"24824\",\"type\":\"GlyphRenderer\"},{\"attributes\":{\"js_property_callbacks\":{\"change:active\":[{\"id\":\"26076\"}]},\"margin\":[0,0,0,0],\"tabs\":[{\"id\":\"24864\"},{\"id\":\"25150\"},{\"id\":\"25294\"},{\"id\":\"25369\"},{\"id\":\"25449\"},{\"id\":\"25518\"}]},\"id\":\"24783\",\"type\":\"Tabs\"},{\"attributes\":{\"coordinates\":null,\"group\":null,\"text\":\"neighbourhood: Agincourt North\",\"text_color\":\"black\",\"text_font_size\":\"12pt\"},\"id\":\"24789\",\"type\":\"Title\"},{\"attributes\":{\"children\":[{\"id\":\"25009\"},{\"id\":\"25010\"}],\"margin\":[0,0,0,0],\"name\":\"Column24927\"},\"id\":\"25008\",\"type\":\"Column\"},{\"attributes\":{},\"id\":\"24793\",\"type\":\"LinearScale\"},{\"attributes\":{\"axis\":{\"id\":\"24801\"},\"coordinates\":null,\"dimension\":1,\"grid_line_color\":null,\"group\":null,\"ticker\":null},\"id\":\"24804\",\"type\":\"Grid\"},{\"attributes\":{\"axis_label\":\"Year\",\"coordinates\":null,\"formatter\":{\"id\":\"24829\"},\"group\":null,\"major_label_policy\":{\"id\":\"24830\"},\"ticker\":{\"id\":\"24798\"}},\"id\":\"24797\",\"type\":\"LinearAxis\"},{\"attributes\":{},\"id\":\"24798\",\"type\":\"BasicTicker\"},{\"attributes\":{\"data\":[{\"hovertemplate\":\"lat=%{lat}<br>lon=%{lon}<br>average_house_value=%{marker.color}<extra></extra>\",\"legendgroup\":\"\",\"marker\":{\"coloraxis\":\"coloraxis\"},\"mode\":\"markers\",\"name\":\"\",\"showlegend\":false,\"subplot\":\"mapbox\",\"type\":\"scattermapbox\"}],\"data_sources\":[{\"id\":\"25367\"}],\"layout\":{\"coloraxis\":{\"colorbar\":{\"title\":{\"text\":\"average_house_value\"}},\"colorscale\":[[0.0,\"#0d0887\"],[0.1111111111111111,\"#46039f\"],[0.2222222222222222,\"#7201a8\"],[0.3333333333333333,\"#9c179e\"],[0.4444444444444444,\"#bd3786\"],[0.5555555555555556,\"#d8576b\"],[0.6666666666666666,\"#ed7953\"],[0.7777777777777778,\"#fb9f3a\"],[0.8888888888888888,\"#fdca26\"],[1.0,\"#f0f921\"]]},\"legend\":{\"tracegroupgap\":0},\"mapbox\":{\"accesstoken\":\"pk.eyJ1IjoiZmVybjExMjMiLCJhIjoiY2wxYmNhZDl0MmVvcjNldjAzcTBqNDNnMyJ9.R37GH0MmgML-edU_T4sDaQ\",\"bearing\":0,\"center\":{\"lat\":42.95206693130794,\"lon\":-79.62092403232066},\"domain\":{\"x\":[0.0,1.0],\"y\":[0.0,1.0]},\"pitch\":0,\"zoom\":6.579675210754467},\"template\":{\"data\":{\"bar\":[{\"error_x\":{\"color\":\"#2a3f5f\"},\"error_y\":{\"color\":\"#2a3f5f\"},\"marker\":{\"line\":{\"color\":\"#E5ECF6\",\"width\":0.5},\"pattern\":{\"fillmode\":\"overlay\",\"size\":10,\"solidity\":0.2}},\"type\":\"bar\"}],\"barpolar\":[{\"marker\":{\"line\":{\"color\":\"#E5ECF6\",\"width\":0.5},\"pattern\":{\"fillmode\":\"overlay\",\"size\":10,\"solidity\":0.2}},\"type\":\"barpolar\"}],\"carpet\":[{\"aaxis\":{\"endlinecolor\":\"#2a3f5f\",\"gridcolor\":\"white\",\"linecolor\":\"white\",\"minorgridcolor\":\"white\",\"startlinecolor\":\"#2a3f5f\"},\"baxis\":{\"endlinecolor\":\"#2a3f5f\",\"gridcolor\":\"white\",\"linecolor\":\"white\",\"minorgridcolor\":\"white\",\"startlinecolor\":\"#2a3f5f\"},\"type\":\"carpet\"}],\"choropleth\":[{\"colorbar\":{\"outlinewidth\":0,\"ticks\":\"\"},\"type\":\"choropleth\"}],\"contour\":[{\"colorbar\":{\"outlinewidth\":0,\"ticks\":\"\"},\"colorscale\":[[0.0,\"#0d0887\"],[0.1111111111111111,\"#46039f\"],[0.2222222222222222,\"#7201a8\"],[0.3333333333333333,\"#9c179e\"],[0.4444444444444444,\"#bd3786\"],[0.5555555555555556,\"#d8576b\"],[0.6666666666666666,\"#ed7953\"],[0.7777777777777778,\"#fb9f3a\"],[0.8888888888888888,\"#fdca26\"],[1.0,\"#f0f921\"]],\"type\":\"contour\"}],\"contourcarpet\":[{\"colorbar\":{\"outlinewidth\":0,\"ticks\":\"\"},\"type\":\"contourcarpet\"}],\"heatmap\":[{\"colorbar\":{\"outlinewidth\":0,\"ticks\":\"\"},\"colorscale\":[[0.0,\"#0d0887\"],[0.1111111111111111,\"#46039f\"],[0.2222222222222222,\"#7201a8\"],[0.3333333333333333,\"#9c179e\"],[0.4444444444444444,\"#bd3786\"],[0.5555555555555556,\"#d8576b\"],[0.6666666666666666,\"#ed7953\"],[0.7777777777777778,\"#fb9f3a\"],[0.8888888888888888,\"#fdca26\"],[1.0,\"#f0f921\"]],\"type\":\"heatmap\"}],\"heatmapgl\":[{\"colorbar\":{\"outlinewidth\":0,\"ticks\":\"\"},\"colorscale\":[[0.0,\"#0d0887\"],[0.1111111111111111,\"#46039f\"],[0.2222222222222222,\"#7201a8\"],[0.3333333333333333,\"#9c179e\"],[0.4444444444444444,\"#bd3786\"],[0.5555555555555556,\"#d8576b\"],[0.6666666666666666,\"#ed7953\"],[0.7777777777777778,\"#fb9f3a\"],[0.8888888888888888,\"#fdca26\"],[1.0,\"#f0f921\"]],\"type\":\"heatmapgl\"}],\"histogram\":[{\"marker\":{\"pattern\":{\"fillmode\":\"overlay\",\"size\":10,\"solidity\":0.2}},\"type\":\"histogram\"}],\"histogram2d\":[{\"colorbar\":{\"outlinewidth\":0,\"ticks\":\"\"},\"colorscale\":[[0.0,\"#0d0887\"],[0.1111111111111111,\"#46039f\"],[0.2222222222222222,\"#7201a8\"],[0.3333333333333333,\"#9c179e\"],[0.4444444444444444,\"#bd3786\"],[0.5555555555555556,\"#d8576b\"],[0.6666666666666666,\"#ed7953\"],[0.7777777777777778,\"#fb9f3a\"],[0.8888888888888888,\"#fdca26\"],[1.0,\"#f0f921\"]],\"type\":\"histogram2d\"}],\"histogram2dcontour\":[{\"colorbar\":{\"outlinewidth\":0,\"ticks\":\"\"},\"colorscale\":[[0.0,\"#0d0887\"],[0.1111111111111111,\"#46039f\"],[0.2222222222222222,\"#7201a8\"],[0.3333333333333333,\"#9c179e\"],[0.4444444444444444,\"#bd3786\"],[0.5555555555555556,\"#d8576b\"],[0.6666666666666666,\"#ed7953\"],[0.7777777777777778,\"#fb9f3a\"],[0.8888888888888888,\"#fdca26\"],[1.0,\"#f0f921\"]],\"type\":\"histogram2dcontour\"}],\"mesh3d\":[{\"colorbar\":{\"outlinewidth\":0,\"ticks\":\"\"},\"type\":\"mesh3d\"}],\"parcoords\":[{\"line\":{\"colorbar\":{\"outlinewidth\":0,\"ticks\":\"\"}},\"type\":\"parcoords\"}],\"pie\":[{\"automargin\":true,\"type\":\"pie\"}],\"scatter\":[{\"marker\":{\"colorbar\":{\"outlinewidth\":0,\"ticks\":\"\"}},\"type\":\"scatter\"}],\"scatter3d\":[{\"line\":{\"colorbar\":{\"outlinewidth\":0,\"ticks\":\"\"}},\"marker\":{\"colorbar\":{\"outlinewidth\":0,\"ticks\":\"\"}},\"type\":\"scatter3d\"}],\"scattercarpet\":[{\"marker\":{\"colorbar\":{\"outlinewidth\":0,\"ticks\":\"\"}},\"type\":\"scattercarpet\"}],\"scattergeo\":[{\"marker\":{\"colorbar\":{\"outlinewidth\":0,\"ticks\":\"\"}},\"type\":\"scattergeo\"}],\"scattergl\":[{\"marker\":{\"colorbar\":{\"outlinewidth\":0,\"ticks\":\"\"}},\"type\":\"scattergl\"}],\"scattermapbox\":[{\"marker\":{\"colorbar\":{\"outlinewidth\":0,\"ticks\":\"\"}},\"type\":\"scattermapbox\"}],\"scatterpolar\":[{\"marker\":{\"colorbar\":{\"outlinewidth\":0,\"ticks\":\"\"}},\"type\":\"scatterpolar\"}],\"scatterpolargl\":[{\"marker\":{\"colorbar\":{\"outlinewidth\":0,\"ticks\":\"\"}},\"type\":\"scatterpolargl\"}],\"scatterternary\":[{\"marker\":{\"colorbar\":{\"outlinewidth\":0,\"ticks\":\"\"}},\"type\":\"scatterternary\"}],\"surface\":[{\"colorbar\":{\"outlinewidth\":0,\"ticks\":\"\"},\"colorscale\":[[0.0,\"#0d0887\"],[0.1111111111111111,\"#46039f\"],[0.2222222222222222,\"#7201a8\"],[0.3333333333333333,\"#9c179e\"],[0.4444444444444444,\"#bd3786\"],[0.5555555555555556,\"#d8576b\"],[0.6666666666666666,\"#ed7953\"],[0.7777777777777778,\"#fb9f3a\"],[0.8888888888888888,\"#fdca26\"],[1.0,\"#f0f921\"]],\"type\":\"surface\"}],\"table\":[{\"cells\":{\"fill\":{\"color\":\"#EBF0F8\"},\"line\":{\"color\":\"white\"}},\"header\":{\"fill\":{\"color\":\"#C8D4E3\"},\"line\":{\"color\":\"white\"}},\"type\":\"table\"}]},\"layout\":{\"annotationdefaults\":{\"arrowcolor\":\"#2a3f5f\",\"arrowhead\":0,\"arrowwidth\":1},\"autotypenumbers\":\"strict\",\"coloraxis\":{\"colorbar\":{\"outlinewidth\":0,\"ticks\":\"\"}},\"colorscale\":{\"diverging\":[[0,\"#8e0152\"],[0.1,\"#c51b7d\"],[0.2,\"#de77ae\"],[0.3,\"#f1b6da\"],[0.4,\"#fde0ef\"],[0.5,\"#f7f7f7\"],[0.6,\"#e6f5d0\"],[0.7,\"#b8e186\"],[0.8,\"#7fbc41\"],[0.9,\"#4d9221\"],[1,\"#276419\"]],\"sequential\":[[0.0,\"#0d0887\"],[0.1111111111111111,\"#46039f\"],[0.2222222222222222,\"#7201a8\"],[0.3333333333333333,\"#9c179e\"],[0.4444444444444444,\"#bd3786\"],[0.5555555555555556,\"#d8576b\"],[0.6666666666666666,\"#ed7953\"],[0.7777777777777778,\"#fb9f3a\"],[0.8888888888888888,\"#fdca26\"],[1.0,\"#f0f921\"]],\"sequentialminus\":[[0.0,\"#0d0887\"],[0.1111111111111111,\"#46039f\"],[0.2222222222222222,\"#7201a8\"],[0.3333333333333333,\"#9c179e\"],[0.4444444444444444,\"#bd3786\"],[0.5555555555555556,\"#d8576b\"],[0.6666666666666666,\"#ed7953\"],[0.7777777777777778,\"#fb9f3a\"],[0.8888888888888888,\"#fdca26\"],[1.0,\"#f0f921\"]]},\"colorway\":[\"#636efa\",\"#EF553B\",\"#00cc96\",\"#ab63fa\",\"#FFA15A\",\"#19d3f3\",\"#FF6692\",\"#B6E880\",\"#FF97FF\",\"#FECB52\"],\"font\":{\"color\":\"#2a3f5f\"},\"geo\":{\"bgcolor\":\"white\",\"lakecolor\":\"white\",\"landcolor\":\"#E5ECF6\",\"showlakes\":true,\"showland\":true,\"subunitcolor\":\"white\"},\"hoverlabel\":{\"align\":\"left\"},\"hovermode\":\"closest\",\"mapbox\":{\"style\":\"light\"},\"paper_bgcolor\":\"white\",\"plot_bgcolor\":\"#E5ECF6\",\"polar\":{\"angularaxis\":{\"gridcolor\":\"white\",\"linecolor\":\"white\",\"ticks\":\"\"},\"bgcolor\":\"#E5ECF6\",\"radialaxis\":{\"gridcolor\":\"white\",\"linecolor\":\"white\",\"ticks\":\"\"}},\"scene\":{\"xaxis\":{\"backgroundcolor\":\"#E5ECF6\",\"gridcolor\":\"white\",\"gridwidth\":2,\"linecolor\":\"white\",\"showbackground\":true,\"ticks\":\"\",\"zerolinecolor\":\"white\"},\"yaxis\":{\"backgroundcolor\":\"#E5ECF6\",\"gridcolor\":\"white\",\"gridwidth\":2,\"linecolor\":\"white\",\"showbackground\":true,\"ticks\":\"\",\"zerolinecolor\":\"white\"},\"zaxis\":{\"backgroundcolor\":\"#E5ECF6\",\"gridcolor\":\"white\",\"gridwidth\":2,\"linecolor\":\"white\",\"showbackground\":true,\"ticks\":\"\",\"zerolinecolor\":\"white\"}},\"shapedefaults\":{\"line\":{\"color\":\"#2a3f5f\"}},\"ternary\":{\"aaxis\":{\"gridcolor\":\"white\",\"linecolor\":\"white\",\"ticks\":\"\"},\"baxis\":{\"gridcolor\":\"white\",\"linecolor\":\"white\",\"ticks\":\"\"},\"bgcolor\":\"#E5ECF6\",\"caxis\":{\"gridcolor\":\"white\",\"linecolor\":\"white\",\"ticks\":\"\"}},\"title\":{\"x\":0.05},\"xaxis\":{\"automargin\":true,\"gridcolor\":\"white\",\"linecolor\":\"white\",\"ticks\":\"\",\"title\":{\"standoff\":15},\"zerolinecolor\":\"white\",\"zerolinewidth\":2},\"yaxis\":{\"automargin\":true,\"gridcolor\":\"white\",\"linecolor\":\"white\",\"ticks\":\"\",\"title\":{\"standoff\":15},\"zerolinecolor\":\"white\",\"zerolinewidth\":2}}},\"title\":{\"text\":\"Average House Value in Toronto\"}},\"margin\":[5,5,5,5],\"name\":\"Plotly28677\",\"viewport_update_throttle\":200,\"visibility\":false},\"id\":\"25368\",\"type\":\"panel.models.plotly.PlotlyPlot\"},{\"attributes\":{\"axis\":{\"id\":\"24797\"},\"coordinates\":null,\"grid_line_color\":null,\"group\":null,\"ticker\":null},\"id\":\"24800\",\"type\":\"Grid\"},{\"attributes\":{},\"id\":\"24802\",\"type\":\"BasicTicker\"},{\"attributes\":{\"axis_label\":\"Average House Value\",\"coordinates\":null,\"formatter\":{\"id\":\"24827\"},\"group\":null,\"major_label_policy\":{\"id\":\"24833\"},\"ticker\":{\"id\":\"24802\"}},\"id\":\"24801\",\"type\":\"LinearAxis\"},{\"attributes\":{\"below\":[{\"id\":\"25311\"}],\"center\":[{\"id\":\"25314\"},{\"id\":\"25318\"}],\"height\":300,\"left\":[{\"id\":\"25315\"}],\"margin\":[5,5,5,5],\"min_border_bottom\":10,\"min_border_left\":10,\"min_border_right\":10,\"min_border_top\":10,\"renderers\":[{\"id\":\"25338\"}],\"sizing_mode\":\"fixed\",\"title\":{\"id\":\"25303\"},\"toolbar\":{\"id\":\"25325\"},\"width\":700,\"x_range\":{\"id\":\"24785\"},\"x_scale\":{\"id\":\"25307\"},\"y_range\":{\"id\":\"24786\"},\"y_scale\":{\"id\":\"25309\"}},\"id\":\"25302\",\"subtype\":\"Figure\",\"type\":\"Plot\"},{\"attributes\":{\"coordinates\":null,\"group\":null,\"text\":\"Average House Value in Toronto\",\"text_color\":\"black\",\"text_font_size\":\"12pt\"},\"id\":\"25303\",\"type\":\"Title\"},{\"attributes\":{},\"id\":\"25333\",\"type\":\"Selection\"},{\"attributes\":{\"line_alpha\":0.2,\"line_color\":\"#30a2da\",\"line_width\":2,\"x\":{\"field\":\"year\"},\"y\":{\"field\":\"average_house_value\"}},\"id\":\"24823\",\"type\":\"Line\"},{\"attributes\":{\"fill_alpha\":{\"value\":0.1},\"fill_color\":{\"value\":\"yellow\"},\"hatch_alpha\":{\"value\":0.1},\"hatch_color\":{\"value\":\"yellow\"},\"line_alpha\":{\"value\":0.1},\"top\":{\"field\":\"dwelling\"},\"width\":{\"value\":0.8},\"x\":{\"field\":\"index\"}},\"id\":\"25047\",\"type\":\"VBar\"},{\"attributes\":{\"tools\":[{\"id\":\"24787\"},{\"id\":\"24805\"},{\"id\":\"24806\"},{\"id\":\"24807\"},{\"id\":\"24808\"},{\"id\":\"24809\"}]},\"id\":\"24811\",\"type\":\"Toolbar\"},{\"attributes\":{},\"id\":\"24805\",\"type\":\"SaveTool\"},{\"attributes\":{},\"id\":\"24806\",\"type\":\"PanTool\"},{\"attributes\":{},\"id\":\"25309\",\"type\":\"LinearScale\"},{\"attributes\":{},\"id\":\"24807\",\"type\":\"WheelZoomTool\"},{\"attributes\":{\"line_alpha\":0.2,\"line_color\":\"red\",\"line_width\":2,\"x\":{\"field\":\"year\"},\"y\":{\"field\":\"average_house_value\"}},\"id\":\"25337\",\"type\":\"Line\"},{\"attributes\":{\"callback\":null,\"renderers\":[{\"id\":\"25338\"}],\"tags\":[\"hv_created\"],\"tooltips\":[[\"year\",\"@{year}\"],[\"average_house_value\",\"@{average_house_value}\"]]},\"id\":\"25301\",\"type\":\"HoverTool\"},{\"attributes\":{\"overlay\":{\"id\":\"24810\"}},\"id\":\"24808\",\"type\":\"BoxZoomTool\"},{\"attributes\":{\"axis\":{\"id\":\"25315\"},\"coordinates\":null,\"dimension\":1,\"grid_line_color\":null,\"group\":null,\"ticker\":null},\"id\":\"25318\",\"type\":\"Grid\"},{\"attributes\":{\"axis_label\":\"Year\",\"coordinates\":null,\"formatter\":{\"id\":\"25342\"},\"group\":null,\"major_label_policy\":{\"id\":\"25343\"},\"ticker\":{\"id\":\"25312\"}},\"id\":\"25311\",\"type\":\"LinearAxis\"},{\"attributes\":{},\"id\":\"24809\",\"type\":\"ResetTool\"},{\"attributes\":{},\"id\":\"25307\",\"type\":\"LinearScale\"},{\"attributes\":{\"fill_alpha\":{\"value\":0.1},\"fill_color\":{\"field\":\"Variable\",\"transform\":{\"id\":\"25403\"}},\"hatch_alpha\":{\"value\":0.1},\"hatch_color\":{\"field\":\"Variable\",\"transform\":{\"id\":\"25403\"}},\"line_alpha\":{\"value\":0.1},\"top\":{\"field\":\"value\"},\"width\":{\"value\":0.8},\"x\":{\"field\":\"xoffsets\"}},\"id\":\"25408\",\"type\":\"VBar\"},{\"attributes\":{\"bottom_units\":\"screen\",\"coordinates\":null,\"fill_alpha\":0.5,\"fill_color\":\"lightgrey\",\"group\":null,\"left_units\":\"screen\",\"level\":\"overlay\",\"line_alpha\":1.0,\"line_color\":\"black\",\"line_dash\":[4,4],\"line_width\":2,\"right_units\":\"screen\",\"syncable\":false,\"top_units\":\"screen\"},\"id\":\"24810\",\"type\":\"BoxAnnotation\"},{\"attributes\":{},\"id\":\"25312\",\"type\":\"BasicTicker\"},{\"attributes\":{},\"id\":\"25044\",\"type\":\"Selection\"},{\"attributes\":{\"axis\":{\"id\":\"25311\"},\"coordinates\":null,\"grid_line_color\":null,\"group\":null,\"ticker\":null},\"id\":\"25314\",\"type\":\"Grid\"},{\"attributes\":{\"callback\":null,\"renderers\":[{\"id\":\"25049\"}],\"tags\":[\"hv_created\"],\"tooltips\":[[\"index\",\"@{index}\"],[\"dwelling\",\"@{dwelling}\"]]},\"id\":\"25013\",\"type\":\"HoverTool\"},{\"attributes\":{\"line_color\":\"#30a2da\",\"line_width\":2,\"x\":{\"field\":\"year\"},\"y\":{\"field\":\"average_house_value\"}},\"id\":\"24826\",\"type\":\"Line\"},{\"attributes\":{\"data\":{\"dwelling\":[266860,379400,165,69430,54690,44095,162850,1335],\"index\":[\"single_detached_house\",\"apartment_five_storeys_plus\",\"movable_dwelling\",\"semi_detached_house\",\"row_house\",\"duplex\",\"apartment_five_storeys_less\",\"other_house\"]},\"selected\":{\"id\":\"24973\"},\"selection_policy\":{\"id\":\"24996\"}},\"id\":\"24972\",\"type\":\"ColumnDataSource\"},{\"attributes\":{},\"id\":\"24848\",\"type\":\"UnionRenderers\"},{\"attributes\":{},\"id\":\"25316\",\"type\":\"BasicTicker\"},{\"attributes\":{\"axis_label\":\"Avg House Value\",\"coordinates\":null,\"formatter\":{\"id\":\"25345\"},\"group\":null,\"major_label_policy\":{\"id\":\"25346\"},\"ticker\":{\"id\":\"25316\"}},\"id\":\"25315\",\"type\":\"LinearAxis\"},{\"attributes\":{\"line_alpha\":0.1,\"line_color\":\"#30a2da\",\"line_width\":2,\"x\":{\"field\":\"year\"},\"y\":{\"field\":\"average_house_value\"}},\"id\":\"24822\",\"type\":\"Line\"},{\"attributes\":{\"data\":{\"dwelling\":[274940,429220,100,72480,60355,44750,163895,2165],\"index\":[\"single_detached_house\",\"apartment_five_storeys_plus\",\"movable_dwelling\",\"semi_detached_house\",\"row_house\",\"duplex\",\"apartment_five_storeys_less\",\"other_house\"]},\"selected\":{\"id\":\"25044\"},\"selection_policy\":{\"id\":\"25067\"}},\"id\":\"25043\",\"type\":\"ColumnDataSource\"},{\"attributes\":{\"line_alpha\":0.1,\"line_color\":\"red\",\"line_width\":2,\"x\":{\"field\":\"year\"},\"y\":{\"field\":\"average_house_value\"}},\"id\":\"25336\",\"type\":\"Line\"},{\"attributes\":{\"below\":[{\"id\":\"25023\"}],\"center\":[{\"id\":\"25025\"},{\"id\":\"25029\"}],\"height\":500,\"left\":[{\"id\":\"25026\"}],\"margin\":[5,5,5,5],\"min_border_bottom\":10,\"min_border_left\":10,\"min_border_right\":10,\"min_border_top\":10,\"renderers\":[{\"id\":\"25049\"}],\"sizing_mode\":\"fixed\",\"title\":{\"id\":\"25015\"},\"toolbar\":{\"id\":\"25036\"},\"width\":650,\"x_range\":{\"id\":\"24869\"},\"x_scale\":{\"id\":\"25019\"},\"y_range\":{\"id\":\"24870\"},\"y_scale\":{\"id\":\"25021\"}},\"id\":\"25014\",\"subtype\":\"Figure\",\"type\":\"Plot\"},{\"attributes\":{\"coordinates\":null,\"data_source\":{\"id\":\"25332\"},\"glyph\":{\"id\":\"25335\"},\"group\":null,\"hover_glyph\":null,\"muted_glyph\":{\"id\":\"25337\"},\"nonselection_glyph\":{\"id\":\"25336\"},\"selection_glyph\":{\"id\":\"25340\"},\"view\":{\"id\":\"25339\"}},\"id\":\"25338\",\"type\":\"GlyphRenderer\"},{\"attributes\":{},\"id\":\"24973\",\"type\":\"Selection\"},{\"attributes\":{},\"id\":\"24829\",\"type\":\"BasicTickFormatter\"},{\"attributes\":{\"line_color\":\"red\",\"line_width\":2,\"x\":{\"field\":\"year\"},\"y\":{\"field\":\"average_house_value\"}},\"id\":\"25335\",\"type\":\"Line\"},{\"attributes\":{\"coordinates\":null,\"group\":null,\"text\":\"Dwelling Types in Toronto in 2011\",\"text_color\":\"black\",\"text_font_size\":\"12pt\"},\"id\":\"25015\",\"type\":\"Title\"},{\"attributes\":{\"fill_alpha\":{\"value\":0.1},\"fill_color\":{\"value\":\"black\"},\"hatch_alpha\":{\"value\":0.1},\"line_alpha\":{\"value\":0.1},\"top\":{\"field\":\"dwelling\"},\"width\":{\"value\":0.8},\"x\":{\"field\":\"index\"}},\"id\":\"24976\",\"type\":\"VBar\"},{\"attributes\":{\"children\":[{\"id\":\"24862\"}],\"css_classes\":[\"panel-widget-box\"],\"margin\":[5,5,5,5],\"name\":\"WidgetBox28682\"},\"id\":\"24861\",\"type\":\"Column\"},{\"attributes\":{\"callback\":null,\"renderers\":[{\"id\":\"24978\"}],\"tags\":[\"hv_created\"],\"tooltips\":[[\"index\",\"@{index}\"],[\"dwelling\",\"@{dwelling}\"]]},\"id\":\"24942\",\"type\":\"HoverTool\"},{\"attributes\":{\"callback\":null,\"renderers\":[{\"id\":\"24824\"}],\"tags\":[\"hv_created\"],\"tooltips\":[[\"year\",\"@{year}\"],[\"average_house_value\",\"@{average_house_value}\"]]},\"id\":\"24787\",\"type\":\"HoverTool\"},{\"attributes\":{},\"id\":\"25021\",\"type\":\"LinearScale\"},{\"attributes\":{\"tools\":[{\"id\":\"25301\"},{\"id\":\"25319\"},{\"id\":\"25320\"},{\"id\":\"25321\"},{\"id\":\"25322\"},{\"id\":\"25323\"}]},\"id\":\"25325\",\"type\":\"Toolbar\"},{\"attributes\":{},\"id\":\"24830\",\"type\":\"AllLabels\"},{\"attributes\":{\"margin\":[0,0,0,0],\"name\":\"Column25051\"},\"id\":\"25009\",\"type\":\"Column\"},{\"attributes\":{},\"id\":\"25319\",\"type\":\"SaveTool\"},{\"attributes\":{\"children\":[{\"id\":\"25152\"},{\"id\":\"25223\"}],\"margin\":[0,0,0,0],\"name\":\"Column27128\"},\"id\":\"25151\",\"type\":\"Column\"},{\"attributes\":{\"below\":[{\"id\":\"24952\"}],\"center\":[{\"id\":\"24954\"},{\"id\":\"24958\"}],\"height\":500,\"left\":[{\"id\":\"24955\"}],\"margin\":[5,5,5,5],\"min_border_bottom\":10,\"min_border_left\":10,\"min_border_right\":10,\"min_border_top\":10,\"renderers\":[{\"id\":\"24978\"}],\"sizing_mode\":\"fixed\",\"title\":{\"id\":\"24944\"},\"toolbar\":{\"id\":\"24965\"},\"width\":650,\"x_range\":{\"id\":\"24869\"},\"x_scale\":{\"id\":\"24948\"},\"y_range\":{\"id\":\"24870\"},\"y_scale\":{\"id\":\"24950\"}},\"id\":\"24943\",\"subtype\":\"Figure\",\"type\":\"Plot\"},{\"attributes\":{\"axis_label\":\"2011\",\"coordinates\":null,\"formatter\":{\"id\":\"25054\"},\"group\":null,\"major_label_orientation\":1.5707963267948966,\"major_label_policy\":{\"id\":\"25055\"},\"ticker\":{\"id\":\"25024\"}},\"id\":\"25023\",\"type\":\"CategoricalAxis\"},{\"attributes\":{},\"id\":\"25320\",\"type\":\"PanTool\"},{\"attributes\":{\"below\":[{\"id\":\"24797\"}],\"center\":[{\"id\":\"24800\"},{\"id\":\"24804\"}],\"height\":300,\"left\":[{\"id\":\"24801\"}],\"margin\":[5,5,5,5],\"min_border_bottom\":10,\"min_border_left\":10,\"min_border_right\":10,\"min_border_top\":10,\"renderers\":[{\"id\":\"24824\"}],\"sizing_mode\":\"fixed\",\"title\":{\"id\":\"24789\"},\"toolbar\":{\"id\":\"24811\"},\"width\":700,\"x_range\":{\"id\":\"24785\"},\"x_scale\":{\"id\":\"24793\"},\"y_range\":{\"id\":\"24786\"},\"y_scale\":{\"id\":\"24795\"}},\"id\":\"24788\",\"subtype\":\"Figure\",\"type\":\"Plot\"},{\"attributes\":{},\"id\":\"24948\",\"type\":\"CategoricalScale\"},{\"attributes\":{},\"id\":\"25321\",\"type\":\"WheelZoomTool\"},{\"attributes\":{\"child\":{\"id\":\"24784\"},\"name\":\"Analysis of All Neighborhoods\",\"title\":\"Analysis of All Neighborhoods\"},\"id\":\"24864\",\"type\":\"Panel\"},{\"attributes\":{},\"id\":\"25019\",\"type\":\"CategoricalScale\"},{\"attributes\":{\"format\":\"%.0f\"},\"id\":\"24827\",\"type\":\"PrintfTickFormatter\"},{\"attributes\":{},\"id\":\"25323\",\"type\":\"ResetTool\"},{\"attributes\":{\"coordinates\":null,\"group\":null,\"text\":\"Dwelling Types in Toronto in 2006\",\"text_color\":\"black\",\"text_font_size\":\"12pt\"},\"id\":\"24944\",\"type\":\"Title\"},{\"attributes\":{\"overlay\":{\"id\":\"25324\"}},\"id\":\"25322\",\"type\":\"BoxZoomTool\"},{\"attributes\":{},\"id\":\"24819\",\"type\":\"Selection\"},{\"attributes\":{\"fill_color\":{\"value\":\"black\"},\"top\":{\"field\":\"dwelling\"},\"width\":{\"value\":0.8},\"x\":{\"field\":\"index\"}},\"id\":\"24975\",\"type\":\"VBar\"},{\"attributes\":{},\"id\":\"25024\",\"type\":\"CategoricalTicker\"},{\"attributes\":{\"axis_label\":\"Dwelling Types in Toronto in 2011\",\"coordinates\":null,\"formatter\":{\"id\":\"25052\"},\"group\":null,\"major_label_policy\":{\"id\":\"25058\"},\"ticker\":{\"id\":\"25027\"}},\"id\":\"25026\",\"type\":\"LinearAxis\"},{\"attributes\":{\"source\":{\"id\":\"25332\"}},\"id\":\"25339\",\"type\":\"CDSView\"},{\"attributes\":{\"data\":{\"average_house_value\":[200388,293140,366667,459051],\"year\":[2001,2006,2011,2016]},\"selected\":{\"id\":\"24819\"},\"selection_policy\":{\"id\":\"24848\"}},\"id\":\"24818\",\"type\":\"ColumnDataSource\"},{\"attributes\":{},\"id\":\"24950\",\"type\":\"LinearScale\"},{\"attributes\":{\"axis\":{\"id\":\"25023\"},\"coordinates\":null,\"grid_line_color\":null,\"group\":null,\"ticker\":null},\"id\":\"25025\",\"type\":\"Grid\"},{\"attributes\":{},\"id\":\"24833\",\"type\":\"AllLabels\"},{\"attributes\":{\"coordinates\":null,\"group\":null,\"text\":\"Top 10 Expensivest Neighbourhoods in Toronto\",\"text_color\":\"black\",\"text_font_size\":\"12pt\"},\"id\":\"25454\",\"type\":\"Title\"},{\"attributes\":{\"source\":{\"id\":\"25404\"}},\"id\":\"25411\",\"type\":\"CDSView\"},{\"attributes\":{\"axis\":{\"id\":\"25026\"},\"coordinates\":null,\"dimension\":1,\"grid_line_color\":null,\"group\":null,\"ticker\":null},\"id\":\"25029\",\"type\":\"Grid\"},{\"attributes\":{},\"id\":\"25345\",\"type\":\"BasicTickFormatter\"},{\"attributes\":{\"child\":{\"id\":\"25370\"},\"name\":\"Number of Dwelling Types per Year\",\"title\":\"Number of Dwelling Types per Year\"},\"id\":\"25449\",\"type\":\"Panel\"},{\"attributes\":{},\"id\":\"25027\",\"type\":\"BasicTicker\"},{\"attributes\":{\"bottom_units\":\"screen\",\"coordinates\":null,\"fill_alpha\":0.5,\"fill_color\":\"lightgrey\",\"group\":null,\"left_units\":\"screen\",\"level\":\"overlay\",\"line_alpha\":1.0,\"line_color\":\"black\",\"line_dash\":[4,4],\"line_width\":2,\"right_units\":\"screen\",\"syncable\":false,\"top_units\":\"screen\"},\"id\":\"25324\",\"type\":\"BoxAnnotation\"},{\"attributes\":{\"line_color\":\"red\",\"line_width\":2,\"x\":{\"field\":\"year\"},\"y\":{\"field\":\"average_house_value\"}},\"id\":\"25340\",\"type\":\"Line\"},{\"attributes\":{\"children\":[{\"id\":\"24872\"}],\"margin\":[0,0,0,0],\"name\":\"Row24797\"},\"id\":\"24868\",\"type\":\"Row\"},{\"attributes\":{\"end\":4086.5,\"reset_end\":4086.5,\"reset_start\":0.0,\"tags\":[[[\"value\",\"value\",null]]]},\"id\":\"25372\",\"type\":\"Range1d\"},{\"attributes\":{\"fill_alpha\":{\"value\":0.2},\"fill_color\":{\"value\":\"yellow\"},\"hatch_alpha\":{\"value\":0.2},\"hatch_color\":{\"value\":\"yellow\"},\"line_alpha\":{\"value\":0.2},\"top\":{\"field\":\"dwelling\"},\"width\":{\"value\":0.8},\"x\":{\"field\":\"index\"}},\"id\":\"25048\",\"type\":\"VBar\"},{\"attributes\":{\"source\":{\"id\":\"25043\"}},\"id\":\"25050\",\"type\":\"CDSView\"},{\"attributes\":{\"coordinates\":null,\"data_source\":{\"id\":\"25043\"},\"glyph\":{\"id\":\"25046\"},\"group\":null,\"hover_glyph\":null,\"muted_glyph\":{\"id\":\"25048\"},\"nonselection_glyph\":{\"id\":\"25047\"},\"selection_glyph\":{\"id\":\"25051\"},\"view\":{\"id\":\"25050\"}},\"id\":\"25049\",\"type\":\"GlyphRenderer\"},{\"attributes\":{},\"id\":\"25189\",\"type\":\"Selection\"},{\"attributes\":{\"fill_color\":{\"value\":\"#30a2da\"},\"hatch_color\":{\"value\":\"#30a2da\"},\"top\":{\"field\":\"average_house_value\"},\"width\":{\"value\":0.8},\"x\":{\"field\":\"neighbourhood\"}},\"id\":\"25485\",\"type\":\"VBar\"},{\"attributes\":{\"margin\":[5,5,5,5],\"name\":\"VSpacer28696\",\"sizing_mode\":\"stretch_height\"},\"id\":\"25448\",\"type\":\"Spacer\"},{\"attributes\":{\"tools\":[{\"id\":\"25013\"},{\"id\":\"25030\"},{\"id\":\"25031\"},{\"id\":\"25032\"},{\"id\":\"25033\"},{\"id\":\"25034\"}]},\"id\":\"25036\",\"type\":\"Toolbar\"},{\"attributes\":{},\"id\":\"25354\",\"type\":\"UnionRenderers\"},{\"attributes\":{},\"id\":\"25483\",\"type\":\"Selection\"},{\"attributes\":{\"coordinates\":null,\"data_source\":{\"id\":\"25404\"},\"glyph\":{\"id\":\"25407\"},\"group\":null,\"hover_glyph\":null,\"muted_glyph\":{\"id\":\"25409\"},\"nonselection_glyph\":{\"id\":\"25408\"},\"selection_glyph\":{\"id\":\"25412\"},\"view\":{\"id\":\"25411\"}},\"id\":\"25410\",\"type\":\"GlyphRenderer\"},{\"attributes\":{},\"id\":\"25030\",\"type\":\"SaveTool\"},{\"attributes\":{},\"id\":\"25469\",\"type\":\"SaveTool\"},{\"attributes\":{},\"id\":\"25405\",\"type\":\"Selection\"},{\"attributes\":{\"source\":{\"id\":\"25482\"}},\"id\":\"25489\",\"type\":\"CDSView\"},{\"attributes\":{},\"id\":\"25031\",\"type\":\"PanTool\"},{\"attributes\":{},\"id\":\"25032\",\"type\":\"WheelZoomTool\"},{\"attributes\":{\"fill_color\":{\"field\":\"Variable\",\"transform\":{\"id\":\"25403\"}},\"hatch_color\":{\"field\":\"Variable\",\"transform\":{\"id\":\"25403\"}},\"top\":{\"field\":\"value\"},\"width\":{\"value\":0.8},\"x\":{\"field\":\"xoffsets\"}},\"id\":\"25407\",\"type\":\"VBar\"},{\"attributes\":{\"overlay\":{\"id\":\"25035\"}},\"id\":\"25033\",\"type\":\"BoxZoomTool\"},{\"attributes\":{},\"id\":\"25458\",\"type\":\"CategoricalScale\"},{\"attributes\":{},\"id\":\"25342\",\"type\":\"BasicTickFormatter\"},{\"attributes\":{\"callback\":null,\"renderers\":[{\"id\":\"25410\"}],\"tags\":[\"hv_created\"],\"tooltips\":[[\"year\",\"@{year}\"],[\"Variable\",\"@{Variable}\"],[\"value\",\"@{value}\"]]},\"id\":\"25373\",\"type\":\"HoverTool\"},{\"attributes\":{\"below\":[{\"id\":\"25462\"}],\"center\":[{\"id\":\"25464\"},{\"id\":\"25468\"}],\"height\":500,\"left\":[{\"id\":\"25465\"}],\"margin\":[5,5,5,5],\"min_border_bottom\":10,\"min_border_left\":10,\"min_border_right\":10,\"min_border_top\":10,\"renderers\":[{\"id\":\"25488\"}],\"sizing_mode\":\"fixed\",\"title\":{\"id\":\"25454\"},\"toolbar\":{\"id\":\"25475\"},\"width\":500,\"x_range\":{\"id\":\"25450\"},\"x_scale\":{\"id\":\"25458\"},\"y_range\":{\"id\":\"24786\"},\"y_scale\":{\"id\":\"25460\"}},\"id\":\"25453\",\"subtype\":\"Figure\",\"type\":\"Plot\"},{\"attributes\":{},\"id\":\"25343\",\"type\":\"AllLabels\"},{\"attributes\":{\"overlay\":{\"id\":\"25474\"}},\"id\":\"25472\",\"type\":\"BoxZoomTool\"},{\"attributes\":{},\"id\":\"25346\",\"type\":\"AllLabels\"},{\"attributes\":{\"margin\":[20,20,20,20],\"min_width\":250,\"options\":[\"Agincourt North\",\"Agincourt South-Malvern West\",\"Alderwood\",\"Annex\",\"Banbury-Don Mills\",\"Bathurst Manor\",\"Bay Street Corridor\",\"Bayview Village\",\"Bayview Woods-Steeles\",\"Bedford Park-Nortown\",\"Beechborough-Greenbrook\",\"Bendale\",\"Birchcliffe-Cliffside\",\"Black Creek\",\"Blake-Jones\",\"Briar Hill-Belgravia\",\"Bridle Path-Sunnybrook-York Mills\",\"Broadview North\",\"Brookhaven-Amesbury\",\"Cabbagetown-South St.James Town\",\"Caledonia-Fairbank\",\"Casa Loma\",\"Centennial Scarborough\",\"Church-Yonge Corridor\",\"Clairlea-Birchmount\",\"Clanton Park\",\"Cliffcrest\",\"Corso Italia-Davenport\",\"Danforth\",\"Danforth-East York\",\"Don Valley Village\",\"Dorset Park\",\"Dovercourt-Wallace Emerson-Juncti\",\"Downsview-Roding-CFB\",\"Dufferin Grove\",\"East End-Danforth\",\"Edenbridge-Humber Valley\",\"Eglinton East\",\"Elms-Old Rexdale\",\"Englemount-Lawrence\",\"Eringate-Centennial-West Deane\",\"Etobicoke West Mall\",\"Flemingdon Park\",\"Forest Hill North\",\"Forest Hill South\",\"Glenfield-Jane Heights\",\"Greenwood-Coxwell\",\"Guildwood\",\"Henry Farm\",\"High Park North\",\"High Park-Swansea\",\"Highland Creek\",\"Hillcrest Village\",\"Humber Heights-Westmount\",\"Humber Summit\",\"Humbermede\",\"Humewood-Cedarvale\",\"Ionview\",\"Islington-City Centre West\",\"Junction Area\",\"Keelesdale-Eglinton West\",\"Kennedy Park\",\"Kensington-Chinatown\",\"Kingsview Village-The Westway\",\"Kingsway South\",\"L'Amoreaux\",\"Lambton Baby Point\",\"Lansing-Westgate\",\"Lawrence Park North\",\"Lawrence Park South\",\"Leaside-Bennington\",\"Little Portugal\",\"Long Branch\",\"Malvern\",\"Maple Leaf\",\"Markland Wood\",\"Milliken\",\"Mimico\",\"Morningside\",\"Moss Park\",\"Mount Dennis\",\"Mount Olive-Silverstone-Jamestown\",\"Mount Pleasant East\",\"Mount Pleasant West\",\"New Toronto\",\"Newtonbrook East\",\"Newtonbrook West\",\"Niagara\",\"North Riverdale\",\"North St.James Town\",\"O'Connor-Parkview\",\"Oakridge\",\"Oakwood Village\",\"Old East York\",\"Palmerston-Little Italy\",\"Parkwoods-Donalda\",\"Pelmo Park-Humberlea\",\"Playter Estates-Danforth\",\"Pleasant View\",\"Princess-Rosethorn\",\"Regent Park\",\"Rexdale-Kipling\",\"Rockcliffe-Smythe\",\"Roncesvalles\",\"Rosedale-Moore Park\",\"Rouge\",\"Runnymede-Bloor West Village\",\"Rustic\",\"Scarborough Village\",\"South Parkdale\",\"South Riverdale\",\"St.Andrew-Windfields\",\"Steeles\",\"Stonegate-Queensway\",\"Tam O'Shanter-Sullivan\",\"Taylor-Massey\",\"The Beaches\",\"Thistletown-Beaumond Heights\",\"Thorncliffe Park\",\"Trinity-Bellwoods\",\"University\",\"Victoria Village\",\"Waterfront Communities-The Island\",\"West Hill\",\"West Humber-Clairville\",\"Westminster-Branson\",\"Weston\",\"Weston-Pellam Park\",\"Wexford/Maryvale\",\"Willowdale East\",\"Willowdale West\",\"Willowridge-Martingrove-Richview\",\"Woburn\",\"Woodbine Corridor\",\"Woodbine-Lumsden\",\"Wychwood\",\"Yonge-Eglinton\",\"Yonge-St.Clair\",\"York University Heights\",\"Yorkdale-Glen Park\"],\"title\":\"neighbourhood\",\"value\":\"Agincourt North\",\"width\":250},\"id\":\"25447\",\"type\":\"Select\"},{\"attributes\":{\"end\":1852.7578571428571,\"reset_end\":1852.7578571428571,\"reset_start\":755.435,\"start\":755.435,\"tags\":[[[\"shelter_costs_owned\",\"shelter_costs_owned\",null]]]},\"id\":\"25156\",\"type\":\"Range1d\"},{\"attributes\":{},\"id\":\"25034\",\"type\":\"ResetTool\"},{\"attributes\":{\"factors\":[\"single_detached_house\",\"apartment_five_storeys_plus\",\"movable_dwelling\",\"semi_detached_house\",\"row_house\",\"duplex\",\"apartment_five_storeys_less\",\"other_house\"],\"palette\":[\"#30a2da\",\"#fc4f30\",\"#e5ae38\",\"#6d904f\",\"#8b8b8b\",\"#17becf\",\"#9467bd\",\"#d62728\"]},\"id\":\"25403\",\"type\":\"CategoricalColorMapper\"},{\"attributes\":{\"factors\":[[\"2001\",\"other_house\"],[\"2001\",\"apartment_five_storeys_less\"],[\"2001\",\"duplex\"],[\"2001\",\"row_house\"],[\"2001\",\"semi_detached_house\"],[\"2001\",\"movable_dwelling\"],[\"2001\",\"apartment_five_storeys_plus\"],[\"2001\",\"single_detached_house\"],[\"2006\",\"other_house\"],[\"2006\",\"apartment_five_storeys_less\"],[\"2006\",\"duplex\"],[\"2006\",\"row_house\"],[\"2006\",\"semi_detached_house\"],[\"2006\",\"movable_dwelling\"],[\"2006\",\"apartment_five_storeys_plus\"],[\"2006\",\"single_detached_house\"],[\"2011\",\"other_house\"],[\"2011\",\"apartment_five_storeys_less\"],[\"2011\",\"duplex\"],[\"2011\",\"row_house\"],[\"2011\",\"semi_detached_house\"],[\"2011\",\"movable_dwelling\"],[\"2011\",\"apartment_five_storeys_plus\"],[\"2011\",\"single_detached_house\"],[\"2016\",\"other_house\"],[\"2016\",\"apartment_five_storeys_less\"],[\"2016\",\"duplex\"],[\"2016\",\"row_house\"],[\"2016\",\"semi_detached_house\"],[\"2016\",\"movable_dwelling\"],[\"2016\",\"apartment_five_storeys_plus\"],[\"2016\",\"single_detached_house\"]],\"tags\":[[[\"year\",\"year\",null],[\"Variable\",\"Variable\",null]]]},\"id\":\"25371\",\"type\":\"FactorRange\"},{\"attributes\":{\"bottom_units\":\"screen\",\"coordinates\":null,\"fill_alpha\":0.5,\"fill_color\":\"lightgrey\",\"group\":null,\"left_units\":\"screen\",\"level\":\"overlay\",\"line_alpha\":1.0,\"line_color\":\"black\",\"line_dash\":[4,4],\"line_width\":2,\"right_units\":\"screen\",\"syncable\":false,\"top_units\":\"screen\"},\"id\":\"25035\",\"type\":\"BoxAnnotation\"},{\"attributes\":{},\"id\":\"25460\",\"type\":\"LinearScale\"},{\"attributes\":{\"format\":\"%.0f2\"},\"id\":\"25052\",\"type\":\"PrintfTickFormatter\"},{\"attributes\":{\"child\":{\"id\":\"25453\"},\"name\":\"Richest Neighbourhoods\",\"title\":\"Richest Neighbourhoods\"},\"id\":\"25518\",\"type\":\"Panel\"},{\"attributes\":{\"below\":[{\"id\":\"25383\"}],\"center\":[{\"id\":\"25385\"},{\"id\":\"25389\"}],\"height\":500,\"left\":[{\"id\":\"25386\"}],\"margin\":[5,5,5,5],\"min_border_bottom\":10,\"min_border_left\":10,\"min_border_right\":10,\"min_border_top\":10,\"renderers\":[{\"id\":\"25410\"}],\"sizing_mode\":\"fixed\",\"title\":{\"id\":\"25375\"},\"toolbar\":{\"id\":\"25396\"},\"width\":650,\"x_range\":{\"id\":\"25371\"},\"x_scale\":{\"id\":\"25379\"},\"y_range\":{\"id\":\"25372\"},\"y_scale\":{\"id\":\"25381\"}},\"id\":\"25374\",\"subtype\":\"Figure\",\"type\":\"Plot\"},{\"attributes\":{\"below\":[{\"id\":\"25167\"}],\"center\":[{\"id\":\"25170\"},{\"id\":\"25174\"}],\"height\":300,\"left\":[{\"id\":\"25171\"}],\"margin\":[5,5,5,5],\"min_border_bottom\":10,\"min_border_left\":10,\"min_border_right\":10,\"min_border_top\":10,\"renderers\":[{\"id\":\"25194\"}],\"sizing_mode\":\"fixed\",\"title\":{\"id\":\"25159\"},\"toolbar\":{\"id\":\"25181\"},\"width\":700,\"x_range\":{\"id\":\"24785\"},\"x_scale\":{\"id\":\"25163\"},\"y_range\":{\"id\":\"25156\"},\"y_scale\":{\"id\":\"25165\"}},\"id\":\"25158\",\"subtype\":\"Figure\",\"type\":\"Plot\"},{\"attributes\":{\"coordinates\":null,\"group\":null,\"text\":\"neighbourhood: Agincourt North\",\"text_color\":\"black\",\"text_font_size\":\"12pt\"},\"id\":\"25375\",\"type\":\"Title\"},{\"attributes\":{\"fill_alpha\":{\"value\":0.2},\"fill_color\":{\"value\":\"#30a2da\"},\"hatch_alpha\":{\"value\":0.2},\"hatch_color\":{\"value\":\"#30a2da\"},\"line_alpha\":{\"value\":0.2},\"top\":{\"field\":\"average_house_value\"},\"width\":{\"value\":0.8},\"x\":{\"field\":\"neighbourhood\"}},\"id\":\"25487\",\"type\":\"VBar\"},{\"attributes\":{\"children\":[{\"id\":\"25224\"},{\"id\":\"25225\"}],\"margin\":[0,0,0,0],\"name\":\"Column27047\"},\"id\":\"25223\",\"type\":\"Column\"},{\"attributes\":{},\"id\":\"25381\",\"type\":\"LinearScale\"},{\"attributes\":{},\"id\":\"25054\",\"type\":\"CategoricalTickFormatter\"},{\"attributes\":{\"factors\":[\"Bridle Path-Sunnybrook-York Mills\",\"Forest Hill South\",\"Lawrence Park South\",\"Rosedale-Moore Park\",\"St.Andrew-Windfields\",\"Casa Loma\",\"Bedford Park-Nortown\",\"Forest Hill North\",\"Kingsway South\",\"Yonge-St.Clair\"],\"tags\":[[[\"neighbourhood\",\"neighbourhood\",null]]]},\"id\":\"25450\",\"type\":\"FactorRange\"},{\"attributes\":{\"children\":[{\"id\":\"25085\"}],\"margin\":[0,0,0,0],\"name\":\"Row25176\"},\"id\":\"25081\",\"type\":\"Row\"},{\"attributes\":{\"source\":{\"id\":\"25188\"}},\"id\":\"25195\",\"type\":\"CDSView\"},{\"attributes\":{\"children\":[{\"id\":\"25446\"},{\"id\":\"25448\"}],\"margin\":[0,0,0,0],\"name\":\"Column28697\"},\"id\":\"25445\",\"type\":\"Column\"},{\"attributes\":{\"coordinates\":null,\"group\":null,\"text\":\"Average Monthly Shelter Costs for owned Dwellling in Toronto\",\"text_color\":\"black\",\"text_font_size\":\"12pt\"},\"id\":\"25159\",\"type\":\"Title\"},{\"attributes\":{\"axis_label\":\"Year\",\"coordinates\":null,\"formatter\":{\"id\":\"25414\"},\"group\":null,\"major_label_orientation\":1.5707963267948966,\"major_label_policy\":{\"id\":\"25415\"},\"ticker\":{\"id\":\"25384\"}},\"id\":\"25383\",\"type\":\"CategoricalAxis\"},{\"attributes\":{\"axis_label\":\"Neighbourhoods\",\"coordinates\":null,\"formatter\":{\"id\":\"25493\"},\"group\":null,\"major_label_orientation\":1.5707963267948966,\"major_label_policy\":{\"id\":\"25494\"},\"ticker\":{\"id\":\"25463\"}},\"id\":\"25462\",\"type\":\"CategoricalAxis\"},{\"attributes\":{\"axis\":{\"id\":\"25386\"},\"coordinates\":null,\"dimension\":1,\"grid_line_color\":null,\"group\":null,\"ticker\":null},\"id\":\"25389\",\"type\":\"Grid\"},{\"attributes\":{},\"id\":\"25165\",\"type\":\"LinearScale\"},{\"attributes\":{},\"id\":\"25379\",\"type\":\"CategoricalScale\"},{\"attributes\":{\"bottom\":{\"value\":0},\"fill_alpha\":{\"value\":1.0},\"fill_color\":{\"value\":\"yellow\"},\"hatch_alpha\":{\"value\":1.0},\"hatch_color\":{\"value\":\"yellow\"},\"hatch_scale\":{\"value\":12.0},\"hatch_weight\":{\"value\":1.0},\"line_alpha\":{\"value\":1.0},\"line_cap\":{\"value\":\"butt\"},\"line_color\":{\"value\":\"black\"},\"line_dash\":{\"value\":[]},\"line_dash_offset\":{\"value\":0},\"line_join\":{\"value\":\"bevel\"},\"line_width\":{\"value\":1},\"top\":{\"field\":\"dwelling\"},\"width\":{\"value\":0.8},\"x\":{\"field\":\"index\"}},\"id\":\"25051\",\"type\":\"VBar\"},{\"attributes\":{\"line_alpha\":0.2,\"line_color\":\"blue\",\"line_width\":2,\"x\":{\"field\":\"year\"},\"y\":{\"field\":\"shelter_costs_owned\"}},\"id\":\"25193\",\"type\":\"Line\"},{\"attributes\":{\"fill_alpha\":{\"value\":0.1},\"fill_color\":{\"value\":\"#30a2da\"},\"hatch_alpha\":{\"value\":0.1},\"hatch_color\":{\"value\":\"#30a2da\"},\"line_alpha\":{\"value\":0.1},\"top\":{\"field\":\"average_house_value\"},\"width\":{\"value\":0.8},\"x\":{\"field\":\"neighbourhood\"}},\"id\":\"25486\",\"type\":\"VBar\"},{\"attributes\":{},\"id\":\"25384\",\"type\":\"CategoricalTicker\"},{\"attributes\":{\"callback\":null,\"renderers\":[{\"id\":\"25194\"}],\"tags\":[\"hv_created\"],\"tooltips\":[[\"year\",\"@{year}\"],[\"shelter_costs_owned\",\"@{shelter_costs_owned}\"]]},\"id\":\"25157\",\"type\":\"HoverTool\"},{\"attributes\":{\"axis\":{\"id\":\"25383\"},\"coordinates\":null,\"grid_line_color\":null,\"group\":null,\"ticker\":null},\"id\":\"25385\",\"type\":\"Grid\"},{\"attributes\":{},\"id\":\"25055\",\"type\":\"AllLabels\"},{\"attributes\":{},\"id\":\"25471\",\"type\":\"WheelZoomTool\"},{\"attributes\":{},\"id\":\"25387\",\"type\":\"BasicTicker\"},{\"attributes\":{\"axis\":{\"id\":\"25171\"},\"coordinates\":null,\"dimension\":1,\"grid_line_color\":null,\"group\":null,\"ticker\":null},\"id\":\"25174\",\"type\":\"Grid\"},{\"attributes\":{},\"id\":\"25058\",\"type\":\"AllLabels\"},{\"attributes\":{},\"id\":\"25466\",\"type\":\"BasicTicker\"},{\"attributes\":{\"axis_label\":\"Dwelling Type Units\",\"coordinates\":null,\"formatter\":{\"id\":\"25417\"},\"group\":null,\"major_label_policy\":{\"id\":\"25418\"},\"ticker\":{\"id\":\"25387\"}},\"id\":\"25386\",\"type\":\"LinearAxis\"},{\"attributes\":{\"axis_label\":\"Year\",\"coordinates\":null,\"formatter\":{\"id\":\"25198\"},\"group\":null,\"major_label_policy\":{\"id\":\"25199\"},\"ticker\":{\"id\":\"25168\"}},\"id\":\"25167\",\"type\":\"LinearAxis\"},{\"attributes\":{},\"id\":\"25163\",\"type\":\"LinearScale\"},{\"attributes\":{\"children\":[{\"id\":\"25158\"}],\"margin\":[0,0,0,0],\"name\":\"Row27044\"},\"id\":\"25154\",\"type\":\"Row\"},{\"attributes\":{\"children\":[{\"id\":\"25447\"}],\"css_classes\":[\"panel-widget-box\"],\"margin\":[5,5,5,5],\"name\":\"WidgetBox28691\"},\"id\":\"25446\",\"type\":\"Column\"},{\"attributes\":{},\"id\":\"25168\",\"type\":\"BasicTicker\"},{\"attributes\":{\"coordinates\":null,\"data_source\":{\"id\":\"25482\"},\"glyph\":{\"id\":\"25485\"},\"group\":null,\"hover_glyph\":null,\"muted_glyph\":{\"id\":\"25487\"},\"nonselection_glyph\":{\"id\":\"25486\"},\"selection_glyph\":{\"id\":\"25490\"},\"view\":{\"id\":\"25489\"}},\"id\":\"25488\",\"type\":\"GlyphRenderer\"},{\"attributes\":{\"axis_label\":\"Avg House Value\",\"coordinates\":null,\"formatter\":{\"id\":\"25491\"},\"group\":null,\"major_label_policy\":{\"id\":\"25497\"},\"ticker\":{\"id\":\"25466\"}},\"id\":\"25465\",\"type\":\"LinearAxis\"},{\"attributes\":{\"axis\":{\"id\":\"25167\"},\"coordinates\":null,\"grid_line_color\":null,\"group\":null,\"ticker\":null},\"id\":\"25170\",\"type\":\"Grid\"},{\"attributes\":{\"tools\":[{\"id\":\"25452\"},{\"id\":\"25469\"},{\"id\":\"25470\"},{\"id\":\"25471\"},{\"id\":\"25472\"},{\"id\":\"25473\"}]},\"id\":\"25475\",\"type\":\"Toolbar\"},{\"attributes\":{\"tools\":[{\"id\":\"25373\"},{\"id\":\"25390\"},{\"id\":\"25391\"},{\"id\":\"25392\"},{\"id\":\"25393\"},{\"id\":\"25394\"}]},\"id\":\"25396\",\"type\":\"Toolbar\"},{\"attributes\":{},\"id\":\"25172\",\"type\":\"BasicTicker\"},{\"attributes\":{\"axis\":{\"id\":\"25465\"},\"coordinates\":null,\"dimension\":1,\"grid_line_color\":null,\"group\":null,\"ticker\":null},\"id\":\"25468\",\"type\":\"Grid\"},{\"attributes\":{\"fill_alpha\":{\"value\":0.2},\"fill_color\":{\"field\":\"Variable\",\"transform\":{\"id\":\"25403\"}},\"hatch_alpha\":{\"value\":0.2},\"hatch_color\":{\"field\":\"Variable\",\"transform\":{\"id\":\"25403\"}},\"line_alpha\":{\"value\":0.2},\"top\":{\"field\":\"value\"},\"width\":{\"value\":0.8},\"x\":{\"field\":\"xoffsets\"}},\"id\":\"25409\",\"type\":\"VBar\"},{\"attributes\":{\"axis_label\":\"Avg Monthly Shelter Costs\",\"coordinates\":null,\"formatter\":{\"id\":\"25201\"},\"group\":null,\"major_label_policy\":{\"id\":\"25202\"},\"ticker\":{\"id\":\"25172\"}},\"id\":\"25171\",\"type\":\"LinearAxis\"},{\"attributes\":{},\"id\":\"25390\",\"type\":\"SaveTool\"},{\"attributes\":{},\"id\":\"25067\",\"type\":\"UnionRenderers\"},{\"attributes\":{\"data\":{\"dwelling\":[269680,493270,95,71200,61565,48585,165575,2845],\"index\":[\"single_detached_house\",\"apartment_five_storeys_plus\",\"movable_dwelling\",\"semi_detached_house\",\"row_house\",\"duplex\",\"apartment_five_storeys_less\",\"other_house\"]},\"selected\":{\"id\":\"25115\"},\"selection_policy\":{\"id\":\"25138\"}},\"id\":\"25114\",\"type\":\"ColumnDataSource\"},{\"attributes\":{},\"id\":\"25470\",\"type\":\"PanTool\"},{\"attributes\":{},\"id\":\"25391\",\"type\":\"PanTool\"},{\"attributes\":{\"data\":{\"dwelling\":[300930,355015,75,90995,52355,23785,116900,3040],\"index\":[\"single_detached_house\",\"apartment_five_storeys_plus\",\"movable_dwelling\",\"semi_detached_house\",\"row_house\",\"duplex\",\"apartment_five_storeys_less\",\"other_house\"]},\"selected\":{\"id\":\"24902\"},\"selection_policy\":{\"id\":\"24925\"}},\"id\":\"24901\",\"type\":\"ColumnDataSource\"},{\"attributes\":{\"line_color\":\"blue\",\"line_width\":2,\"x\":{\"field\":\"year\"},\"y\":{\"field\":\"shelter_costs_owned\"}},\"id\":\"25191\",\"type\":\"Line\"},{\"attributes\":{},\"id\":\"25392\",\"type\":\"WheelZoomTool\"},{\"attributes\":{\"coordinates\":null,\"data_source\":{\"id\":\"25188\"},\"glyph\":{\"id\":\"25191\"},\"group\":null,\"hover_glyph\":null,\"muted_glyph\":{\"id\":\"25193\"},\"nonselection_glyph\":{\"id\":\"25192\"},\"selection_glyph\":{\"id\":\"25196\"},\"view\":{\"id\":\"25195\"}},\"id\":\"25194\",\"type\":\"GlyphRenderer\"},{\"attributes\":{},\"id\":\"25394\",\"type\":\"ResetTool\"},{\"attributes\":{\"line_alpha\":0.1,\"line_color\":\"blue\",\"line_width\":2,\"x\":{\"field\":\"year\"},\"y\":{\"field\":\"shelter_costs_owned\"}},\"id\":\"25192\",\"type\":\"Line\"},{\"attributes\":{\"axis\":{\"id\":\"25462\"},\"coordinates\":null,\"grid_line_color\":null,\"group\":null,\"ticker\":null},\"id\":\"25464\",\"type\":\"Grid\"},{\"attributes\":{\"overlay\":{\"id\":\"25395\"}},\"id\":\"25393\",\"type\":\"BoxZoomTool\"},{\"attributes\":{\"tools\":[{\"id\":\"25157\"},{\"id\":\"25175\"},{\"id\":\"25176\"},{\"id\":\"25177\"},{\"id\":\"25178\"},{\"id\":\"25179\"}]},\"id\":\"25181\",\"type\":\"Toolbar\"},{\"attributes\":{},\"id\":\"25463\",\"type\":\"CategoricalTicker\"},{\"attributes\":{},\"id\":\"25175\",\"type\":\"SaveTool\"},{\"attributes\":{\"callback\":null,\"renderers\":[{\"id\":\"25488\"}],\"tags\":[\"hv_created\"],\"tooltips\":[[\"neighbourhood\",\"@{neighbourhood}\"],[\"average_house_value\",\"@{average_house_value}\"]]},\"id\":\"25452\",\"type\":\"HoverTool\"}],\"root_ids\":[\"24783\",\"26269\"]},\"title\":\"Bokeh Application\",\"version\":\"2.4.2\"}};\n",
       "    var render_items = [{\"docid\":\"d38cd581-0394-41a4-b0ae-d2438c25ccd2\",\"root_ids\":[\"24783\"],\"roots\":{\"24783\":\"c9130a02-8fe6-42b2-99f0-8686d6ab5440\"}}];\n",
       "    root.Bokeh.embed.embed_items_notebook(docs_json, render_items);\n",
       "  }\n",
       "  if (root.Bokeh !== undefined && root.Bokeh.Panel !== undefined && ( root['Plotly'] !== undefined)) {\n",
       "    embed_document(root);\n",
       "  } else {\n",
       "    var attempts = 0;\n",
       "    var timer = setInterval(function(root) {\n",
       "      if (root.Bokeh !== undefined && root.Bokeh.Panel !== undefined && (root['Plotly'] !== undefined)) {\n",
       "        clearInterval(timer);\n",
       "        embed_document(root);\n",
       "      } else if (document.readyState == \"complete\") {\n",
       "        attempts++;\n",
       "        if (attempts > 200) {\n",
       "          clearInterval(timer);\n",
       "          console.log(\"Bokeh: ERROR: Unable to run BokehJS code because BokehJS library is missing\");\n",
       "        }\n",
       "      }\n",
       "    }, 25, root)\n",
       "  }\n",
       "})(window);</script>"
      ],
      "text/plain": [
       "Tabs\n",
       "    [0] Row(name='Analysis of A...)\n",
       "        [0] HoloViews(DynamicMap, name='Analysis of A...)\n",
       "        [1] Column\n",
       "            [0] WidgetBox\n",
       "                [0] Select(margin=(20, 20, 20, 20), name='neighbourhood', options=['Agincourt North', ...], value='Agincourt North', width=250)\n",
       "            [1] VSpacer()\n",
       "    [1] Column\n",
       "        [0] Column\n",
       "            [0] Column()\n",
       "            [1] Row\n",
       "                [0] HoloViews(Bars, name='interactive24673')\n",
       "        [1] Column\n",
       "            [0] Column()\n",
       "            [1] Row\n",
       "                [0] HoloViews(Bars, name='interactive24799')\n",
       "        [2] Column\n",
       "            [0] Column()\n",
       "            [1] Row\n",
       "                [0] HoloViews(Bars, name='interactive24926')\n",
       "        [3] Column\n",
       "            [0] Column()\n",
       "            [1] Row\n",
       "                [0] HoloViews(Bars, name='interactive25052')\n",
       "    [2] Column\n",
       "        [0] Column\n",
       "            [0] Column()\n",
       "            [1] Row\n",
       "                [0] HoloViews(Curve, name='interactive26964')\n",
       "        [1] Column\n",
       "            [0] Column()\n",
       "            [1] Row\n",
       "                [0] HoloViews(Curve, name='interactive27046')\n",
       "    [3] Column\n",
       "        [0] Column\n",
       "            [0] Column()\n",
       "            [1] Row\n",
       "                [0] HoloViews(Curve, name='interactive28595')\n",
       "        [1] Plotly(Figure)\n",
       "    [4] Row(name='Number of Dwelling T...)\n",
       "        [0] HoloViews(DynamicMap, name='Number of Dwelling T...)\n",
       "        [1] Column\n",
       "            [0] WidgetBox\n",
       "                [0] Select(margin=(20, 20, 20, 20), name='neighbourhood', options=['Agincourt North', ...], value='Agincourt North', width=250)\n",
       "            [1] VSpacer()\n",
       "    [5] HoloViews(Bars, name='Richest Neighbourhoods')"
      ]
     },
     "execution_count": 264,
     "metadata": {
      "application/vnd.holoviews_exec.v0+json": {
       "id": "24783"
      }
     },
     "output_type": "execute_result"
    }
   ],
   "source": [
    "tabs = pn.Tabs(\n",
    "    (\"Analysis of All Neighborhoods\", linechart_for_average_house_value),\n",
    "    (\"Yearly Market Analysis\", all_bar_charts),\n",
    "    (\"Average Monthly Shelter Costs\", all_line_charts),\n",
    "    (\"Line Chart and Map Analysis of Average House Value\", avg_hv),\n",
    "    (\"Number of Dwelling Types per Year\", barchart_number_of_dwelling_types_per_year),\n",
    "    (\"Richest Neighbourhoods\", top_10)\n",
    ")\n",
    "tabs"
   ]
  },
  {
   "cell_type": "code",
   "execution_count": null,
   "id": "56ec4aef-cb98-4118-a5f6-e626ff32bbb8",
   "metadata": {},
   "outputs": [],
   "source": []
  },
  {
   "cell_type": "code",
   "execution_count": null,
   "id": "a7735792-2df5-4f17-9116-2a8b03191744",
   "metadata": {},
   "outputs": [],
   "source": []
  },
  {
   "cell_type": "code",
   "execution_count": null,
   "id": "d9d7f179-26fe-4949-abd3-3e68d9f81489",
   "metadata": {},
   "outputs": [],
   "source": [
    "   "
   ]
  },
  {
   "cell_type": "code",
   "execution_count": null,
   "id": "8f6f648f-2324-4261-abbd-5ea7cf5b61d4",
   "metadata": {},
   "outputs": [],
   "source": []
  },
  {
   "cell_type": "code",
   "execution_count": null,
   "id": "2d525b35-80e8-42c3-b3c9-00318f29e39f",
   "metadata": {},
   "outputs": [],
   "source": []
  }
 ],
 "metadata": {
  "kernelspec": {
   "display_name": "Python 3 (ipykernel)",
   "language": "python",
   "name": "python3"
  },
  "language_info": {
   "codemirror_mode": {
    "name": "ipython",
    "version": 3
   },
   "file_extension": ".py",
   "mimetype": "text/x-python",
   "name": "python",
   "nbconvert_exporter": "python",
   "pygments_lexer": "ipython3",
   "version": "3.7.13"
  }
 },
 "nbformat": 4,
 "nbformat_minor": 5
}
